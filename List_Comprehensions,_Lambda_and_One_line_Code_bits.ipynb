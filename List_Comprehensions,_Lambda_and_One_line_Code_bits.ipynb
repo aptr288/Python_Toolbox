{
  "nbformat": 4,
  "nbformat_minor": 0,
  "metadata": {
    "colab": {
      "name": "List Comprehensions, Lambda and One line Code bits.ipynb",
      "version": "0.3.2",
      "provenance": [],
      "collapsed_sections": [],
      "include_colab_link": true
    },
    "kernelspec": {
      "name": "python3",
      "display_name": "Python 3"
    }
  },
  "cells": [
    {
      "cell_type": "markdown",
      "metadata": {
        "id": "view-in-github",
        "colab_type": "text"
      },
      "source": [
        "<a href=\"https://colab.research.google.com/github/aptr288/Python_Toolbox/blob/master/List_Comprehensions%2C_Lambda_and_One_line_Code_bits.ipynb\" target=\"_parent\"><img src=\"https://colab.research.google.com/assets/colab-badge.svg\" alt=\"Open In Colab\"/></a>"
      ]
    },
    {
      "cell_type": "code",
      "metadata": {
        "id": "Fads4HapM_m2",
        "colab_type": "code",
        "outputId": "1e68c3fc-560f-49d1-d295-fb04a25f7596",
        "colab": {
          "base_uri": "https://localhost:8080/",
          "height": 52
        }
      },
      "source": [
        "#One Line if condition\n",
        "y = None\n",
        "num1 = 10\n",
        "num1 = 20 if(y is None) else num1\n",
        "print(num1)\n",
        "x = 1\n",
        "num1 = 10\n",
        "num1 = 20 if(x is None) else num1\n",
        "print(num1)"
      ],
      "execution_count": 0,
      "outputs": [
        {
          "output_type": "stream",
          "text": [
            "20\n",
            "10\n"
          ],
          "name": "stdout"
        }
      ]
    },
    {
      "cell_type": "code",
      "metadata": {
        "id": "bMdIerxEQujK",
        "colab_type": "code",
        "outputId": "af2b5e45-549c-43c1-ee82-79f1039636ad",
        "colab": {
          "base_uri": "https://localhost:8080/",
          "height": 52
        }
      },
      "source": [
        "#Plus one,  converting  list to sting to list\n",
        "a = [1,3,2]\n",
        "print(\"Initial string - \",a)\n",
        "a = [str(i) for i in a]\n",
        "s = ''.join(a)\n",
        "s = int(s)\n",
        "s = s + 1\n",
        "y = list(str(s))\n",
        "print(\"Plus one operation done \",y)"
      ],
      "execution_count": 0,
      "outputs": [
        {
          "output_type": "stream",
          "text": [
            "Initial string -  [1, 3, 2]\n",
            "Plus one operation done  ['1', '3', '3']\n"
          ],
          "name": "stdout"
        }
      ]
    },
    {
      "cell_type": "code",
      "metadata": {
        "id": "UevaPBYHRRWU",
        "colab_type": "code",
        "outputId": "b392fb96-b169-4c72-a668-631000b289d0",
        "colab": {
          "base_uri": "https://localhost:8080/",
          "height": 35
        }
      },
      "source": [
        "#Using Lambada with same code in 2 lines\n",
        "from functools import reduce\n",
        "li = [1,3,2]\n",
        "sum = reduce((lambda x, y: str(x) + str(y)), li)\n",
        "print (list(str(int(sum)+1)))"
      ],
      "execution_count": 0,
      "outputs": [
        {
          "output_type": "stream",
          "text": [
            "['1', '3', '3']\n"
          ],
          "name": "stdout"
        }
      ]
    },
    {
      "cell_type": "code",
      "metadata": {
        "id": "G2rlr15rRbtf",
        "colab_type": "code",
        "outputId": "2e9944da-eca8-43a4-a50d-b4686c6f73f8",
        "colab": {
          "base_uri": "https://localhost:8080/",
          "height": 35
        }
      },
      "source": [
        "# Map usage map applyies str to each element\n",
        "newstring = ''.join(map(str, [10, \"test\", 10.5]))\n",
        "print(newstring)"
      ],
      "execution_count": 0,
      "outputs": [
        {
          "output_type": "stream",
          "text": [
            "10test10.5\n"
          ],
          "name": "stdout"
        }
      ]
    },
    {
      "cell_type": "code",
      "metadata": {
        "id": "cpo5TdtdaILM",
        "colab_type": "code",
        "outputId": "58c02cc6-06fa-41a1-c1ed-54ce78c65a14",
        "colab": {
          "base_uri": "https://localhost:8080/",
          "height": 35
        }
      },
      "source": [
        "li = range(10)\n",
        "evenNumbers = list(filter(lambda x: x%2 ==0, li))\n",
        "print(evenNumbers)"
      ],
      "execution_count": 0,
      "outputs": [
        {
          "output_type": "stream",
          "text": [
            "[0, 2, 4, 6, 8]\n"
          ],
          "name": "stdout"
        }
      ]
    },
    {
      "cell_type": "code",
      "metadata": {
        "id": "xzT2WKryRitJ",
        "colab_type": "code",
        "outputId": "db386789-3593-4755-ad67-18303c885436",
        "colab": {
          "base_uri": "https://localhost:8080/",
          "height": 35
        }
      },
      "source": [
        "#List comprehensions to find intersection\n",
        "list_a = [1, 2, 3, 4]\n",
        "list_b = [2, 3, 4, 5]\n",
        "\n",
        "common_num = [a for a in list_a for b in list_b if a == b ]\n",
        "print(common_num)"
      ],
      "execution_count": 0,
      "outputs": [
        {
          "output_type": "stream",
          "text": [
            "[2, 3, 4]\n"
          ],
          "name": "stdout"
        }
      ]
    },
    {
      "cell_type": "code",
      "metadata": {
        "id": "H-MnfqOvR4NG",
        "colab_type": "code",
        "outputId": "a30d484c-12c1-41fc-c7cb-77fcfbd9d6a3",
        "colab": {
          "base_uri": "https://localhost:8080/",
          "height": 52
        }
      },
      "source": [
        "dict = {1:2}\n",
        "print(dict.get(3))\n",
        "print(dict.setdefault(4,6))"
      ],
      "execution_count": 0,
      "outputs": [
        {
          "output_type": "stream",
          "text": [
            "None\n",
            "6\n"
          ],
          "name": "stdout"
        }
      ]
    },
    {
      "cell_type": "code",
      "metadata": {
        "id": "Q4zKQu-4Up-H",
        "colab_type": "code",
        "outputId": "34dc902b-0fe4-4386-a13a-35c9cfd572b7",
        "colab": {
          "base_uri": "https://localhost:8080/",
          "height": 52
        }
      },
      "source": [
        "givenString = 'The words here are to be sorted and the repeated words are to be removed'\n",
        "words = givenString.split(\" \")\n",
        "print(words)\n",
        "print(' '.join(sorted(set(words))))"
      ],
      "execution_count": 0,
      "outputs": [
        {
          "output_type": "stream",
          "text": [
            "['The', 'words', 'here', 'are', 'to', 'be', 'sorted', 'and', 'the', 'repeated', 'words', 'are', 'to', 'be', 'removed']\n",
            "The and are be here removed repeated sorted the to words\n"
          ],
          "name": "stdout"
        }
      ]
    },
    {
      "cell_type": "code",
      "metadata": {
        "id": "pZ81luP2WuX4",
        "colab_type": "code",
        "outputId": "0f888a15-6022-4464-a99e-15d92af5f384",
        "colab": {
          "base_uri": "https://localhost:8080/",
          "height": 35
        }
      },
      "source": [
        "givenstr = \"hello world! 123\"\n",
        "d = {\"Digits\":0,\"Letters\":0}\n",
        "for c in givenstr:\n",
        "  if(c.isdigit()):\n",
        "    d[\"Digits\"] +=1\n",
        "  if(c.isalpha()):\n",
        "    d[\"Letters\"] +=1\n",
        "print(d)\n",
        "    "
      ],
      "execution_count": 0,
      "outputs": [
        {
          "output_type": "stream",
          "text": [
            "{'Digits': 3, 'Letters': 10}\n"
          ],
          "name": "stdout"
        }
      ]
    },
    {
      "cell_type": "code",
      "metadata": {
        "id": "F_131QHGX82d",
        "colab_type": "code",
        "outputId": "f380be1c-15e6-43d8-e3e7-5212ba7821b2",
        "colab": {
          "base_uri": "https://localhost:8080/",
          "height": 35
        }
      },
      "source": [
        "#The words here are to be counted and the frequencies are to be displayed\n",
        "\n",
        "#freq.get(word,0) here default zero value is provided if the word is not present in dict already\n",
        "#so we are using the dict to calculate the frequency of the words present\n",
        "givenString = ' hello one two three I am checking hello one two three'\n",
        "freq = {}\n",
        "words = givenString.split(\" \")\n",
        "for word in words:\n",
        "  freq[word] = freq.get(word,0)+1\n",
        "print(freq)"
      ],
      "execution_count": 0,
      "outputs": [
        {
          "output_type": "stream",
          "text": [
            "{'': 1, 'hello': 2, 'one': 2, 'two': 2, 'three': 2, 'I': 1, 'am': 1, 'checking': 1}\n"
          ],
          "name": "stdout"
        }
      ]
    },
    {
      "cell_type": "code",
      "metadata": {
        "id": "SMX_KxthugnU",
        "colab_type": "code",
        "colab": {
          "base_uri": "https://localhost:8080/",
          "height": 35
        },
        "outputId": "9e54cd02-2df8-4faa-c5f8-3ef880636b91"
      },
      "source": [
        "inputstr = 234\n",
        "reversedlist = int(''.join(map(str,reversed(list(str(inputstr))))))\n",
        "print(reversedlist)"
      ],
      "execution_count": 31,
      "outputs": [
        {
          "output_type": "stream",
          "text": [
            "432\n"
          ],
          "name": "stdout"
        }
      ]
    },
    {
      "cell_type": "code",
      "metadata": {
        "id": "TO1nPTq8uzJF",
        "colab_type": "code",
        "colab": {
          "base_uri": "https://localhost:8080/",
          "height": 52
        },
        "outputId": "43e1391e-5e0d-4689-a5a5-60383b7c90e8"
      },
      "source": [
        "#List to list comparision\n",
        "list1 = [2,3,4,5,6]\n",
        "list2 = [2,5,6,3, 4]\n",
        "print(list1 == list2)\n",
        "print(sorted(list1) == sorted(list2))"
      ],
      "execution_count": 32,
      "outputs": [
        {
          "output_type": "stream",
          "text": [
            "False\n",
            "True\n"
          ],
          "name": "stdout"
        }
      ]
    },
    {
      "cell_type": "code",
      "metadata": {
        "id": "5QDEaNmAvgPE",
        "colab_type": "code",
        "colab": {}
      },
      "source": [
        "from functools import reduce\n",
        "Input = [13,14]\n",
        "sumOfRevers = reduce((lambda x,y : x+y), [int(''.join(reversed(list(str(i))))) for i in Input])\n",
        "print(sumOfRevers)\n",
        "#Initially the each element in list is reversed and the sum of each element is calculated and turned to str to revers the final result\n",
        "reversedResult = int(''.join(reversed(list(str(reduce((lambda x,y : x+y), [int(''.join(reversed(list(str(i))))) for i in Input]))))))\n",
        "print(reversedResult)"
      ],
      "execution_count": 0,
      "outputs": []
    },
    {
      "cell_type": "code",
      "metadata": {
        "id": "Gvw0M2OdXbmW",
        "colab_type": "code",
        "outputId": "f1497058-92dd-4868-e31e-2fe252f938af",
        "colab": {
          "base_uri": "https://localhost:8080/",
          "height": 70
        }
      },
      "source": [
        "def missing_number(num_list):\n",
        "    maxnum = max(num_list)\n",
        "    minnum = min(num_list)\n",
        "    totalList = range(minnum,maxnum+1)\n",
        "\n",
        "    return [i for i in range(minnum,maxnum+1) if i not in num_list ]#[0] extracting only elment from list\n",
        "#     #Alternative method \n",
        "#     return list(num_list ^ set(totalList))\n",
        "\n",
        "print(missing_number([1,2,3,4,6,7,8]))\n",
        "print(missing_number([10,11,12,14,15,16,17]))\n",
        "print(missing_number([1,2,3,4,6,7,10]))"
      ],
      "execution_count": 0,
      "outputs": [
        {
          "output_type": "stream",
          "text": [
            "[5]\n",
            "[13]\n",
            "[5, 8, 9]\n"
          ],
          "name": "stdout"
        }
      ]
    },
    {
      "cell_type": "markdown",
      "metadata": {
        "id": "-K279EqJvppv",
        "colab_type": "text"
      },
      "source": [
        "Python program to compute the sum of the two reversed numbers and display the sum in reversed form."
      ]
    },
    {
      "cell_type": "code",
      "metadata": {
        "id": "1_oLjl1dvq5Q",
        "colab_type": "code",
        "colab": {
          "base_uri": "https://localhost:8080/",
          "height": 52
        },
        "outputId": "67d5ec68-5b38-4719-d276-93efd39c52ba"
      },
      "source": [
        "from functools import reduce\n",
        "Input = [13,14]\n",
        "sumOfRevers = reduce((lambda x,y : x+y), [int(''.join(reversed(list(str(i))))) for i in Input])\n",
        "print(sumOfRevers)\n",
        "#Initially the each element in list is reversed and the sum of each element is calculated and turned to str to revers the final result\n",
        "reversedResult = int(''.join(reversed(list(str(reduce((lambda x,y : x+y), [int(''.join(reversed(list(str(i))))) for i in Input]))))))\n",
        "print(reversedResult)"
      ],
      "execution_count": 42,
      "outputs": [
        {
          "output_type": "stream",
          "text": [
            "72\n",
            "27\n"
          ],
          "name": "stdout"
        }
      ]
    },
    {
      "cell_type": "markdown",
      "metadata": {
        "colab_type": "text",
        "id": "PeO_ax3TwRvf"
      },
      "source": [
        "Check whether a given number is an ugly number.\n",
        "\n",
        "**Ugly numbers** are positive numbers whose only **prime factors are 2, 3 or 5**."
      ]
    },
    {
      "cell_type": "code",
      "metadata": {
        "colab_type": "code",
        "outputId": "a27bb60b-2371-49b1-afb8-890c284a891e",
        "id": "0wj92G_TwRvg",
        "colab": {
          "base_uri": "https://localhost:8080/",
          "height": 52
        }
      },
      "source": [
        "#WHILE USAGE\n",
        "#while used for dividing particular number n times till its divisable \n",
        "def is_ugly(num):\n",
        "    for i in [2,3,5]:\n",
        "       while(num % i == 0):\n",
        "          num = num/i\n",
        "    return num == 1\n",
        "\n",
        "print(is_ugly(33), \"for 33\")\n",
        "print(is_ugly(32) , \"for 32\")"
      ],
      "execution_count": 0,
      "outputs": [
        {
          "output_type": "stream",
          "text": [
            "False for 33\n",
            "True for 32\n"
          ],
          "name": "stdout"
        }
      ]
    },
    {
      "cell_type": "markdown",
      "metadata": {
        "colab_type": "text",
        "id": "nlyJFi9vwo3H"
      },
      "source": [
        "Find the single number which occurs odd numbers and other numbers occur even number"
      ]
    },
    {
      "cell_type": "code",
      "metadata": {
        "colab_type": "code",
        "outputId": "e303b0a8-0a00-4867-b6be-a68a78242472",
        "id": "uti9TiRuwo3I",
        "colab": {
          "base_uri": "https://localhost:8080/",
          "height": 52
        }
      },
      "source": [
        "def oddNumberofTimesOccurence(num):\n",
        "  numfreq = {}\n",
        "  for i in range(len(num)):\n",
        "    numfreq[num[i]] = numfreq.get(num[i],0)+1\n",
        "  print(numfreq)\n",
        "  \n",
        "#   oddlistinter = list(filter(lambda x: x%2 !=0, numfreq.values()))\n",
        "  #first for loop filters out non odd numbers in frequency list then second for loop checks which key has those fequency numbers matched \n",
        "  #finally the if conditions checks and outputs list with odd frequency values \n",
        "  oddlist = [key for i in list(filter(lambda x: x%2 !=0, numfreq.values()))  for key,value in numfreq.items() if value == i]\n",
        "  return oddlist \n",
        "        \n",
        "num1 = [ 4, 5, 4, 5, 2, 2, 3, 3, 2, 4, 4,8 ]\n",
        "print(oddNumberofTimesOccurence(num1))"
      ],
      "execution_count": 0,
      "outputs": [
        {
          "output_type": "stream",
          "text": [
            "{4: 4, 5: 2, 2: 3, 3: 2, 8: 1}\n",
            "[2, 8]\n"
          ],
          "name": "stdout"
        }
      ]
    }
  ]
}