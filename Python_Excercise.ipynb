{
  "nbformat": 4,
  "nbformat_minor": 0,
  "metadata": {
    "colab": {
      "name": "Python Excercise.ipynb",
      "version": "0.3.2",
      "provenance": [],
      "collapsed_sections": [],
      "include_colab_link": true
    },
    "kernelspec": {
      "name": "python3",
      "display_name": "Python 3"
    }
  },
  "cells": [
    {
      "cell_type": "markdown",
      "metadata": {
        "id": "view-in-github",
        "colab_type": "text"
      },
      "source": [
        "<a href=\"https://colab.research.google.com/github/aptr288/Python_Toolbox/blob/master/Python_Excercise.ipynb\" target=\"_parent\"><img src=\"https://colab.research.google.com/assets/colab-badge.svg\" alt=\"Open In Colab\"/></a>"
      ]
    },
    {
      "cell_type": "markdown",
      "metadata": {
        "id": "5nDxnkVztwss",
        "colab_type": "text"
      },
      "source": [
        "Find the missing numbers in given list"
      ]
    },
    {
      "cell_type": "code",
      "metadata": {
        "id": "Gvw0M2OdXbmW",
        "colab_type": "code",
        "outputId": "f1497058-92dd-4868-e31e-2fe252f938af",
        "colab": {
          "base_uri": "https://localhost:8080/",
          "height": 70
        }
      },
      "source": [
        "def missing_number(num_list):\n",
        "    maxnum = max(num_list)\n",
        "    minnum = min(num_list)\n",
        "    totalList = range(minnum,maxnum+1)\n",
        "\n",
        "    return [i for i in range(minnum,maxnum+1) if i not in num_list ]#[0] extracting only elment from list\n",
        "#     #Alternative method \n",
        "#     return list(num_list ^ set(totalList))\n",
        "\n",
        "print(missing_number([1,2,3,4,6,7,8]))\n",
        "print(missing_number([10,11,12,14,15,16,17]))\n",
        "print(missing_number([1,2,3,4,6,7,10]))"
      ],
      "execution_count": 0,
      "outputs": [
        {
          "output_type": "stream",
          "text": [
            "[5]\n",
            "[13]\n",
            "[5, 8, 9]\n"
          ],
          "name": "stdout"
        }
      ]
    },
    {
      "cell_type": "markdown",
      "metadata": {
        "id": "RC4nOPgFFnKF",
        "colab_type": "text"
      },
      "source": [
        "Find three numbers from an array such that the sum of three numbers equal to zero. "
      ]
    },
    {
      "cell_type": "code",
      "metadata": {
        "id": "Mdhyym0FAUYj",
        "colab_type": "code",
        "outputId": "f4ae610a-3713-456f-cc90-23772cc8acfc",
        "colab": {
          "base_uri": "https://localhost:8080/",
          "height": 35
        }
      },
      "source": [
        "def sumofZeros(list1):\n",
        "  sumzerolist = []\n",
        "  for i in range(len(list1)):\n",
        "    for j in range(i, len(list1)):\n",
        "      for k in range(j, len(list1)):\n",
        "        if(i != j != k):\n",
        "            if(list1[k] + list1[i]+ list1[j] == 0):\n",
        "                sumzerolist.append([list1[k], list1[i], list1[j]])\n",
        "  return sumzerolist\n",
        "list1 = [-1,0,1,2,-1,-4]\n",
        "list2 = [2,-2,1,0,3,-1]\n",
        "print(sumofZeros(list2))\n"
      ],
      "execution_count": 0,
      "outputs": [
        {
          "output_type": "stream",
          "text": [
            "[[0, 2, -2], [-1, -2, 3], [-1, 1, 0]]\n"
          ],
          "name": "stdout"
        }
      ]
    },
    {
      "cell_type": "markdown",
      "metadata": {
        "id": "7of1bWOMt2SJ",
        "colab_type": "text"
      },
      "source": [
        "Find the **only number** which is not repeating\n"
      ]
    },
    {
      "cell_type": "code",
      "metadata": {
        "id": "r1aBXMPtoBnn",
        "colab_type": "code",
        "outputId": "0e72e22e-b6e6-4fca-972b-e0b472585511",
        "colab": {
          "base_uri": "https://localhost:8080/",
          "height": 35
        }
      },
      "source": [
        "Input= [5, 3, 4, 3, 4,5,7]\n",
        "def singleNumber(numlist):\n",
        "  twolist = []\n",
        "  for i in range(len(numlist)):\n",
        "    count = 0\n",
        "    if(numlist[i] not in twolist ):\n",
        "      for j in range(len(numlist)):\n",
        "        if(numlist[i] == numlist[j]):\n",
        "          count = count + 1\n",
        "      if(count < 2 ):\n",
        "        return numlist[i]\n",
        "      else:\n",
        "        twolist.append(numlist[i])\n",
        "print(singleNumber(Input))\n",
        "          \n",
        "          \n",
        "       \n",
        "    "
      ],
      "execution_count": 0,
      "outputs": [
        {
          "output_type": "stream",
          "text": [
            "7\n"
          ],
          "name": "stdout"
        }
      ]
    },
    {
      "cell_type": "markdown",
      "metadata": {
        "id": "Wnyf7UGqHAok",
        "colab_type": "text"
      },
      "source": [
        "Find two elements appear once in a list where all the other elements appear exactly twice in the list."
      ]
    },
    {
      "cell_type": "code",
      "metadata": {
        "id": "2ewj2bUJHBsE",
        "colab_type": "code",
        "outputId": "9f68fed5-845f-48e0-b8c4-7b138c266d24",
        "colab": {
          "base_uri": "https://localhost:8080/",
          "height": 35
        }
      },
      "source": [
        "Input= [5, 3, 4, 3, 4,5,7,8]\n",
        "def notTwiceNumber(numlist):\n",
        "  twolist = []\n",
        "  singleList = []\n",
        "  for i in range(len(numlist)):\n",
        "    count = 0\n",
        "    if(numlist[i] not in twolist ):\n",
        "      for j in range(len(numlist)):\n",
        "        if(numlist[i] == numlist[j]):\n",
        "          count = count + 1\n",
        "      if(count < 2 ):\n",
        "        singleList.append(numlist[i]) \n",
        "      else:\n",
        "        twolist.append(numlist[i])\n",
        "  return singleList\n",
        "print(notTwiceNumber(Input))\n",
        "      "
      ],
      "execution_count": 0,
      "outputs": [
        {
          "output_type": "stream",
          "text": [
            "[7, 8]\n"
          ],
          "name": "stdout"
        }
      ]
    },
    {
      "cell_type": "markdown",
      "metadata": {
        "id": "FrXjX92QIlqZ",
        "colab_type": "text"
      },
      "source": [
        "**Add** the digits of a positive integer repeatedly until the result has a  **single digit.**"
      ]
    },
    {
      "cell_type": "code",
      "metadata": {
        "id": "uC2B4E9pImtk",
        "colab_type": "code",
        "outputId": "aad3968a-0a01-4781-9e09-de3fbd192cb9",
        "colab": {
          "base_uri": "https://localhost:8080/",
          "height": 124
        }
      },
      "source": [
        "from functools import reduce\n",
        "Input = 48\n",
        "def addTillSingleDigit(num):\n",
        "  numstr = str(num)\n",
        "  lengthstr = len(numstr)\n",
        "  while(lengthstr > 1):\n",
        "    numList = reduce((lambda x,y: int(x)+ int(y)),list(numstr))\n",
        "    \n",
        "    lengthstr = len(str(numList))\n",
        "    numstr = str(numList)\n",
        "    print('Summed Number ',numList, \"Length of sum \",lengthstr)\n",
        "  return numList \n",
        "print(addTillSingleDigit(Input))\n",
        "print(addTillSingleDigit(59))\n",
        "  "
      ],
      "execution_count": 0,
      "outputs": [
        {
          "output_type": "stream",
          "text": [
            "Summed Number  12 Length of sum  2\n",
            "Summed Number  3 Length of sum  1\n",
            "3\n",
            "Summed Number  14 Length of sum  2\n",
            "Summed Number  5 Length of sum  1\n",
            "5\n"
          ],
          "name": "stdout"
        }
      ]
    },
    {
      "cell_type": "markdown",
      "metadata": {
        "id": "PWEN_hjkPw4F",
        "colab_type": "text"
      },
      "source": [
        "Find whether it contains an additive sequence or not.\n",
        "\n",
        "```\n",
        "Sample additive sequence: 6, 6, 12, 18, 30\n",
        "In the above sequence 6 + 6 =12, 6 + 12 = 18, 12 + 18 = 30.\n",
        "```\n",
        "\n",
        "\n"
      ]
    },
    {
      "cell_type": "code",
      "metadata": {
        "id": "r2UmU8eoPwkw",
        "colab_type": "code",
        "outputId": "670401a5-b2f7-443d-f6d5-9440d6902b96",
        "colab": {
          "base_uri": "https://localhost:8080/",
          "height": 35
        }
      },
      "source": [
        "givenSeq = [6, 6, 12, 18, 30,48,78]\n",
        "def checkIfAdditiveSeq(num):\n",
        "  #flag = True\n",
        "  for i in range(len(num)-2):\n",
        "    if(num[i]+num[i+1]==num[i+2]):\n",
        "      continue\n",
        "    else:\n",
        "      return False \n",
        "  return True\n",
        "\n",
        "print(checkIfAdditiveSeq(givenSeq))"
      ],
      "execution_count": 0,
      "outputs": [
        {
          "output_type": "stream",
          "text": [
            "False\n"
          ],
          "name": "stdout"
        }
      ]
    },
    {
      "cell_type": "markdown",
      "metadata": {
        "id": "r9GHtnwgoUKb",
        "colab_type": "text"
      },
      "source": [
        "Check a sequence of numbers is an arithmetic progression or not. "
      ]
    },
    {
      "cell_type": "code",
      "metadata": {
        "id": "LFJ9H11Ukz2j",
        "colab_type": "code",
        "outputId": "b90b4df6-246e-4c8f-9c69-c0126186ed1b",
        "colab": {
          "base_uri": "https://localhost:8080/",
          "height": 35
        }
      },
      "source": [
        "def arthmaticProgression(num):\n",
        "  for i in range(len(num)-1):\n",
        "    dif = num[1] - num[0]\n",
        "    if(num[i+1] -num[i] == dif):\n",
        "      continue\n",
        "    else:\n",
        "      return False \n",
        "  return True\n",
        "  \n",
        "  \n",
        "num = [5, 7, 9, 11, 13]\n",
        "print(arthmaticProgression(num))"
      ],
      "execution_count": 0,
      "outputs": [
        {
          "output_type": "stream",
          "text": [
            "True\n"
          ],
          "name": "stdout"
        }
      ]
    },
    {
      "cell_type": "markdown",
      "metadata": {
        "id": "-K279EqJvppv",
        "colab_type": "text"
      },
      "source": [
        "Compute the sum of the two reversed numbers and display the sum in reversed form."
      ]
    },
    {
      "cell_type": "code",
      "metadata": {
        "id": "1_oLjl1dvq5Q",
        "colab_type": "code",
        "outputId": "67d5ec68-5b38-4719-d276-93efd39c52ba",
        "colab": {
          "base_uri": "https://localhost:8080/",
          "height": 52
        }
      },
      "source": [
        "from functools import reduce\n",
        "Input = [13,14]\n",
        "sumOfRevers = reduce((lambda x,y : x+y), [int(''.join(reversed(list(str(i))))) for i in Input])\n",
        "print(sumOfRevers)\n",
        "#Initially the each element in list is reversed and the sum of each element is calculated and turned to str to revers the final result\n",
        "reversedResult = int(''.join(reversed(list(str(reduce((lambda x,y : x+y), [int(''.join(reversed(list(str(i))))) for i in Input]))))))\n",
        "print(reversedResult)"
      ],
      "execution_count": 0,
      "outputs": [
        {
          "output_type": "stream",
          "text": [
            "72\n",
            "27\n"
          ],
          "name": "stdout"
        }
      ]
    },
    {
      "cell_type": "markdown",
      "metadata": {
        "id": "OCoC3qFD6RHM",
        "colab_type": "text"
      },
      "source": [
        "Python program where you take any positive integer n, if n is even, divide it by 2 to get **n / 2**. If n is odd, multiply it by 3 and add 1 to obtain **3n + 1**. Repeat the process until you reach 1"
      ]
    },
    {
      "cell_type": "code",
      "metadata": {
        "id": "uVk_Qk-36R7T",
        "colab_type": "code",
        "outputId": "5c346c11-b013-4fdc-f6cc-69532ca9c270",
        "colab": {
          "base_uri": "https://localhost:8080/",
          "height": 35
        }
      },
      "source": [
        "\n",
        "def convertifEvenorOdd(n):\n",
        "  listofElements = [n]\n",
        "  while(n != 1):\n",
        "    \n",
        "    if(n%2 == 0):\n",
        "      n = n/2\n",
        "    else:\n",
        "      n = (3*n)+ 1\n",
        "    listofElements.append(n)\n",
        "  return listofElements\n",
        "  \n",
        "print(convertifEvenorOdd(12))"
      ],
      "execution_count": 0,
      "outputs": [
        {
          "output_type": "stream",
          "text": [
            "[12, 6.0, 3.0, 10.0, 5.0, 16.0, 8.0, 4.0, 2.0, 1.0]\n"
          ],
          "name": "stdout"
        }
      ]
    },
    {
      "cell_type": "markdown",
      "metadata": {
        "id": "sgKtvEmuCA2K",
        "colab_type": "text"
      },
      "source": [
        "Check whether a given number is an ugly number.\n",
        "\n",
        "**Ugly numbers** are positive numbers whose only **prime factors are 2, 3 or 5**."
      ]
    },
    {
      "cell_type": "code",
      "metadata": {
        "id": "NMicgeheAqak",
        "colab_type": "code",
        "outputId": "a27bb60b-2371-49b1-afb8-890c284a891e",
        "colab": {
          "base_uri": "https://localhost:8080/",
          "height": 52
        }
      },
      "source": [
        "def is_ugly(num):\n",
        "    for i in [2,3,5]:\n",
        "       while(num % i == 0):\n",
        "          num = num/i\n",
        "    return num == 1\n",
        "\n",
        "print(is_ugly(33), \"for 33\")\n",
        "print(is_ugly(32) , \"for 32\")"
      ],
      "execution_count": 0,
      "outputs": [
        {
          "output_type": "stream",
          "text": [
            "False for 33\n",
            "True for 32\n"
          ],
          "name": "stdout"
        }
      ]
    },
    {
      "cell_type": "markdown",
      "metadata": {
        "id": "RJS_KLw-EH5x",
        "colab_type": "text"
      },
      "source": [
        "Python program to get the Hamming numbers upto a given numbers also check whether a given number is an Hamming number.\n",
        "\n",
        "```\n",
        "H = 2pow(i) x 3pow(i) x 5pow(i)\n",
        "```\n",
        "\n"
      ]
    },
    {
      "cell_type": "code",
      "metadata": {
        "id": "a3lvMLlREIy2",
        "colab_type": "code",
        "outputId": "4fd7cfd3-95c2-4a23-8b64-2be1ac8a47dd",
        "colab": {
          "base_uri": "https://localhost:8080/",
          "height": 52
        }
      },
      "source": [
        "def hammingNum(n):\n",
        "  listofHammingNumbers = []\n",
        "  for i in range(n):\n",
        "    for j in range(n):\n",
        "      for k in range(n):\n",
        "        result = (2**i)*(3**j)*(5**k)\n",
        "        if(result <= n):\n",
        "          listofHammingNumbers.append(result)\n",
        "  return listofHammingNumbers, n in listofHammingNumbers\n",
        "listofHam, istheNumberHam = hammingNum(7)\n",
        "print(listofHam, istheNumberHam )\n",
        "listofHam, istheNumberHam = hammingNum(24)\n",
        "print(sorted(listofHam), istheNumberHam )       \n",
        "#2 3 4 5 6 8 9 10 12 15 16 18 20 24"
      ],
      "execution_count": 0,
      "outputs": [
        {
          "output_type": "stream",
          "text": [
            "[1, 5, 3, 2, 6, 4] False\n",
            "[1, 2, 3, 4, 5, 6, 8, 9, 10, 12, 15, 16, 18, 20, 24] True\n"
          ],
          "name": "stdout"
        }
      ]
    },
    {
      "cell_type": "markdown",
      "metadata": {
        "id": "dxr5yyB8G00H",
        "colab_type": "text"
      },
      "source": [
        "ALTERNATIVE SOLUTION"
      ]
    },
    {
      "cell_type": "code",
      "metadata": {
        "id": "Mx_AdU8PGztU",
        "colab_type": "code",
        "outputId": "f49b3c01-29e8-4fa6-e648-969d3ee56575",
        "colab": {
          "base_uri": "https://localhost:8080/",
          "height": 52
        }
      },
      "source": [
        "def is_hamming(x):\n",
        "  if x == 1 :\n",
        "    return 1\n",
        "  if(x% 2 == 0):\n",
        "    return is_hamming(x/2)\n",
        "  if(x% 3 == 0):\n",
        "    return is_hamming(x/3)\n",
        "  if(x% 5 == 0):\n",
        "    return is_hamming(x/5)\n",
        "  return 0 \n",
        "print('Is number Hamming',is_hamming(20))\n",
        "\n",
        "\n",
        "def hamming_numbers_sequence(x):\n",
        "  \n",
        "\tif(x == 1):\n",
        "\t\treturn 1\n",
        "\thamming_numbers_sequence(x-1)\n",
        "\tif(is_hamming(x) == 1):\n",
        "\t\tprint(\"%s\" % x, end=' ')\n",
        "    \n",
        "hamming_numbers_sequence(24)"
      ],
      "execution_count": 0,
      "outputs": [
        {
          "output_type": "stream",
          "text": [
            "Is number Hamming 1\n",
            "2 3 4 5 6 8 9 10 12 15 16 18 20 24 "
          ],
          "name": "stdout"
        }
      ]
    },
    {
      "cell_type": "code",
      "metadata": {
        "id": "aBtjkPn5Lhba",
        "colab_type": "code",
        "outputId": "0b98e099-f3e5-446f-9439-955c673cce76",
        "colab": {
          "base_uri": "https://localhost:8080/",
          "height": 88
        }
      },
      "source": [
        "inputlist = ['anagram', 'nagaram']\n",
        "def anagramcheck(inputlist):\n",
        "  sortedInput = [sorted(list(str(i))) for i in inputlist]\n",
        "  print(sortedInput)\n",
        "  # for i in range(len(input)):\n",
        "  #   input[i] = sorted(input[i])\n",
        "  # print(input)\n",
        "  for i in range(len(sortedInput[0])):\n",
        "    if(sortedInput[0][i] != sortedInput[1][i]):\n",
        "       return False \n",
        "  return True\n",
        "print(anagramcheck(inputlist))\n",
        "newlist = inputlist = ['anagram', 'garamna']\n",
        "print(anagramcheck(newlist))  "
      ],
      "execution_count": 0,
      "outputs": [
        {
          "output_type": "stream",
          "text": [
            "[['a', 'a', 'a', 'g', 'm', 'n', 'r'], ['a', 'a', 'a', 'g', 'm', 'n', 'r']]\n",
            "True\n",
            "[['a', 'a', 'a', 'g', 'm', 'n', 'r'], ['a', 'a', 'a', 'g', 'm', 'n', 'r']]\n",
            "True\n"
          ],
          "name": "stdout"
        }
      ]
    },
    {
      "cell_type": "markdown",
      "metadata": {
        "id": "PaxoZ5ZrQcla",
        "colab_type": "text"
      },
      "source": [
        "ALTERNATIVE approach for ANAGRAM Check"
      ]
    },
    {
      "cell_type": "code",
      "metadata": {
        "id": "_2qacNxBQbV5",
        "colab_type": "code",
        "outputId": "a37ec648-fba9-48e5-fc87-37d3413f2bc9",
        "colab": {
          "base_uri": "https://localhost:8080/",
          "height": 52
        }
      },
      "source": [
        "#Comparing whold sorted list with another sorted list\n",
        "\n",
        "def is_anagram(str1, str2):\n",
        "    list_str1 = list(str1)\n",
        "    list_str1.sort()\n",
        "    list_str2 = list(str2)\n",
        "    list_str2.sort()\n",
        "    \n",
        "    #List to list comparision\n",
        "    return (list_str1 == list_str2)\n",
        "\n",
        "print(is_anagram('anagram','nagaram'))\n",
        "print(is_anagram('cat','rat'))"
      ],
      "execution_count": 0,
      "outputs": [
        {
          "output_type": "stream",
          "text": [
            "True\n",
            "False\n"
          ],
          "name": "stdout"
        }
      ]
    },
    {
      "cell_type": "code",
      "metadata": {
        "id": "rbbFvHzURzAx",
        "colab_type": "code",
        "outputId": "1b140206-8550-4d07-d586-bf9b0926faaa",
        "colab": {
          "base_uri": "https://localhost:8080/",
          "height": 52
        }
      },
      "source": [
        "def move_zero(num_list):\n",
        "    a = [0 for i in range(num_list.count(0))]\n",
        "    x = [ i for i in num_list if i != 0]\n",
        "    x.extend(a)\n",
        "    return(x)\n",
        "# Alternative method\n",
        "#     for i in range(len(num_list)):\n",
        "#       if(num_list[i] == 0):\n",
        "#         zero = num_list.pop(i)\n",
        "#         num_list.append(zero)\n",
        "#    return num_list\n",
        "         \n",
        "        \n",
        "    \n",
        "\n",
        "print(move_zero([0,2,3,4,6,7,10]))\n",
        "print(move_zero([10,0,11,12,0,14,17]))\n",
        "\n"
      ],
      "execution_count": 0,
      "outputs": [
        {
          "output_type": "stream",
          "text": [
            "[2, 3, 4, 6, 7, 10, 0]\n",
            "[10, 11, 12, 14, 17, 0, 0]\n"
          ],
          "name": "stdout"
        }
      ]
    },
    {
      "cell_type": "markdown",
      "metadata": {
        "id": "_AzR5_SZUjK_",
        "colab_type": "text"
      },
      "source": [
        "Python program to the push the first number to the end of a list"
      ]
    },
    {
      "cell_type": "code",
      "metadata": {
        "id": "RkAguEPoUYs3",
        "colab_type": "code",
        "outputId": "14386f3b-8533-498f-fb87-cea8f3e9e524",
        "colab": {
          "base_uri": "https://localhost:8080/",
          "height": 88
        }
      },
      "source": [
        "def move_last(num_list):\n",
        "    a = [num_list[0] for i in range(num_list.count(num_list[0]))]\n",
        "    x = [ i for i in num_list if i != num_list[0]]\n",
        "    x.extend(a)\n",
        "    return(x)\n",
        "l1 = [0,2,3,4,6,7,10]\n",
        "l2 = [10,0,11,12,14,0,17,10]\n",
        "\n",
        "print(\"Original List: \",l1)\n",
        "print(move_last(l1))\n",
        "print(\"Original List: \",l2)\n",
        "print(move_last(l2))"
      ],
      "execution_count": 0,
      "outputs": [
        {
          "output_type": "stream",
          "text": [
            "Original List:  [0, 2, 3, 4, 6, 7, 10]\n",
            "[2, 3, 4, 6, 7, 10, 0]\n",
            "Original List:  [10, 0, 11, 12, 14, 0, 17, 10]\n",
            "[0, 11, 12, 14, 0, 17, 10, 10]\n"
          ],
          "name": "stdout"
        }
      ]
    },
    {
      "cell_type": "markdown",
      "metadata": {
        "id": "DpolqaNLU9me",
        "colab_type": "text"
      },
      "source": [
        "Find majority element in a list"
      ]
    },
    {
      "cell_type": "code",
      "metadata": {
        "id": "WDnxkOqaU6us",
        "colab_type": "code",
        "outputId": "3482d687-23ba-4ab2-d727-fb0824bfbb35",
        "colab": {
          "base_uri": "https://localhost:8080/",
          "height": 52
        }
      },
      "source": [
        "#https://stackoverflow.com/questions/268272/getting-key-with-maximum-value-in-dictionary\n",
        "inputlist = [1, 2, 3, 4, 5, 5, 5, 5, 5, 5, 6]\n",
        "def findMajoritElement(inputlist):\n",
        "  elemntferq = {}\n",
        "  for i in inputlist:\n",
        "    elemntferq[i] = elemntferq.get(i,0) + 1\n",
        "  print(elemntferq)\n",
        "  # finds multiple keys with highest frequency \n",
        "  #Alternative Method\n",
        "  #max(stats, key=stats.get)\n",
        "  #max(stats.items(), key=operator.itemgetter(1))[0]\n",
        "  return [key for m in [max(elemntferq.values())] for key,val in elemntferq.items() if val == m]\n",
        "findMajoritElement(inputlist)\n",
        "\n",
        "  "
      ],
      "execution_count": 0,
      "outputs": [
        {
          "output_type": "stream",
          "text": [
            "{1: 1, 2: 1, 3: 1, 4: 1, 5: 6, 6: 1}\n"
          ],
          "name": "stdout"
        },
        {
          "output_type": "execute_result",
          "data": {
            "text/plain": [
              "[5]"
            ]
          },
          "metadata": {
            "tags": []
          },
          "execution_count": 88
        }
      ]
    },
    {
      "cell_type": "markdown",
      "metadata": {
        "id": "Ob5vsZQ7f1TG",
        "colab_type": "text"
      },
      "source": [
        "**Binary addition**"
      ]
    },
    {
      "cell_type": "code",
      "metadata": {
        "id": "yPMaPUsHf1uX",
        "colab_type": "code",
        "outputId": "56b8ce01-3f6b-4058-c63c-45187c5869f3",
        "colab": {
          "base_uri": "https://localhost:8080/",
          "height": 230
        }
      },
      "source": [
        "from functools import reduce\n",
        "def add_binary_nums(x,y):\n",
        "        max_len = max(len(x), len(y))\n",
        "\n",
        "        x = x.zfill(max_len)\n",
        "        x = x[::-1] \n",
        "        y = y.zfill(max_len)\n",
        "        y = y[::-1]\n",
        "        print(x,y)\n",
        "        result = []\n",
        "        carry = 0 \n",
        "        for i in range(len(x)):\n",
        "            print(i)\n",
        "            print(\"Elements\", x[i], y[i], \"carry\",carry )\n",
        "            if(x[i] == '0' and y[i] ==  '0'):\n",
        "              if(carry == 0):\n",
        "                result.append(0)\n",
        "                carry = 0\n",
        "              else:\n",
        "                result.append(1)\n",
        "                carry = 0\n",
        "            elif(x[i] == '1' and y[i] ==  '1'):\n",
        "              if(carry == 0):\n",
        "                result.append(0)\n",
        "                carry = 1\n",
        "              else:\n",
        "                result.append(1)\n",
        "                carry = 1\n",
        "           \n",
        "            elif((x[i] == '1') and (y[i] ==  '0')) :\n",
        "              print(\"here \")\n",
        "              if(carry == 0):\n",
        "                result.append(1)\n",
        "                carry = 0\n",
        "              else:\n",
        "                result.append(0)\n",
        "                carry = 1\n",
        "            elif((x[i] == '0') and (y[i] ==  '1')) :\n",
        "              print(\"here \")\n",
        "              if(carry == 0):\n",
        "                result.append(1)\n",
        "                carry = 0\n",
        "              else:\n",
        "                result.append(0)\n",
        "                carry = 1\n",
        "            print(result )\n",
        "        if(carry == 1):\n",
        "          result.append(1)\n",
        "        reverresult = result[::-1]\n",
        "        print(reverresult)\n",
        "        finalresult = reduce((lambda x,y : str(x)+str(y)),reverresult)\n",
        "        return finalresult\n",
        "             \n",
        "        \n",
        "# print(add_binary_nums('1111111', '1'))\n",
        "print(add_binary_nums('111', '111'))"
      ],
      "execution_count": 0,
      "outputs": [
        {
          "output_type": "stream",
          "text": [
            "111 111\n",
            "0\n",
            "Elements 1 1 carry 0\n",
            "[0]\n",
            "1\n",
            "Elements 1 1 carry 1\n",
            "[0, 1]\n",
            "2\n",
            "Elements 1 1 carry 1\n",
            "[0, 1, 1]\n",
            "[1, 1, 1, 0]\n",
            "1110\n"
          ],
          "name": "stdout"
        }
      ]
    },
    {
      "cell_type": "markdown",
      "metadata": {
        "id": "SacOMx7shIgj",
        "colab_type": "text"
      },
      "source": [
        "Find the single number which occurs **odd numbers** and other numbers occur even number"
      ]
    },
    {
      "cell_type": "code",
      "metadata": {
        "id": "7B-S54KAhKL0",
        "colab_type": "code",
        "outputId": "e303b0a8-0a00-4867-b6be-a68a78242472",
        "colab": {
          "base_uri": "https://localhost:8080/",
          "height": 52
        }
      },
      "source": [
        "def oddNumberofTimesOccurence(num):\n",
        "  numfreq = {}\n",
        "  for i in range(len(num)):\n",
        "    numfreq[num[i]] = numfreq.get(num[i],0)+1\n",
        "  print(numfreq)\n",
        "  \n",
        "#   oddlistinter = list(filter(lambda x: x%2 !=0, numfreq.values()))\n",
        "  #first for loop filters out non odd numbers in frequency list then second for loop checks which key has those fequency numbers matched \n",
        "  #finally the if conditions checks and outputs list with odd frequency values \n",
        "  oddlist = [key for i in list(filter(lambda x: x%2 !=0, numfreq.values()))  for key,value in numfreq.items() if value == i]\n",
        "  return oddlist \n",
        "        \n",
        "num1 = [ 4, 5, 4, 5, 2, 2, 3, 3, 2, 4, 4,8 ]\n",
        "print(oddNumberofTimesOccurence(num1))"
      ],
      "execution_count": 0,
      "outputs": [
        {
          "output_type": "stream",
          "text": [
            "{4: 4, 5: 2, 2: 3, 3: 2, 8: 1}\n",
            "[2, 8]\n"
          ],
          "name": "stdout"
        }
      ]
    },
    {
      "cell_type": "markdown",
      "metadata": {
        "id": "TcNueqz446LU",
        "colab_type": "text"
      },
      "source": [
        "Compute the sum of all the multiples of 3 or 5 below 500"
      ]
    },
    {
      "cell_type": "code",
      "metadata": {
        "id": "5uQNAuUU47vF",
        "colab_type": "code",
        "colab": {
          "base_uri": "https://localhost:8080/",
          "height": 52
        },
        "outputId": "c6070ed9-cc72-4252-b008-1f6ba3e0fcb4"
      },
      "source": [
        "def sumofThreeorFiveMul(n):\n",
        "  result = 0\n",
        "  for i in range(1,n):\n",
        "#     print(i, result)\n",
        "    if(i % 3 == 0 or i % 5 == 0):\n",
        "      result += i\n",
        "  return result\n",
        "      \n",
        "print(sumofThreeorFiveMul(500))\n",
        "print(sumofThreeorFiveMul(12))"
      ],
      "execution_count": 8,
      "outputs": [
        {
          "output_type": "stream",
          "text": [
            "57918\n",
            "33\n"
          ],
          "name": "stdout"
        }
      ]
    },
    {
      "cell_type": "markdown",
      "metadata": {
        "id": "pArNzXQC95VU",
        "colab_type": "text"
      },
      "source": [
        "Find the largest prime factor of a given number"
      ]
    },
    {
      "cell_type": "code",
      "metadata": {
        "id": "FfRr1amr6zEs",
        "colab_type": "code",
        "colab": {
          "base_uri": "https://localhost:8080/",
          "height": 52
        },
        "outputId": "51d59b45-b0bc-4a7e-83af-a4754021f408"
      },
      "source": [
        "def largest_prime_factor(num):\n",
        "    i = 2\n",
        "    listofPrimefactors = []\n",
        "    while i * i < num:\n",
        "        while num % i == 0:\n",
        "            num = num / i\n",
        "            if(i not in listofPrimefactors):\n",
        "              listofPrimefactors.append(i)\n",
        "        \n",
        "        i = i + 1\n",
        "    #adding remainder into the list which is also prime factor \n",
        "    listofPrimefactors.append(num)\n",
        "    return max(listofPrimefactors), listofPrimefactors\n",
        "print(largest_prime_factor(330))\n",
        "print(largest_prime_factor(243423423330))"
      ],
      "execution_count": 13,
      "outputs": [
        {
          "output_type": "stream",
          "text": [
            "(11.0, [2, 3, 5, 11.0])\n",
            "(1114117.0, [2, 3, 5, 7283, 1114117.0])\n"
          ],
          "name": "stdout"
        }
      ]
    }
  ]
}