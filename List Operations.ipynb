{
 "cells": [
  {
   "cell_type": "code",
   "execution_count": 3,
   "metadata": {},
   "outputs": [
    {
     "name": "stdout",
     "output_type": "stream",
     "text": [
      "[0, 3, 2]\n",
      "[3, 2, 1]\n",
      "3\n",
      "[4, 5]\n"
     ]
    }
   ],
   "source": [
    "\n",
    "# remove removes the first matching value, not a specific index:\n",
    "\n",
    "a = [0, 2, 3, 2]\n",
    "a.remove(2)\n",
    "print(a)\n",
    "##### [0, 3, 2]\n",
    "\n",
    "# del removes the item at a specific index:\n",
    "\n",
    "a = [3, 2, 2, 1]\n",
    "del a[1]\n",
    "print(a)\n",
    "\n",
    "# and pop removes the item at a specific index and returns it.\n",
    "\n",
    "a = [4, 3, 5]\n",
    "y = a.pop(1)\n",
    "print(y)\n",
    "print(a)\n",
    "#https://stackoverflow.com/questions/11520492/difference-between-del-remove-and-pop-on-lists/11520540"
   ]
  },
  {
   "cell_type": "code",
   "execution_count": 7,
   "metadata": {},
   "outputs": [
    {
     "name": "stdout",
     "output_type": "stream",
     "text": [
      "['t', '', 'i', 's', ' ', 'i', 's', ' ', 'a', ' ', 's', 't', 'r', 'i', 'n', 'g']\n",
      "['t', 'i', 's', ' ', 'i', 's', ' ', 'a', ' ', 's', 't', 'r', 'i', 'n', 'g']\n",
      "['t', 's', ' ', 'i', 's', ' ', 'a', ' ', 's', 't', 'r', 'i', 'n', 'g']\n",
      "ts is  string\n"
     ]
    }
   ],
   "source": [
    "#Strings are immutable. But we can convert them to a list, which is mutable, and then \n",
    "#convert the list back to a string after you've changed it.\n",
    "\n",
    "s = \"this is a string\"\n",
    "\n",
    "l = list(s)  # convert to list\n",
    "\n",
    "l[1] = \"\"    # \"delete\" letter h (the item actually still exists but is empty)\n",
    "print(l)\n",
    "\n",
    "l[1:2] = []  # really delete letter h (the item is actually removed from the list)\n",
    "print(l)\n",
    "\n",
    "del(l[1])    # another way to delete it\n",
    "print(l)\n",
    "\n",
    "p = l.index(\"a\")  # find position of the letter \"a\"\n",
    "del(l[p])         # delete it\n",
    "\n",
    "s = \"\".join(l)\n",
    "print(s)\n",
    "#https://stackoverflow.com/questions/3559559/how-to-delete-a-character-from-a-string-using-python"
   ]
  },
  {
   "cell_type": "code",
   "execution_count": 9,
   "metadata": {},
   "outputs": [
    {
     "name": "stdout",
     "output_type": "stream",
     "text": [
      "[1, 2, 3, 4, 5, 6]\n",
      "[7, 1, 2, 3, 4, 5, 6]\n"
     ]
    }
   ],
   "source": [
    "var=7\n",
    "array = [1,2,3,4,5,6]\n",
    "print(array)\n",
    "array.insert(0,var)\n",
    "print(array)\n",
    "\n",
    "# How it works:\n",
    "\n",
    "# array.insert(index, value)"
   ]
  },
  {
   "cell_type": "code",
   "execution_count": 5,
   "metadata": {},
   "outputs": [
    {
     "name": "stdout",
     "output_type": "stream",
     "text": [
      "[4, 5, 6]\n"
     ]
    }
   ],
   "source": [
    "tl = [2,3,4,5,6,7]\n",
    "temp = [1,2,3,7]\n",
    "tl = [e for e in tl if e not in temp]\n",
    "print(tl)"
   ]
  }
 ],
 "metadata": {
  "kernelspec": {
   "display_name": "Python 3",
   "language": "python",
   "name": "python3"
  },
  "language_info": {
   "codemirror_mode": {
    "name": "ipython",
    "version": 3
   },
   "file_extension": ".py",
   "mimetype": "text/x-python",
   "name": "python",
   "nbconvert_exporter": "python",
   "pygments_lexer": "ipython3",
   "version": "3.7.1"
  }
 },
 "nbformat": 4,
 "nbformat_minor": 2
}
