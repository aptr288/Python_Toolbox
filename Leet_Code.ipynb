{
  "nbformat": 4,
  "nbformat_minor": 0,
  "metadata": {
    "colab": {
      "name": "Leet Code.ipynb",
      "version": "0.3.2",
      "provenance": [],
      "collapsed_sections": [],
      "include_colab_link": true
    },
    "kernelspec": {
      "name": "python3",
      "display_name": "Python 3"
    }
  },
  "cells": [
    {
      "cell_type": "markdown",
      "metadata": {
        "id": "view-in-github",
        "colab_type": "text"
      },
      "source": [
        "<a href=\"https://colab.research.google.com/github/aptr288/Python_Toolbox/blob/master/Leet_Code.ipynb\" target=\"_parent\"><img src=\"https://colab.research.google.com/assets/colab-badge.svg\" alt=\"Open In Colab\"/></a>"
      ]
    },
    {
      "cell_type": "markdown",
      "metadata": {
        "id": "Cmbmf6R5jUc8",
        "colab_type": "text"
      },
      "source": [
        "# Reverse a String"
      ]
    },
    {
      "cell_type": "code",
      "metadata": {
        "id": "rcuibNOtiRPo",
        "colab_type": "code",
        "colab": {
          "base_uri": "https://localhost:8080/",
          "height": 88
        },
        "outputId": "5ce4b066-560c-448b-df6a-cd0e3e76b4d6"
      },
      "source": [
        "nums = 1230\n",
        "numlist = list(str(nums))\n",
        "print(numlist)\n",
        "numlist.reverse()\n",
        "print(numlist)\n",
        "newstring = \"\".join(numlist)\n",
        "print(newstring)\n",
        "newint = int(newstring)\n",
        "print(newint)"
      ],
      "execution_count": 6,
      "outputs": [
        {
          "output_type": "stream",
          "text": [
            "['1', '2', '3', '0']\n",
            "['0', '3', '2', '1']\n",
            "0321\n",
            "321\n"
          ],
          "name": "stdout"
        }
      ]
    },
    {
      "cell_type": "markdown",
      "metadata": {
        "id": "eEEVi82ShDyo",
        "colab_type": "text"
      },
      "source": [
        "Write a function that reverses a string. The input string is given as an array of characters char[].\n",
        "\n",
        "Do not allocate extra space for another array, you must do this by modifying the input array in-place with O(1) extra memory."
      ]
    },
    {
      "cell_type": "code",
      "metadata": {
        "id": "-bQkDY3Zfmyq",
        "colab_type": "code",
        "colab": {
          "base_uri": "https://localhost:8080/",
          "height": 35
        },
        "outputId": "d9b44fbb-ce8f-45d5-dd9a-d1dccd64f4d7"
      },
      "source": [
        "import math\n",
        "\n",
        "def reverseString(s) -> None:\n",
        "          s.reverse()\n",
        "          return s\n",
        "#         lengthogString = len(s)\n",
        "        \n",
        "#         for i in range(len(s)):\n",
        "#             if(lengthogString % 2 == 0):\n",
        "#                 first = s[i]\n",
        "#                 last = s[-i]\n",
        "#                 s[i] = last\n",
        "#                 s[-i] = first\n",
        "#             else:\n",
        "#                 oddplacement = math.floor(lengthogString / 2)\n",
        "#                 print(s[-i])\n",
        "#                 if(i == oddplacement ):\n",
        "#                     continue\n",
        "#                 else:\n",
        "#                     first = s[i]\n",
        "#                     last = s[-i]\n",
        "#                     s[i] = last\n",
        "#                     s[-i] = first\n",
        "print(reverseString(['a','b','c','d','e']))"
      ],
      "execution_count": 63,
      "outputs": [
        {
          "output_type": "stream",
          "text": [
            "['e', 'd', 'c', 'b', 'a']\n"
          ],
          "name": "stdout"
        }
      ]
    },
    {
      "cell_type": "markdown",
      "metadata": {
        "id": "VytAvQtvqHuq",
        "colab_type": "text"
      },
      "source": [
        "# First Unique Character in a String\n",
        "Given a string, find the first non-repeating character in it and return it's index. If it doesn't exist, return -1."
      ]
    },
    {
      "cell_type": "code",
      "metadata": {
        "id": "pMsMbSOJpy4B",
        "colab_type": "code",
        "colab": {}
      },
      "source": [
        " def firstUniqChar(s: str) -> int:\n",
        "        listOfOverAppeared = []\n",
        "        for i in range(len(s)):\n",
        "            count = 0\n",
        "            if(s[i] in listOfOverAppeared):\n",
        "                continue\n",
        "            else:\n",
        "                for j in range(len(s)):\n",
        "                    if (s[i] == s[j]):\n",
        "                        count = count + 1\n",
        "                if (count < 2):\n",
        "                    return i\n",
        "                else:\n",
        "                    listOfOverAppeared.append(s[i])\n",
        "\n",
        "        return -1"
      ],
      "execution_count": 0,
      "outputs": []
    },
    {
      "cell_type": "markdown",
      "metadata": {
        "id": "GtruvRHOWgwR",
        "colab_type": "text"
      },
      "source": [
        "# Rotate Array\n",
        "Given an array, rotate the array to the right by k steps, where k is non-negative."
      ]
    },
    {
      "cell_type": "code",
      "metadata": {
        "id": "CjXwmGwWWhUP",
        "colab_type": "code",
        "colab": {
          "base_uri": "https://localhost:8080/",
          "height": 35
        },
        "outputId": "efcdc859-920e-402e-cfe1-1c6e9f8a750f"
      },
      "source": [
        "def rotate(nums,k):\n",
        "        temp = nums\n",
        "        le = len(nums)-1\n",
        "        for i in range(0,k):\n",
        "            r = temp[le]\n",
        "            del temp[le]\n",
        "            temp.insert(0,r)\n",
        "nums = [1,2,3,4,5,6]\n",
        "k = 2\n",
        "rotate(nums, k)\n",
        "print(nums)"
      ],
      "execution_count": 51,
      "outputs": [
        {
          "output_type": "stream",
          "text": [
            "[5, 6, 1, 2, 3, 4]\n"
          ],
          "name": "stdout"
        }
      ]
    },
    {
      "cell_type": "markdown",
      "metadata": {
        "id": "Agbt-OvEZEso",
        "colab_type": "text"
      },
      "source": [
        "# Move Zeroes (283)\n",
        "Given an array nums, write a function to move all 0's to the end of it while maintaining the relative order of the non-zero elements."
      ]
    },
    {
      "cell_type": "code",
      "metadata": {
        "id": "0E2fVyh6ZFDP",
        "colab_type": "code",
        "colab": {
          "base_uri": "https://localhost:8080/",
          "height": 52
        },
        "outputId": "66513af8-6cc2-4aad-d5ac-1f1a50b49436"
      },
      "source": [
        "def moveZeroes(nums):\n",
        "        \"\"\"\n",
        "        Do not return anything, modify nums in-place instead.\n",
        "        \"\"\"\n",
        "        for i in range(len(nums)):\n",
        "            if(nums[i] == 0):\n",
        "                nums.remove(0)\n",
        "                nums.append(0)\n",
        "nums = [1,0,0,2,3,0,4,5,6]\n",
        "print(\"Initial Nums\", nums)\n",
        "moveZeroes(nums)\n",
        "print(\"After moving \",nums)"
      ],
      "execution_count": 55,
      "outputs": [
        {
          "output_type": "stream",
          "text": [
            "Initial Nums [1, 0, 0, 2, 3, 0, 4, 5, 6]\n",
            "After moving  [1, 2, 3, 4, 5, 6, 0, 0, 0]\n"
          ],
          "name": "stdout"
        }
      ]
    },
    {
      "cell_type": "markdown",
      "metadata": {
        "id": "QCncZfr0CkiB",
        "colab_type": "text"
      },
      "source": [
        "# 28. Implement strStr()\n",
        "Implement strStr().\n",
        "\n",
        "Return the index of the first occurrence of needle in haystack, or -1 if needle is not part of haystack.\n",
        "```\n",
        "Input: haystack = \"hello\", needle = \"ll\"\n",
        "Output: 2\n",
        "Input: haystack = \"aaaaa\", needle = \"bba\"\n",
        "Output: -1\n",
        "```"
      ]
    },
    {
      "cell_type": "code",
      "metadata": {
        "id": "J2yr8kkcCk-Q",
        "colab_type": "code",
        "colab": {
          "base_uri": "https://localhost:8080/",
          "height": 124
        },
        "outputId": "0189f295-0aa1-4445-93ed-d162d85017ff"
      },
      "source": [
        "def strStr(haystack,needle):\n",
        "        if(len(needle) == 0 and len(haystack)==0):\n",
        "            return len(needle)\n",
        "        elif(len(needle) == 0 ):\n",
        "            return len(needle)\n",
        "        for i in range(len(haystack)):\n",
        "            print(len(haystack[i:]), len(needle))\n",
        "            if (needle[0] == haystack[i] and len(haystack[i:]) >= len(needle)):\n",
        "                count = 0\n",
        "                for y in range(len(needle)):\n",
        "                    z = i + y\n",
        "                    print(\"needle\",needle[y],\"haystick\",haystack[z])\n",
        "                    if(needle[y] == haystack[z]):\n",
        "                        count = count + 1\n",
        "                if(count == len(needle)):\n",
        "                    return i\n",
        "        return -1\n",
        "haystack = \"hello\"\n",
        "needle = \"ll\"\n",
        "print(strStr(haystack,needle))"
      ],
      "execution_count": 8,
      "outputs": [
        {
          "output_type": "stream",
          "text": [
            "5 2\n",
            "4 2\n",
            "3 2\n",
            "needle l haystick l\n",
            "needle l haystick l\n",
            "2\n"
          ],
          "name": "stdout"
        }
      ]
    },
    {
      "cell_type": "markdown",
      "metadata": {
        "id": "kg4asoaTEVfQ",
        "colab_type": "text"
      },
      "source": [
        "# Two Sum\n",
        "Given an array of integers, return indices of the two numbers such that they add up to a specific target.\n",
        "\n",
        "You may assume that each input would have exactly one solution, and you may not use the same element twice.\n",
        "```\n",
        "Given nums = [2, 7, 11, 15], target = 9,\n",
        "Because nums[0] + nums[1] = 2 + 7 = 9,\n",
        "return [0, 1].\n",
        "```"
      ]
    },
    {
      "cell_type": "code",
      "metadata": {
        "id": "R92_mh-8EWFa",
        "colab_type": "code",
        "colab": {
          "base_uri": "https://localhost:8080/",
          "height": 52
        },
        "outputId": "29ab0840-86f4-4c24-b0a4-127f5d923d63"
      },
      "source": [
        "def twoSum(nums, target):\n",
        "        newlist = []\n",
        "        done = False\n",
        "        for inda, vala in enumerate(nums):\n",
        "            for indb in range(inda,len(nums)):\n",
        "               \n",
        "\n",
        "                if (inda == indb):\n",
        "                    continue\n",
        "\n",
        "\n",
        "                if ((vala + nums[indb]) == target):\n",
        "                    print(\"Check\")\n",
        "                    newlist.append(inda)\n",
        "                    newlist.append(indb)\n",
        "                    done = True\n",
        "                    break\n",
        "            if (done == True):\n",
        "                break\n",
        "       \n",
        "        return newlist \n",
        "nums = [2, 7, 11, 15]\n",
        "target = 9\n",
        "print(twoSum(nums,target))\n",
        "\n"
      ],
      "execution_count": 9,
      "outputs": [
        {
          "output_type": "stream",
          "text": [
            "Check\n",
            "[0, 1]\n"
          ],
          "name": "stdout"
        }
      ]
    },
    {
      "cell_type": "markdown",
      "metadata": {
        "id": "B64vSElUFNYa",
        "colab_type": "text"
      },
      "source": [
        "# 26. Remove Duplicates from Sorted Array\n",
        "Given a sorted array nums, remove the duplicates in-place such that each element appear only once and return the new length.\n",
        "\n",
        "Do not allocate extra space for another array, you must do this by modifying the input array in-place with O(1) extra memory.\n",
        "```\n",
        "Given nums = [0,0,1,1,1,2,2,3,3,4],\n",
        "\n",
        "Your function should return length = 5, with the first five elements of nums being modified to 0, 1, 2, 3, and 4 respectively.\n",
        "\n",
        "It doesn't matter what values are set beyond the returned length.\n",
        "```"
      ]
    },
    {
      "cell_type": "code",
      "metadata": {
        "id": "OQ5ASiWXFODW",
        "colab_type": "code",
        "colab": {
          "base_uri": "https://localhost:8080/",
          "height": 327
        },
        "outputId": "132fca3f-8a2d-4869-a910-7462f32fe54f"
      },
      "source": [
        "def removeDuplicates(nums):\n",
        "        '''temp = nums.copy()\n",
        "        for i in range(len(nums) - 1):\n",
        "\n",
        "\n",
        "            if (nums[i] == nums[i + 1]):\n",
        "                temp.remove(nums[i])\n",
        "        print(temp)\n",
        "        nums = temp \n",
        "        len(nums)'''\n",
        "        exitFlag = False\n",
        "        lastUniqueElement = nums[len(nums)]\n",
        "        #print(lastUniqueElement)\n",
        "        count = 0\n",
        "        for i in range(len(nums)-1):\n",
        "            count = count +1\n",
        "            if(exitFlag):\n",
        "                break\n",
        "            while (nums[i] == nums[i + 1]):\n",
        "                #print(nums[i],nums[i + 1])\n",
        "                temp = nums[i + 1]\n",
        "                del nums[i + 1]\n",
        "                nums.append(temp)\n",
        "                #print(nums[i + 1])\n",
        "                #print(nums)\n",
        "                #print(exitFlag)\n",
        "                if(lastUniqueElement == nums[i]):\n",
        "                    exitFlag = True\n",
        "            #print(\"count\", count)\n",
        "\n",
        "\n",
        "        return count\n",
        "nums = [0,0,1,1,1,2,2,3,3,4]\n",
        "print(removeDuplicates(nums))"
      ],
      "execution_count": 10,
      "outputs": [
        {
          "output_type": "error",
          "ename": "IndexError",
          "evalue": "ignored",
          "traceback": [
            "\u001b[0;31m---------------------------------------------------------------------------\u001b[0m",
            "\u001b[0;31mIndexError\u001b[0m                                Traceback (most recent call last)",
            "\u001b[0;32m<ipython-input-10-cd113af78204>\u001b[0m in \u001b[0;36m<module>\u001b[0;34m()\u001b[0m\n\u001b[1;32m     32\u001b[0m         \u001b[0;32mreturn\u001b[0m \u001b[0mcount\u001b[0m\u001b[0;34m\u001b[0m\u001b[0;34m\u001b[0m\u001b[0m\n\u001b[1;32m     33\u001b[0m \u001b[0mnums\u001b[0m \u001b[0;34m=\u001b[0m \u001b[0;34m[\u001b[0m\u001b[0;36m0\u001b[0m\u001b[0;34m,\u001b[0m\u001b[0;36m0\u001b[0m\u001b[0;34m,\u001b[0m\u001b[0;36m1\u001b[0m\u001b[0;34m,\u001b[0m\u001b[0;36m1\u001b[0m\u001b[0;34m,\u001b[0m\u001b[0;36m1\u001b[0m\u001b[0;34m,\u001b[0m\u001b[0;36m2\u001b[0m\u001b[0;34m,\u001b[0m\u001b[0;36m2\u001b[0m\u001b[0;34m,\u001b[0m\u001b[0;36m3\u001b[0m\u001b[0;34m,\u001b[0m\u001b[0;36m3\u001b[0m\u001b[0;34m,\u001b[0m\u001b[0;36m4\u001b[0m\u001b[0;34m]\u001b[0m\u001b[0;34m\u001b[0m\u001b[0;34m\u001b[0m\u001b[0m\n\u001b[0;32m---> 34\u001b[0;31m \u001b[0mprint\u001b[0m\u001b[0;34m(\u001b[0m\u001b[0mremoveDuplicates\u001b[0m\u001b[0;34m(\u001b[0m\u001b[0mnums\u001b[0m\u001b[0;34m)\u001b[0m\u001b[0;34m)\u001b[0m\u001b[0;34m\u001b[0m\u001b[0;34m\u001b[0m\u001b[0m\n\u001b[0m",
            "\u001b[0;32m<ipython-input-10-cd113af78204>\u001b[0m in \u001b[0;36mremoveDuplicates\u001b[0;34m(nums)\u001b[0m\n\u001b[1;32m     10\u001b[0m         len(nums)'''\n\u001b[1;32m     11\u001b[0m         \u001b[0mexitFlag\u001b[0m \u001b[0;34m=\u001b[0m \u001b[0;32mFalse\u001b[0m\u001b[0;34m\u001b[0m\u001b[0;34m\u001b[0m\u001b[0m\n\u001b[0;32m---> 12\u001b[0;31m         \u001b[0mlastUniqueElement\u001b[0m \u001b[0;34m=\u001b[0m \u001b[0mnums\u001b[0m\u001b[0;34m[\u001b[0m\u001b[0mlen\u001b[0m\u001b[0;34m(\u001b[0m\u001b[0mnums\u001b[0m\u001b[0;34m)\u001b[0m\u001b[0;34m]\u001b[0m\u001b[0;34m\u001b[0m\u001b[0;34m\u001b[0m\u001b[0m\n\u001b[0m\u001b[1;32m     13\u001b[0m         \u001b[0;31m#print(lastUniqueElement)\u001b[0m\u001b[0;34m\u001b[0m\u001b[0;34m\u001b[0m\u001b[0;34m\u001b[0m\u001b[0m\n\u001b[1;32m     14\u001b[0m         \u001b[0mcount\u001b[0m \u001b[0;34m=\u001b[0m \u001b[0;36m0\u001b[0m\u001b[0;34m\u001b[0m\u001b[0;34m\u001b[0m\u001b[0m\n",
            "\u001b[0;31mIndexError\u001b[0m: list index out of range"
          ]
        }
      ]
    },
    {
      "cell_type": "markdown",
      "metadata": {
        "id": "LC6iaEly09_Z",
        "colab_type": "text"
      },
      "source": [
        "# Palindrome \n",
        "same in reverse order"
      ]
    },
    {
      "cell_type": "code",
      "metadata": {
        "id": "M6HbuAXSiaxf",
        "colab_type": "code",
        "colab": {}
      },
      "source": [
        "import re\n",
        "def isPalindrome(s: str) -> bool:\n",
        "       \n",
        "        s = s.lower()\n",
        "        cleanedwords = re.findall('\\w',s)\n",
        "        print(cleanedwords)\n",
        "        reversorder = cleanedwords[::-1]\n",
        "        count = 0\n",
        "        for i in range(len(cleanedwords)):\n",
        "            y = i + 1\n",
        "            print('Forward order', cleanedwords[i])\n",
        "            print('Reverse order', reversorder[i] )\n",
        "            if(cleanedwords[i] == cleanedwords[-y]):\n",
        "                count = count + 1\n",
        "                print(count)\n",
        "            else:\n",
        "                return False \n",
        "        return True"
      ],
      "execution_count": 0,
      "outputs": []
    },
    {
      "cell_type": "code",
      "metadata": {
        "id": "Ya2NG4780-aG",
        "colab_type": "code",
        "colab": {
          "base_uri": "https://localhost:8080/",
          "height": 70
        },
        "outputId": "1723106c-62f0-4b41-fb1d-6ee50653dc30"
      },
      "source": [
        "#\n",
        "import re\n",
        "import time\n",
        "s = \"A man, a plan, a canal: Panama\"\n",
        "t = \"nagaram\"\n",
        "def singleNumber(s):\n",
        "    y = re.findall(\"\\w\", s)\n",
        "    #y = [e.lower() for e in y]\n",
        "    #Using map in place of list comprehension\n",
        "    y = list(map(lambda x: x.lower(), y))\n",
        "    k = y[::-1]\n",
        "    print(k)\n",
        "    count = 0\n",
        "    for i in range(len(y)):\n",
        "        if(y[i] == k[i]):\n",
        "            count = count + 1\n",
        "    print(count)\n",
        "    if (count == len(y)):\n",
        "        return True\n",
        "\n",
        "net = singleNumber(s)\n",
        "print(net)"
      ],
      "execution_count": 10,
      "outputs": [
        {
          "output_type": "stream",
          "text": [
            "['a', 'm', 'a', 'n', 'a', 'p', 'l', 'a', 'n', 'a', 'c', 'a', 'n', 'a', 'l', 'p', 'a', 'n', 'a', 'm', 'a']\n",
            "21\n",
            "True\n"
          ],
          "name": "stdout"
        }
      ]
    },
    {
      "cell_type": "markdown",
      "metadata": {
        "id": "fFYrK_5tXMAS",
        "colab_type": "text"
      },
      "source": [
        "# Anagram\n",
        "Same letters but different order\n"
      ]
    },
    {
      "cell_type": "code",
      "metadata": {
        "id": "dfQd3viYBXZi",
        "colab_type": "code",
        "colab": {
          "base_uri": "https://localhost:8080/",
          "height": 52
        },
        "outputId": "bc92157c-1a71-46f2-deb2-5d93bd988ba4"
      },
      "source": [
        "#Temp trial\n",
        "import re\n",
        "s = \"A man, a plan, a canal: Panama\"\n",
        "t = \"nagaram\"\n",
        "slist = re.findall(\"\\w\",s)\n",
        "tlist = re.findall(\"\\w\",t)\n",
        "print(slist, tlist)\n",
        "\n",
        "for a in slist:\n",
        "    for b in tlist :\n",
        "        if (a == b):\n",
        "             tlist.remove(b)\n",
        "             break\n",
        "if(len(tlist) == 0):\n",
        "  Print(\"Anagram\")\n",
        "else:\n",
        "  print(len(tlist))\n",
        "\n",
        "   "
      ],
      "execution_count": 18,
      "outputs": [
        {
          "output_type": "stream",
          "text": [
            "['A', 'm', 'a', 'n', 'a', 'p', 'l', 'a', 'n', 'a', 'c', 'a', 'n', 'a', 'l', 'P', 'a', 'n', 'a', 'm', 'a'] ['n', 'a', 'g', 'a', 'r', 'a', 'm']\n",
            "2\n"
          ],
          "name": "stdout"
        }
      ]
    },
    {
      "cell_type": "markdown",
      "metadata": {
        "id": "FOqYYkL7iSR8",
        "colab_type": "text"
      },
      "source": [
        ""
      ]
    },
    {
      "cell_type": "code",
      "metadata": {
        "id": "czGtaI5xcslx",
        "colab_type": "code",
        "colab": {
          "base_uri": "https://localhost:8080/",
          "height": 70
        },
        "outputId": "9368513e-2a3b-4099-e8f8-5a73c571f2e2"
      },
      "source": [
        "import re\n",
        "s = \"naaramg\"\n",
        "t = \"nagaram\"\n",
        "def anangram(s,t):\n",
        "  #list.sort() wont return sorted list but gives inplaced sort of existing list\n",
        "  y = list(s)\n",
        "  test = y.sort()\n",
        "  print(test, y)\n",
        "  sl = sorted(list(s))\n",
        "  tl = sorted(list(t))\n",
        "  print(sl,tl)\n",
        "  for i in range(len(sl)):\n",
        "    if(sl[i] == tl[i]):\n",
        "      pass\n",
        "    else: \n",
        "      return False \n",
        "  return True\n",
        "  \n",
        "print(anangram(s,t))"
      ],
      "execution_count": 29,
      "outputs": [
        {
          "output_type": "stream",
          "text": [
            "None ['a', 'a', 'a', 'g', 'm', 'n', 'r']\n",
            "['a', 'a', 'a', 'g', 'm', 'n', 'r'] ['a', 'a', 'a', 'g', 'm', 'n', 'r']\n",
            "True\n"
          ],
          "name": "stdout"
        }
      ]
    },
    {
      "cell_type": "markdown",
      "metadata": {
        "id": "yOnlM-_chsOo",
        "colab_type": "text"
      },
      "source": [
        "\n",
        "# Reverse Integer\n",
        "Given a 32-bit signed integer, reverse digits of an integer."
      ]
    },
    {
      "cell_type": "code",
      "metadata": {
        "id": "IaqtZesFhsrA",
        "colab_type": "code",
        "colab": {}
      },
      "source": [
        "def reverse(self, x: int) -> int:\n",
        "        y = str(x)\n",
        "        listy = list(y)\n",
        "        revy = listy[::-1]\n",
        "        if(revy[-1] == '-'):\n",
        "            revy.insert(0,revy[-1])\n",
        "            del revy[-1]\n",
        "        strconv =  ''.join(revy)\n",
        "        z = int(strconv)\n",
        "        \n",
        "        if(z > 2147483648 or z < -2147483648):\n",
        "            z = 0\n",
        "        return z"
      ],
      "execution_count": 0,
      "outputs": []
    },
    {
      "cell_type": "markdown",
      "metadata": {
        "id": "KspHa_QPoK8K",
        "colab_type": "text"
      },
      "source": [
        "# Contains Duplicate\n",
        "Given an array of integers, find if the array contains any duplicates.\n",
        "\n",
        "Your function should return true if any value appears at least twice in the array, and it should return false if every element is distinct."
      ]
    },
    {
      "cell_type": "code",
      "metadata": {
        "id": "7zvs1flZ_4Gu",
        "colab_type": "code",
        "colab": {
          "base_uri": "https://localhost:8080/",
          "height": 70
        },
        "outputId": "863076c0-829a-4ea2-e08e-f7f3d72c1b64"
      },
      "source": [
        "#a = [1,2,3,4,5,6,7]\n",
        "a = [1,2,4,3,6,4,5,6,7]\n",
        "def containsDuplicate(nums):\n",
        "        flag = False \n",
        "        print(nums)\n",
        "        nums.sort()\n",
        "        print(nums)\n",
        "        for i in range(len(nums)-1):\n",
        "            if(nums[i] == nums[i+1]):\n",
        "                    flag = True  \n",
        "            # for j in range(i+1,len(nums)):\n",
        "                # if(i == j):\n",
        "                #     continue\n",
        "                # else:\n",
        "                                  \n",
        "        return flag \n",
        "print(containsDuplicate(a))"
      ],
      "execution_count": 7,
      "outputs": [
        {
          "output_type": "stream",
          "text": [
            "[1, 2, 4, 3, 6, 4, 5, 6, 7]\n",
            "[1, 2, 3, 4, 4, 5, 6, 6, 7]\n",
            "True\n"
          ],
          "name": "stdout"
        }
      ]
    },
    {
      "cell_type": "code",
      "metadata": {
        "id": "5ECgHosFotCS",
        "colab_type": "code",
        "colab": {
          "base_uri": "https://localhost:8080/",
          "height": 159
        },
        "outputId": "18ed7f59-8bcb-4cca-8d5c-a035b4dc59d9"
      },
      "source": [
        "a = [1,3,2,1,3,6,5,2,5,6,7,4,4]\n",
        "a.sort()\n",
        "print(a)\n",
        "def ifNotTwice(a):\n",
        "    flagNoTwin = False\n",
        "    for i in range(0,len(a) - 2, 2):\n",
        "\n",
        "        print(a[i],a[i + 1])\n",
        "        if (a[i] == a[i + 1]):\n",
        "            pass\n",
        "        else:\n",
        "\n",
        "            return a[i]\n",
        "\n",
        "    return a[-1]\n",
        "\n",
        "print(ifNotTwice(a))"
      ],
      "execution_count": 33,
      "outputs": [
        {
          "output_type": "stream",
          "text": [
            "[1, 1, 2, 2, 3, 3, 4, 4, 5, 5, 6, 6, 7]\n",
            "1 1\n",
            "2 2\n",
            "3 3\n",
            "4 4\n",
            "5 5\n",
            "6 6\n",
            "7\n"
          ],
          "name": "stdout"
        }
      ]
    },
    {
      "cell_type": "markdown",
      "metadata": {
        "id": "_sY2xVdfwZCk",
        "colab_type": "text"
      },
      "source": [
        "# Intersection\n",
        "Given two arrays, write a function to compute their intersection."
      ]
    },
    {
      "cell_type": "code",
      "metadata": {
        "id": "rBIKayI6wZVN",
        "colab_type": "code",
        "colab": {}
      },
      "source": [
        "class Solution:\n",
        "    def intersect(self, nums1: List[int], nums2: List[int]) -> List[int]:\n",
        "        intersectList = []\n",
        "        for i in nums1:\n",
        "            for j in nums2:\n",
        "                if(i == j):\n",
        "                    \n",
        "                    intersectList.append(i)\n",
        "                    nums2.remove(j)\n",
        "                    break\n",
        "        return intersectList\n",
        "# [4,9,5]\n",
        "# [9,4,9,8,4]"
      ],
      "execution_count": 0,
      "outputs": []
    },
    {
      "cell_type": "markdown",
      "metadata": {
        "id": "c7HARqPtxUjp",
        "colab_type": "text"
      },
      "source": [
        "# Find that single one.\n",
        "Given a non-empty array of integers, every element appears twice except for one. "
      ]
    },
    {
      "cell_type": "code",
      "metadata": {
        "id": "2qW9t95KxU2H",
        "colab_type": "code",
        "colab": {}
      },
      "source": [
        "def singleNumber(nums: List[int]) -> int:\n",
        "  '''listofelements = []\n",
        "            for i in range(len(nums)):\n",
        "                count = 0\n",
        "                if(nums[i] not in listofelements ):\n",
        "                    listofelements.append(nums[i])\n",
        "                    for j in range(i,len(nums)):\n",
        "\n",
        "                        if(nums[i] == nums[j]):\n",
        "                            count = count + 1\n",
        "\n",
        "                    if(count == 1):\n",
        "                        return nums[i]'''\n",
        "  nums.sort()\n",
        "  for i in range(0,len(nums) - 2, 2):\n",
        "    print(nums[i],nums[i + 1])\n",
        "    if (nums[i] == nums[i + 1]):\n",
        "         pass\n",
        "    else:\n",
        "\n",
        "          return nums[i]\n",
        "\n",
        "                \n",
        "\n",
        "  return nums[-1]\n",
        "        \n",
        "            \n",
        "          \n",
        "        \n",
        "            "
      ],
      "execution_count": 0,
      "outputs": []
    },
    {
      "cell_type": "markdown",
      "metadata": {
        "id": "5DlaiBskItds",
        "colab_type": "text"
      },
      "source": [
        "# Plus One\n",
        "Given a non-empty array of digits representing a non-negative integer, plus one to the integer.\n",
        "\n",
        "The digits are stored such that the most significant digit is at the head of the list, and each element in the array contain a single digit.\n",
        "\n",
        "You may assume the integer does not contain any leading zero, except the number 0 itself.\n",
        "\n",
        "\n",
        "\n",
        "```\n",
        "Input: [1,2,3]\n",
        "Output: [1,2,4]\n",
        "Explanation: The array represents the integer 123.\n",
        "```\n",
        "\n",
        "\n",
        "\n",
        "\n",
        "\n"
      ]
    },
    {
      "cell_type": "code",
      "metadata": {
        "id": "GkVLQSgtIt1-",
        "colab_type": "code",
        "colab": {
          "base_uri": "https://localhost:8080/",
          "height": 35
        },
        "outputId": "9fd770d4-eb30-49f4-c613-3ac415e4e772"
      },
      "source": [
        "def plusOne(digits):\n",
        "        string = ''\n",
        "    \n",
        "        for i in digits:\n",
        "            string = string + str(i) \n",
        "        \n",
        "        num = int(string)\n",
        "        num = num+1\n",
        "        \n",
        "        newstring = str(num)\n",
        "        newList = []\n",
        "        for i in range(len(newstring)):\n",
        "            newList.append(int(newstring[i]))\n",
        "            \n",
        "        return newList\n",
        "givenDigits = [1,2,3]\n",
        "print(plusOne(givenDigits))"
      ],
      "execution_count": 39,
      "outputs": [
        {
          "output_type": "stream",
          "text": [
            "[1, 2, 4]\n"
          ],
          "name": "stdout"
        }
      ]
    },
    {
      "cell_type": "code",
      "metadata": {
        "id": "Ttr1ey04LXDE",
        "colab_type": "code",
        "colab": {
          "base_uri": "https://localhost:8080/",
          "height": 52
        },
        "outputId": "75f15a99-32e8-4296-9c35-058895f8a427"
      },
      "source": [
        "def plusOne(digits):\n",
        "            \n",
        "        #SINGLE LINE CODE\n",
        "        string = list(str(int(''.join(map(str,digits)))+1))\n",
        "        print(string)\n",
        "        #converting into INTs as expected\n",
        "        finalstring = list(map(int,string))\n",
        "            \n",
        "        return finalstring\n",
        "givenDigits = [1,2,3]\n",
        "print(plusOne(givenDigits))"
      ],
      "execution_count": 48,
      "outputs": [
        {
          "output_type": "stream",
          "text": [
            "['1', '2', '4']\n",
            "[1, 2, 4]\n"
          ],
          "name": "stdout"
        }
      ]
    },
    {
      "cell_type": "markdown",
      "metadata": {
        "id": "Lb-xNYh5GQ7W",
        "colab_type": "text"
      },
      "source": [
        "# Prime Number (204)\n",
        "Count the number of prime numbers less than a non-negative number, n."
      ]
    },
    {
      "cell_type": "code",
      "metadata": {
        "id": "pEKjBIRDGRS7",
        "colab_type": "code",
        "colab": {
          "base_uri": "https://localhost:8080/",
          "height": 52
        },
        "outputId": "f8a33782-0620-4aea-f819-54fc69442621"
      },
      "source": [
        "def countPrimes(n):\n",
        "\n",
        "    primenumber = []\n",
        "    for i in range(2, n):\n",
        "        flag = True\n",
        "        for j in range(2, i):\n",
        "            if (i % j == 0 ):\n",
        "                flag = False\n",
        "                break\n",
        "        if(flag):\n",
        "            primenumber.append(i)\n",
        "\n",
        "    print(primenumber)\n",
        "    return len(primenumber)\n",
        "print(countPrimes(100))"
      ],
      "execution_count": 37,
      "outputs": [
        {
          "output_type": "stream",
          "text": [
            "[2, 3, 5, 7, 11, 13, 17, 19, 23, 29, 31, 37, 41, 43, 47, 53, 59, 61, 67, 71, 73, 79, 83, 89, 97]\n",
            "25\n"
          ],
          "name": "stdout"
        }
      ]
    },
    {
      "cell_type": "markdown",
      "metadata": {
        "id": "3dOb4XxS66Mk",
        "colab_type": "text"
      },
      "source": [
        "# Power of Three (326)\n",
        "Given an integer, write a function to determine if it is a power of three.\n",
        "```\n",
        "Input: 27\n",
        "Output: true\n",
        "Input: 0\n",
        "Output: false\n",
        "Input: 9\n",
        "Output: true\n",
        "Input: 45\n",
        "Output: false\n",
        "```"
      ]
    },
    {
      "cell_type": "code",
      "metadata": {
        "id": "3I3aEm9n660y",
        "colab_type": "code",
        "colab": {
          "base_uri": "https://localhost:8080/",
          "height": 35
        },
        "outputId": "4600e0b5-a00d-4272-f045-8cfcf03f4e4f"
      },
      "source": [
        "def isPowerOfThree(n):\n",
        "        flag = False\n",
        "        i = 1\n",
        "        while(i <= n):\n",
        "            \n",
        "            if(n == (i)):\n",
        "                flag = True\n",
        "            i = i*3\n",
        "        return flag\n",
        "print(isPowerOfThree(81))"
      ],
      "execution_count": 1,
      "outputs": [
        {
          "output_type": "stream",
          "text": [
            "True\n"
          ],
          "name": "stdout"
        }
      ]
    },
    {
      "cell_type": "markdown",
      "metadata": {
        "id": "OLER71BP8Y2R",
        "colab_type": "text"
      },
      "source": [
        "# Fizz Buzz (412)\n",
        "Write a program that outputs the string representation of numbers from 1 to n.\n",
        "\n",
        "But for multiples of three it should output “Fizz” instead of the number and for the multiples of five output “Buzz”. For numbers which are multiples of both three and five output “FizzBuzz”."
      ]
    },
    {
      "cell_type": "code",
      "metadata": {
        "id": "aZMZLdue8ZeZ",
        "colab_type": "code",
        "colab": {
          "base_uri": "https://localhost:8080/",
          "height": 35
        },
        "outputId": "294c6f1c-ac62-43e5-a0e1-9a799e3fb540"
      },
      "source": [
        "def fizzBuzz(n):\n",
        "        \"\"\"\n",
        "        :type n: int\n",
        "        :rtype: List[str]\n",
        "        \"\"\"\n",
        "        fizzbuzzlist = []\n",
        "        for i in range(1,n+1):\n",
        "            if(i % 3 == 0 and i % 5==0 ):\n",
        "                fizzbuzzlist.append('FizzBuzz')\n",
        "            elif(i % 3 == 0):\n",
        "                fizzbuzzlist.append('Fizz')\n",
        "            elif(i % 5 == 0):\n",
        "                fizzbuzzlist.append('Buzz')\n",
        "            else:\n",
        "                fizzbuzzlist.append(str(i))\n",
        "        return fizzbuzzlist\n",
        "print(fizzBuzz(15))"
      ],
      "execution_count": 2,
      "outputs": [
        {
          "output_type": "stream",
          "text": [
            "['1', '2', 'Fizz', '4', 'Buzz', 'Fizz', '7', '8', 'Fizz', 'Buzz', '11', 'Fizz', '13', '14', 'FizzBuzz']\n"
          ],
          "name": "stdout"
        }
      ]
    },
    {
      "cell_type": "markdown",
      "metadata": {
        "id": "ANAkn2vUdlrM",
        "colab_type": "text"
      },
      "source": [
        "#Valid Sudoku(36) \n",
        "Determine if a 9x9 Sudoku board is valid. Only the filled cells need to be validated according to the following rules:\n",
        "\n",
        "* Each row must contain the digits 1-9 without repetition.\n",
        "* Each column must contain the digits 1-9 without repetition.\n",
        "* Each of the 9 3x3 sub-boxes of the grid must contain the digits 1-9 without repetition."
      ]
    },
    {
      "cell_type": "code",
      "metadata": {
        "id": "gyjM76lCdmHI",
        "colab_type": "code",
        "colab": {
          "base_uri": "https://localhost:8080/",
          "height": 52
        },
        "outputId": "63d50630-1564-45e2-c419-2ac05d672c51"
      },
      "source": [
        "def isValidSudoku(board):\n",
        "        for i in range(len(board)):\n",
        "            rowDataList = []\n",
        "            columnDataList = []\n",
        "            for j in range(len(board)):\n",
        "                # print(board[i][j])\n",
        "                if((str(board[i][j]) != \".\")):\n",
        "                    if((board[i][j] not in rowDataList)):\n",
        "                        rowDataList.append(board[i][j])\n",
        "                    else:\n",
        "                        return False\n",
        "\n",
        "                if((str(board[j][i]) != \".\")):\n",
        "                    if((board[j][i] not in columnDataList)):\n",
        "                        columnDataList.append(board[j][i])\n",
        "                    else:\n",
        "                        return False\n",
        "        for i in range(1, len(board), 3):\n",
        "            for j in range(1, len(board), 3):\n",
        "                threeBoxDataList = []\n",
        "                for k in range(-1, 2):\n",
        "                    for l in range(-1, 2):\n",
        "                        if ((str(board[i + k][j + l]) != \".\")):\n",
        "                            # print(i + k,j + l)\n",
        "                            # print(board[i + k][j + l])\n",
        "                            if ((board[i + k][j + l] not in threeBoxDataList)):\n",
        "                                threeBoxDataList.append(board[i + k][j + l])\n",
        "                            else:\n",
        "                                return False\n",
        "        \n",
        "                        \n",
        "              \n",
        "        \n",
        "        return True\n",
        "board = [\n",
        "  [\"5\",\"3\",\".\",\".\",\"7\",\".\",\".\",\".\",\".\"],\n",
        "  [\"6\",\".\",\".\",\"1\",\"9\",\"5\",\".\",\".\",\".\"],\n",
        "  [\".\",\"9\",\"8\",\".\",\".\",\".\",\".\",\"6\",\".\"],\n",
        "  [\"8\",\".\",\".\",\".\",\"6\",\".\",\".\",\".\",\"3\"],\n",
        "  [\"4\",\".\",\".\",\"8\",\".\",\"3\",\".\",\".\",\"1\"],\n",
        "  [\"7\",\".\",\".\",\".\",\"2\",\".\",\".\",\".\",\"6\"],\n",
        "  [\".\",\"6\",\".\",\".\",\".\",\".\",\"2\",\"8\",\".\"],\n",
        "  [\".\",\".\",\".\",\"4\",\"1\",\"9\",\".\",\".\",\"5\"],\n",
        "  [\".\",\".\",\".\",\".\",\"8\",\".\",\".\",\"7\",\"9\"]\n",
        "]\n",
        "\n",
        "print(isValidSudoku(board))\n",
        "\n",
        "board2 = [\n",
        "  [\"8\",\"3\",\".\",\".\",\"7\",\".\",\".\",\".\",\".\"],\n",
        "  [\"6\",\".\",\".\",\"1\",\"9\",\"5\",\".\",\".\",\".\"],\n",
        "  [\".\",\"9\",\"8\",\".\",\".\",\".\",\".\",\"6\",\".\"],\n",
        "  [\"8\",\".\",\".\",\".\",\"6\",\".\",\".\",\".\",\"3\"],\n",
        "  [\"4\",\".\",\".\",\"8\",\".\",\"3\",\".\",\".\",\"1\"],\n",
        "  [\"7\",\".\",\".\",\".\",\"2\",\".\",\".\",\".\",\"6\"],\n",
        "  [\".\",\"6\",\".\",\".\",\".\",\".\",\"2\",\"8\",\".\"],\n",
        "  [\".\",\".\",\".\",\"4\",\"1\",\"9\",\".\",\".\",\"5\"],\n",
        "  [\".\",\".\",\".\",\".\",\"8\",\".\",\".\",\"7\",\"9\"]\n",
        "]\n",
        "\n",
        "print(isValidSudoku(board2))"
      ],
      "execution_count": 58,
      "outputs": [
        {
          "output_type": "stream",
          "text": [
            "True\n",
            "False\n"
          ],
          "name": "stdout"
        }
      ]
    },
    {
      "cell_type": "markdown",
      "metadata": {
        "id": "0_5RF7WWetWQ",
        "colab_type": "text"
      },
      "source": [
        "Same as Example 1, except with the 5 in the top left corner being \n",
        "    modified to 8. Since there are two 8's in the top left 3x3 sub-box, it is invalid."
      ]
    }
  ]
}