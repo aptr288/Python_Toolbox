{
  "nbformat": 4,
  "nbformat_minor": 0,
  "metadata": {
    "colab": {
      "name": "Pandas Operations.ipynb",
      "version": "0.3.2",
      "provenance": [],
      "collapsed_sections": []
    },
    "kernelspec": {
      "name": "python3",
      "display_name": "Python 3"
    }
  },
  "cells": [
    {
      "cell_type": "code",
      "metadata": {
        "id": "BQmpybwN0v9J",
        "colab_type": "code",
        "outputId": "7802df9d-faa3-4694-d302-3a3da076bb57",
        "colab": {
          "base_uri": "https://localhost:8080/",
          "height": 230
        }
      },
      "source": [
        "#reference https://www.w3resource.com/python-exercises/pandas/index-dataframe.php\n",
        "import pandas as pd\n",
        "import numpy as np\n",
        "df = pd.DataFrame({'X':[78,85,96,80,86], 'Y':[84,94,89,83,86],'Z':[86,97,96,72,83]});\n",
        "print(df.pow(2))\n",
        "newDf = df ** 2\n",
        "print(newDf)"
      ],
      "execution_count": 0,
      "outputs": [
        {
          "output_type": "stream",
          "text": [
            "      X     Y     Z\n",
            "0  6084  7056  7396\n",
            "1  7225  8836  9409\n",
            "2  9216  7921  9216\n",
            "3  6400  6889  5184\n",
            "4  7396  7396  6889\n",
            "      X     Y     Z\n",
            "0  6084  7056  7396\n",
            "1  7225  8836  9409\n",
            "2  9216  7921  9216\n",
            "3  6400  6889  5184\n",
            "4  7396  7396  6889\n"
          ],
          "name": "stdout"
        }
      ]
    },
    {
      "cell_type": "markdown",
      "metadata": {
        "id": "pAJOnjW-09mB",
        "colab_type": "text"
      },
      "source": [
        "# #Initializing data frame with dictionary"
      ]
    },
    {
      "cell_type": "code",
      "metadata": {
        "id": "fhiOc3kR0333",
        "colab_type": "code",
        "outputId": "7f47a2c5-4ac2-4747-b2ff-d448e4d7d7ff",
        "colab": {
          "base_uri": "https://localhost:8080/",
          "height": 461
        }
      },
      "source": [
        "import pandas as pd\n",
        "\n",
        "dictdata = {'Match':[1.5,2,3,4.5,5,6],'Players':['Ind','Pak','Eng','SA','WI','Ban'] }\n",
        "data = pd.DataFrame(dictdata)\n",
        "print(data)\n",
        "print(\"Summary of the basic information about this DataFrame and its data:\")\n",
        "print(data.info())\n",
        "print(\"Data types of the columns of the said DataFrame:\")\n",
        "print(data.dtypes)\n",
        "print(\"\\nNow change the Data type of 'score' column from float to int:\")\n",
        "data.Match = data.Match.astype(int)\n",
        "print(data.dtypes)"
      ],
      "execution_count": 50,
      "outputs": [
        {
          "output_type": "stream",
          "text": [
            "   Match Players\n",
            "0    1.5     Ind\n",
            "1    2.0     Pak\n",
            "2    3.0     Eng\n",
            "3    4.5      SA\n",
            "4    5.0      WI\n",
            "5    6.0     Ban\n",
            "Summary of the basic information about this DataFrame and its data:\n",
            "<class 'pandas.core.frame.DataFrame'>\n",
            "RangeIndex: 6 entries, 0 to 5\n",
            "Data columns (total 2 columns):\n",
            "Match      6 non-null float64\n",
            "Players    6 non-null object\n",
            "dtypes: float64(1), object(1)\n",
            "memory usage: 176.0+ bytes\n",
            "None\n",
            "Data types of the columns of the said DataFrame:\n",
            "Match      float64\n",
            "Players     object\n",
            "dtype: object\n",
            "\n",
            "Now change the Data type of 'score' column from float to int:\n",
            "Match       int64\n",
            "Players    object\n",
            "dtype: object\n"
          ],
          "name": "stdout"
        }
      ]
    },
    {
      "cell_type": "markdown",
      "metadata": {
        "id": "Nsuz0G3yqgNQ",
        "colab_type": "text"
      },
      "source": [
        "# **Convert** a given **list of lists** into a **Dataframe**"
      ]
    },
    {
      "cell_type": "code",
      "metadata": {
        "id": "GzEGRKDFqaMZ",
        "colab_type": "code",
        "colab": {
          "base_uri": "https://localhost:8080/",
          "height": 124
        },
        "outputId": "63e015eb-a364-4b8b-af41-fbbb6b130a7a"
      },
      "source": [
        "#but each list becomes are record or a row not a SEPERATE column\n",
        "import pandas as pd\n",
        "my_lists = [['col1', 'col2'], [2, 4], [1, 3]]\n",
        "# sets the headers as list\n",
        "headers = my_lists.pop(0) \n",
        "print(\"Original list of lists:\")\n",
        "print(my_lists)\n",
        "df = pd.DataFrame(my_lists, columns = headers)\n",
        "print(\"New DataFrame\")\n",
        "print(df)"
      ],
      "execution_count": 52,
      "outputs": [
        {
          "output_type": "stream",
          "text": [
            "Original list of lists:\n",
            "[[2, 4], [1, 3]]\n",
            "New DataFrame\n",
            "   col1  col2\n",
            "0     2     4\n",
            "1     1     3\n"
          ],
          "name": "stdout"
        }
      ]
    },
    {
      "cell_type": "markdown",
      "metadata": {
        "id": "2zVcFHwx2uY_",
        "colab_type": "text"
      },
      "source": [
        "# Select multiple Columns "
      ]
    },
    {
      "cell_type": "code",
      "metadata": {
        "id": "gZjo7r6a2YMT",
        "colab_type": "code",
        "outputId": "17230f05-3285-4c18-928e-2f085e71dbe9",
        "colab": {
          "base_uri": "https://localhost:8080/",
          "height": 352
        }
      },
      "source": [
        "#select the 'name' and 'score' columns, we creat LIST of COLUMN names for selecting specific columns\n",
        "df[['name','score']]"
      ],
      "execution_count": 0,
      "outputs": [
        {
          "output_type": "execute_result",
          "data": {
            "text/html": [
              "<div>\n",
              "<style scoped>\n",
              "    .dataframe tbody tr th:only-of-type {\n",
              "        vertical-align: middle;\n",
              "    }\n",
              "\n",
              "    .dataframe tbody tr th {\n",
              "        vertical-align: top;\n",
              "    }\n",
              "\n",
              "    .dataframe thead th {\n",
              "        text-align: right;\n",
              "    }\n",
              "</style>\n",
              "<table border=\"1\" class=\"dataframe\">\n",
              "  <thead>\n",
              "    <tr style=\"text-align: right;\">\n",
              "      <th></th>\n",
              "      <th>name</th>\n",
              "      <th>score</th>\n",
              "    </tr>\n",
              "  </thead>\n",
              "  <tbody>\n",
              "    <tr>\n",
              "      <th>a</th>\n",
              "      <td>Anastasia</td>\n",
              "      <td>12.5</td>\n",
              "    </tr>\n",
              "    <tr>\n",
              "      <th>b</th>\n",
              "      <td>Dima</td>\n",
              "      <td>9.0</td>\n",
              "    </tr>\n",
              "    <tr>\n",
              "      <th>c</th>\n",
              "      <td>Katherine</td>\n",
              "      <td>16.5</td>\n",
              "    </tr>\n",
              "    <tr>\n",
              "      <th>d</th>\n",
              "      <td>James</td>\n",
              "      <td>NaN</td>\n",
              "    </tr>\n",
              "    <tr>\n",
              "      <th>e</th>\n",
              "      <td>Emily</td>\n",
              "      <td>9.0</td>\n",
              "    </tr>\n",
              "    <tr>\n",
              "      <th>f</th>\n",
              "      <td>Michael</td>\n",
              "      <td>20.0</td>\n",
              "    </tr>\n",
              "    <tr>\n",
              "      <th>g</th>\n",
              "      <td>Matthew</td>\n",
              "      <td>14.5</td>\n",
              "    </tr>\n",
              "    <tr>\n",
              "      <th>h</th>\n",
              "      <td>Laura</td>\n",
              "      <td>NaN</td>\n",
              "    </tr>\n",
              "    <tr>\n",
              "      <th>i</th>\n",
              "      <td>Kevin</td>\n",
              "      <td>8.0</td>\n",
              "    </tr>\n",
              "    <tr>\n",
              "      <th>j</th>\n",
              "      <td>Jonas</td>\n",
              "      <td>19.0</td>\n",
              "    </tr>\n",
              "  </tbody>\n",
              "</table>\n",
              "</div>"
            ],
            "text/plain": [
              "        name  score\n",
              "a  Anastasia   12.5\n",
              "b       Dima    9.0\n",
              "c  Katherine   16.5\n",
              "d      James    NaN\n",
              "e      Emily    9.0\n",
              "f    Michael   20.0\n",
              "g    Matthew   14.5\n",
              "h      Laura    NaN\n",
              "i      Kevin    8.0\n",
              "j      Jonas   19.0"
            ]
          },
          "metadata": {
            "tags": []
          },
          "execution_count": 5
        }
      ]
    },
    {
      "cell_type": "markdown",
      "metadata": {
        "id": "f5HiRl3g1Hta",
        "colab_type": "text"
      },
      "source": [
        "# Slicing DataFrame\n",
        "Pandas program to get the first 3 rows of a given DataFrame\n"
      ]
    },
    {
      "cell_type": "code",
      "metadata": {
        "id": "zQDrcC1E1Qgw",
        "colab_type": "code",
        "outputId": "9b6def15-0320-430f-fe14-cf466cd95611",
        "colab": {
          "base_uri": "https://localhost:8080/",
          "height": 159
        }
      },
      "source": [
        "#loc for EXPLICIT indexing So we get 3 Rows and all columns\n",
        "print(data.loc[0:2, :])\n",
        "#iloc for IMPLICIT indexing with 3 rows and One column\n",
        "print(data.iloc[0:3, 0:1])"
      ],
      "execution_count": 0,
      "outputs": [
        {
          "output_type": "stream",
          "text": [
            "   Match Players\n",
            "0      1     Ind\n",
            "1      2     Pak\n",
            "2      3     Eng\n",
            "   Match\n",
            "0      1\n",
            "1      2\n",
            "2      3\n"
          ],
          "name": "stdout"
        }
      ]
    },
    {
      "cell_type": "markdown",
      "metadata": {
        "id": "f4JW9Dll5M5S",
        "colab_type": "text"
      },
      "source": [
        "Select the specified columns and rows"
      ]
    },
    {
      "cell_type": "code",
      "metadata": {
        "id": "dI4FEVG65L95",
        "colab_type": "code",
        "outputId": "4972f3cd-c1f8-4c20-a417-518cec88f672",
        "colab": {
          "base_uri": "https://localhost:8080/",
          "height": 241
        }
      },
      "source": [
        "print(df[['name','score']].iloc[0:3])\n",
        "df.iloc[[1, 3, 5, 6], [1, 3]]"
      ],
      "execution_count": 0,
      "outputs": [
        {
          "output_type": "stream",
          "text": [
            "        name  score\n",
            "a  Anastasia   12.5\n",
            "b       Dima    9.0\n",
            "c  Katherine   16.5\n"
          ],
          "name": "stdout"
        },
        {
          "output_type": "execute_result",
          "data": {
            "text/html": [
              "<div>\n",
              "<style scoped>\n",
              "    .dataframe tbody tr th:only-of-type {\n",
              "        vertical-align: middle;\n",
              "    }\n",
              "\n",
              "    .dataframe tbody tr th {\n",
              "        vertical-align: top;\n",
              "    }\n",
              "\n",
              "    .dataframe thead th {\n",
              "        text-align: right;\n",
              "    }\n",
              "</style>\n",
              "<table border=\"1\" class=\"dataframe\">\n",
              "  <thead>\n",
              "    <tr style=\"text-align: right;\">\n",
              "      <th></th>\n",
              "      <th>score</th>\n",
              "      <th>qualify</th>\n",
              "    </tr>\n",
              "  </thead>\n",
              "  <tbody>\n",
              "    <tr>\n",
              "      <th>b</th>\n",
              "      <td>9.0</td>\n",
              "      <td>no</td>\n",
              "    </tr>\n",
              "    <tr>\n",
              "      <th>d</th>\n",
              "      <td>NaN</td>\n",
              "      <td>no</td>\n",
              "    </tr>\n",
              "    <tr>\n",
              "      <th>f</th>\n",
              "      <td>20.0</td>\n",
              "      <td>yes</td>\n",
              "    </tr>\n",
              "    <tr>\n",
              "      <th>g</th>\n",
              "      <td>14.5</td>\n",
              "      <td>yes</td>\n",
              "    </tr>\n",
              "  </tbody>\n",
              "</table>\n",
              "</div>"
            ],
            "text/plain": [
              "   score qualify\n",
              "b    9.0      no\n",
              "d    NaN      no\n",
              "f   20.0     yes\n",
              "g   14.5     yes"
            ]
          },
          "metadata": {
            "tags": []
          },
          "execution_count": 8
        }
      ]
    },
    {
      "cell_type": "markdown",
      "metadata": {
        "id": "iGup_CHH7M_S",
        "colab_type": "text"
      },
      "source": [
        "# Select the rows with Specific Conditions\n",
        "where the number of attempts in the examination is greater than 2"
      ]
    },
    {
      "cell_type": "code",
      "metadata": {
        "id": "2mLgeSG17MJF",
        "colab_type": "code",
        "outputId": "1928dc0e-00c7-40e4-b5c1-b6fe0b86ba2e",
        "colab": {
          "base_uri": "https://localhost:8080/",
          "height": 335
        }
      },
      "source": [
        "print(df)\n",
        "df[df['attempts']>2]"
      ],
      "execution_count": 0,
      "outputs": [
        {
          "output_type": "stream",
          "text": [
            "        name  score  attempts qualify\n",
            "a  Anastasia   12.5         1     yes\n",
            "b       Dima    9.0         3      no\n",
            "c  Katherine   16.5         2     yes\n",
            "d      James    NaN         3      no\n",
            "e      Emily    9.0         2      no\n",
            "f    Michael   20.0         3     yes\n",
            "g    Matthew   14.5         1     yes\n",
            "h      Laura    NaN         1      no\n",
            "i      Kevin    8.0         2      no\n",
            "j      Jonas   19.0         1     yes\n"
          ],
          "name": "stdout"
        },
        {
          "output_type": "execute_result",
          "data": {
            "text/html": [
              "<div>\n",
              "<style scoped>\n",
              "    .dataframe tbody tr th:only-of-type {\n",
              "        vertical-align: middle;\n",
              "    }\n",
              "\n",
              "    .dataframe tbody tr th {\n",
              "        vertical-align: top;\n",
              "    }\n",
              "\n",
              "    .dataframe thead th {\n",
              "        text-align: right;\n",
              "    }\n",
              "</style>\n",
              "<table border=\"1\" class=\"dataframe\">\n",
              "  <thead>\n",
              "    <tr style=\"text-align: right;\">\n",
              "      <th></th>\n",
              "      <th>name</th>\n",
              "      <th>score</th>\n",
              "      <th>attempts</th>\n",
              "      <th>qualify</th>\n",
              "    </tr>\n",
              "  </thead>\n",
              "  <tbody>\n",
              "    <tr>\n",
              "      <th>b</th>\n",
              "      <td>Dima</td>\n",
              "      <td>9.0</td>\n",
              "      <td>3</td>\n",
              "      <td>no</td>\n",
              "    </tr>\n",
              "    <tr>\n",
              "      <th>d</th>\n",
              "      <td>James</td>\n",
              "      <td>NaN</td>\n",
              "      <td>3</td>\n",
              "      <td>no</td>\n",
              "    </tr>\n",
              "    <tr>\n",
              "      <th>f</th>\n",
              "      <td>Michael</td>\n",
              "      <td>20.0</td>\n",
              "      <td>3</td>\n",
              "      <td>yes</td>\n",
              "    </tr>\n",
              "  </tbody>\n",
              "</table>\n",
              "</div>"
            ],
            "text/plain": [
              "      name  score  attempts qualify\n",
              "b     Dima    9.0         3      no\n",
              "d    James    NaN         3      no\n",
              "f  Michael   20.0         3     yes"
            ]
          },
          "metadata": {
            "tags": []
          },
          "execution_count": 10
        }
      ]
    },
    {
      "cell_type": "markdown",
      "metadata": {
        "id": "A9A3uQQ073Ls",
        "colab_type": "text"
      },
      "source": [
        "Count the **number** of **rows** and **columns** \n",
        "\n",
        "\n",
        "\n"
      ]
    },
    {
      "cell_type": "code",
      "metadata": {
        "id": "XQhom0AF72Fb",
        "colab_type": "code",
        "outputId": "7b699e16-4a0a-4deb-ff52-0b8160b56b2a",
        "colab": {
          "base_uri": "https://localhost:8080/",
          "height": 52
        }
      },
      "source": [
        "#Axes 0 is for ROWS and Axes 1 for columns \n",
        "total_rows=len(df.axes[0])\n",
        "total_cols=len(df.axes[1])\n",
        "print(\"Number of Rows: \"+str(total_rows))\n",
        "print(\"Number of Columns: \"+str(total_cols))"
      ],
      "execution_count": 0,
      "outputs": [
        {
          "output_type": "stream",
          "text": [
            "Number of Rows: 10\n",
            "Number of Columns: 4\n"
          ],
          "name": "stdout"
        }
      ]
    },
    {
      "cell_type": "markdown",
      "metadata": {
        "id": "cXBuk3UU9uJm",
        "colab_type": "text"
      },
      "source": [
        "# Select the **rows**  on specific condition\n",
        "where the score is missing, i.e. is **NaN** bold text"
      ]
    },
    {
      "cell_type": "code",
      "metadata": {
        "id": "lQyjsoow9uZH",
        "colab_type": "code",
        "outputId": "a261baec-9b8b-472a-e9b6-623918d501f5",
        "colab": {
          "base_uri": "https://localhost:8080/",
          "height": 109
        }
      },
      "source": [
        "#NOT WORKING\n",
        "# import numpy as np\n",
        "# df[df['score'] == np.NAN]\n",
        "df[df['score'].isnull()]"
      ],
      "execution_count": 0,
      "outputs": [
        {
          "output_type": "execute_result",
          "data": {
            "text/html": [
              "<div>\n",
              "<style scoped>\n",
              "    .dataframe tbody tr th:only-of-type {\n",
              "        vertical-align: middle;\n",
              "    }\n",
              "\n",
              "    .dataframe tbody tr th {\n",
              "        vertical-align: top;\n",
              "    }\n",
              "\n",
              "    .dataframe thead th {\n",
              "        text-align: right;\n",
              "    }\n",
              "</style>\n",
              "<table border=\"1\" class=\"dataframe\">\n",
              "  <thead>\n",
              "    <tr style=\"text-align: right;\">\n",
              "      <th></th>\n",
              "      <th>name</th>\n",
              "      <th>score</th>\n",
              "      <th>attempts</th>\n",
              "      <th>qualify</th>\n",
              "    </tr>\n",
              "  </thead>\n",
              "  <tbody>\n",
              "    <tr>\n",
              "      <th>d</th>\n",
              "      <td>James</td>\n",
              "      <td>NaN</td>\n",
              "      <td>3</td>\n",
              "      <td>no</td>\n",
              "    </tr>\n",
              "    <tr>\n",
              "      <th>h</th>\n",
              "      <td>Laura</td>\n",
              "      <td>NaN</td>\n",
              "      <td>1</td>\n",
              "      <td>no</td>\n",
              "    </tr>\n",
              "  </tbody>\n",
              "</table>\n",
              "</div>"
            ],
            "text/plain": [
              "    name  score  attempts qualify\n",
              "d  James    NaN         3      no\n",
              "h  Laura    NaN         1      no"
            ]
          },
          "metadata": {
            "tags": []
          },
          "execution_count": 28
        }
      ]
    },
    {
      "cell_type": "code",
      "metadata": {
        "id": "NrrlEdoNA9sg",
        "colab_type": "code",
        "colab": {
          "base_uri": "https://localhost:8080/",
          "height": 251
        },
        "outputId": "8148b75e-d173-4ba0-b1b7-2009ca49d437"
      },
      "source": [
        "import pandas as pd\n",
        "import numpy as np\n",
        "d = {'col1': [1, 4, 3, 4, 5], 'col2': [4, 5, 6, 7, 8], 'col3': [7, 8, 9, 0, 1]}\n",
        "df = pd.DataFrame(data=d)\n",
        "print(\"Original DataFrame\")\n",
        "print(df)\n",
        "print('Rows for colum1 value == 4')\n",
        "#Both of them works \n",
        "#print(df.loc[df['col1'] == 4])\n",
        "df[df['col1'] == 4]"
      ],
      "execution_count": 39,
      "outputs": [
        {
          "output_type": "stream",
          "text": [
            "Original DataFrame\n",
            "   col1  col2  col3\n",
            "0     1     4     7\n",
            "1     4     5     8\n",
            "2     3     6     9\n",
            "3     4     7     0\n",
            "4     5     8     1\n",
            "Rows for colum1 value == 4\n"
          ],
          "name": "stdout"
        },
        {
          "output_type": "execute_result",
          "data": {
            "text/html": [
              "<div>\n",
              "<style scoped>\n",
              "    .dataframe tbody tr th:only-of-type {\n",
              "        vertical-align: middle;\n",
              "    }\n",
              "\n",
              "    .dataframe tbody tr th {\n",
              "        vertical-align: top;\n",
              "    }\n",
              "\n",
              "    .dataframe thead th {\n",
              "        text-align: right;\n",
              "    }\n",
              "</style>\n",
              "<table border=\"1\" class=\"dataframe\">\n",
              "  <thead>\n",
              "    <tr style=\"text-align: right;\">\n",
              "      <th></th>\n",
              "      <th>col1</th>\n",
              "      <th>col2</th>\n",
              "      <th>col3</th>\n",
              "    </tr>\n",
              "  </thead>\n",
              "  <tbody>\n",
              "    <tr>\n",
              "      <th>1</th>\n",
              "      <td>4</td>\n",
              "      <td>5</td>\n",
              "      <td>8</td>\n",
              "    </tr>\n",
              "    <tr>\n",
              "      <th>3</th>\n",
              "      <td>4</td>\n",
              "      <td>7</td>\n",
              "      <td>0</td>\n",
              "    </tr>\n",
              "  </tbody>\n",
              "</table>\n",
              "</div>"
            ],
            "text/plain": [
              "   col1  col2  col3\n",
              "1     4     5     8\n",
              "3     4     7     0"
            ]
          },
          "metadata": {
            "tags": []
          },
          "execution_count": 39
        }
      ]
    },
    {
      "cell_type": "code",
      "metadata": {
        "id": "-qRamxqh_dM0",
        "colab_type": "code",
        "outputId": "ac7ea791-e4fc-4c5f-9544-f648b0c84676",
        "colab": {
          "base_uri": "https://localhost:8080/",
          "height": 210
        }
      },
      "source": [
        "#Wrong trials \n",
        "#df[df['score'] >= 15 and df['score'] <=20]\n",
        "#df[df['score'] >= 15 & df['score'] <=20]\n",
        "#The truth value of a Series is ambiguous. Use a.empty, a.bool(), a.item(), a.any() or a.all().\n",
        "#Right procedures\n",
        "print(df[(df['score'] >= 15) & (df['score'] <=20)])\n",
        "#in built method\n",
        "df[df['score'].between(15, 20)]"
      ],
      "execution_count": 0,
      "outputs": [
        {
          "output_type": "stream",
          "text": [
            "        name  score  attempts qualify\n",
            "c  Katherine   16.5         2     yes\n",
            "f    Michael   20.0         3     yes\n",
            "j      Jonas   19.0         1     yes\n"
          ],
          "name": "stdout"
        },
        {
          "output_type": "execute_result",
          "data": {
            "text/html": [
              "<div>\n",
              "<style scoped>\n",
              "    .dataframe tbody tr th:only-of-type {\n",
              "        vertical-align: middle;\n",
              "    }\n",
              "\n",
              "    .dataframe tbody tr th {\n",
              "        vertical-align: top;\n",
              "    }\n",
              "\n",
              "    .dataframe thead th {\n",
              "        text-align: right;\n",
              "    }\n",
              "</style>\n",
              "<table border=\"1\" class=\"dataframe\">\n",
              "  <thead>\n",
              "    <tr style=\"text-align: right;\">\n",
              "      <th></th>\n",
              "      <th>name</th>\n",
              "      <th>score</th>\n",
              "      <th>attempts</th>\n",
              "      <th>qualify</th>\n",
              "    </tr>\n",
              "  </thead>\n",
              "  <tbody>\n",
              "    <tr>\n",
              "      <th>c</th>\n",
              "      <td>Katherine</td>\n",
              "      <td>16.5</td>\n",
              "      <td>2</td>\n",
              "      <td>yes</td>\n",
              "    </tr>\n",
              "    <tr>\n",
              "      <th>f</th>\n",
              "      <td>Michael</td>\n",
              "      <td>20.0</td>\n",
              "      <td>3</td>\n",
              "      <td>yes</td>\n",
              "    </tr>\n",
              "    <tr>\n",
              "      <th>j</th>\n",
              "      <td>Jonas</td>\n",
              "      <td>19.0</td>\n",
              "      <td>1</td>\n",
              "      <td>yes</td>\n",
              "    </tr>\n",
              "  </tbody>\n",
              "</table>\n",
              "</div>"
            ],
            "text/plain": [
              "        name  score  attempts qualify\n",
              "c  Katherine   16.5         2     yes\n",
              "f    Michael   20.0         3     yes\n",
              "j      Jonas   19.0         1     yes"
            ]
          },
          "metadata": {
            "tags": []
          },
          "execution_count": 41
        }
      ]
    },
    {
      "cell_type": "code",
      "metadata": {
        "id": "RS1ZYY6yC1kV",
        "colab_type": "code",
        "outputId": "ce15f8c3-0adc-421f-f44c-1a63670c0576",
        "colab": {
          "base_uri": "https://localhost:8080/",
          "height": 35
        }
      },
      "source": [
        "#Normally we use \"and\" for and operaton but as we can see up we are replacing it with \"&\" inside bracket of dataframe  \n",
        "i = 10\n",
        "j = 89\n",
        "if(i > 5 and j < 100):\n",
        "  print(\"Yes\")"
      ],
      "execution_count": 0,
      "outputs": [
        {
          "output_type": "stream",
          "text": [
            "Yes\n"
          ],
          "name": "stdout"
        }
      ]
    },
    {
      "cell_type": "markdown",
      "metadata": {
        "id": "5mudwGn3Dijm",
        "colab_type": "text"
      },
      "source": [
        "Select the rows where number of **attempts** in the **examination** is **less than 2** and **score greater than 15**"
      ]
    },
    {
      "cell_type": "code",
      "metadata": {
        "id": "VZSvfIJeDpNx",
        "colab_type": "code",
        "outputId": "f8413760-ef59-4d4a-f2e9-ecddbf13c37f",
        "colab": {
          "base_uri": "https://localhost:8080/",
          "height": 78
        }
      },
      "source": [
        "df[(df['score'] > 15) & (df['attempts'] <2)]"
      ],
      "execution_count": 0,
      "outputs": [
        {
          "output_type": "execute_result",
          "data": {
            "text/html": [
              "<div>\n",
              "<style scoped>\n",
              "    .dataframe tbody tr th:only-of-type {\n",
              "        vertical-align: middle;\n",
              "    }\n",
              "\n",
              "    .dataframe tbody tr th {\n",
              "        vertical-align: top;\n",
              "    }\n",
              "\n",
              "    .dataframe thead th {\n",
              "        text-align: right;\n",
              "    }\n",
              "</style>\n",
              "<table border=\"1\" class=\"dataframe\">\n",
              "  <thead>\n",
              "    <tr style=\"text-align: right;\">\n",
              "      <th></th>\n",
              "      <th>name</th>\n",
              "      <th>score</th>\n",
              "      <th>attempts</th>\n",
              "      <th>qualify</th>\n",
              "    </tr>\n",
              "  </thead>\n",
              "  <tbody>\n",
              "    <tr>\n",
              "      <th>j</th>\n",
              "      <td>Jonas</td>\n",
              "      <td>19.0</td>\n",
              "      <td>1</td>\n",
              "      <td>yes</td>\n",
              "    </tr>\n",
              "  </tbody>\n",
              "</table>\n",
              "</div>"
            ],
            "text/plain": [
              "    name  score  attempts qualify\n",
              "j  Jonas   19.0         1     yes"
            ]
          },
          "metadata": {
            "tags": []
          },
          "execution_count": 44
        }
      ]
    },
    {
      "cell_type": "markdown",
      "metadata": {
        "id": "9Je3O5gIFCrZ",
        "colab_type": "text"
      },
      "source": [
        "Change the **score** in **row 'd'** to **11.5**"
      ]
    },
    {
      "cell_type": "code",
      "metadata": {
        "id": "IWknR1VyFCO-",
        "colab_type": "code",
        "outputId": "6b9349c3-e0f4-46c0-c440-dffd6f287e04",
        "colab": {
          "base_uri": "https://localhost:8080/",
          "height": 441
        }
      },
      "source": [
        "df['score'].loc['d'] = 11.5\n",
        "# even it can be written as \n",
        "#df.loc['d', 'score'] = 11.5\n",
        "df"
      ],
      "execution_count": 0,
      "outputs": [
        {
          "output_type": "stream",
          "text": [
            "/usr/local/lib/python3.6/dist-packages/pandas/core/indexing.py:190: SettingWithCopyWarning: \n",
            "A value is trying to be set on a copy of a slice from a DataFrame\n",
            "\n",
            "See the caveats in the documentation: http://pandas.pydata.org/pandas-docs/stable/indexing.html#indexing-view-versus-copy\n",
            "  self._setitem_with_indexer(indexer, value)\n"
          ],
          "name": "stderr"
        },
        {
          "output_type": "execute_result",
          "data": {
            "text/html": [
              "<div>\n",
              "<style scoped>\n",
              "    .dataframe tbody tr th:only-of-type {\n",
              "        vertical-align: middle;\n",
              "    }\n",
              "\n",
              "    .dataframe tbody tr th {\n",
              "        vertical-align: top;\n",
              "    }\n",
              "\n",
              "    .dataframe thead th {\n",
              "        text-align: right;\n",
              "    }\n",
              "</style>\n",
              "<table border=\"1\" class=\"dataframe\">\n",
              "  <thead>\n",
              "    <tr style=\"text-align: right;\">\n",
              "      <th></th>\n",
              "      <th>name</th>\n",
              "      <th>score</th>\n",
              "      <th>attempts</th>\n",
              "      <th>qualify</th>\n",
              "    </tr>\n",
              "  </thead>\n",
              "  <tbody>\n",
              "    <tr>\n",
              "      <th>a</th>\n",
              "      <td>Anastasia</td>\n",
              "      <td>12.5</td>\n",
              "      <td>1</td>\n",
              "      <td>yes</td>\n",
              "    </tr>\n",
              "    <tr>\n",
              "      <th>b</th>\n",
              "      <td>Dima</td>\n",
              "      <td>9.0</td>\n",
              "      <td>3</td>\n",
              "      <td>no</td>\n",
              "    </tr>\n",
              "    <tr>\n",
              "      <th>c</th>\n",
              "      <td>Katherine</td>\n",
              "      <td>16.5</td>\n",
              "      <td>2</td>\n",
              "      <td>yes</td>\n",
              "    </tr>\n",
              "    <tr>\n",
              "      <th>d</th>\n",
              "      <td>James</td>\n",
              "      <td>11.5</td>\n",
              "      <td>3</td>\n",
              "      <td>no</td>\n",
              "    </tr>\n",
              "    <tr>\n",
              "      <th>e</th>\n",
              "      <td>Emily</td>\n",
              "      <td>9.0</td>\n",
              "      <td>2</td>\n",
              "      <td>no</td>\n",
              "    </tr>\n",
              "    <tr>\n",
              "      <th>f</th>\n",
              "      <td>Michael</td>\n",
              "      <td>20.0</td>\n",
              "      <td>3</td>\n",
              "      <td>yes</td>\n",
              "    </tr>\n",
              "    <tr>\n",
              "      <th>g</th>\n",
              "      <td>Matthew</td>\n",
              "      <td>14.5</td>\n",
              "      <td>1</td>\n",
              "      <td>yes</td>\n",
              "    </tr>\n",
              "    <tr>\n",
              "      <th>h</th>\n",
              "      <td>Laura</td>\n",
              "      <td>NaN</td>\n",
              "      <td>1</td>\n",
              "      <td>no</td>\n",
              "    </tr>\n",
              "    <tr>\n",
              "      <th>i</th>\n",
              "      <td>Kevin</td>\n",
              "      <td>8.0</td>\n",
              "      <td>2</td>\n",
              "      <td>no</td>\n",
              "    </tr>\n",
              "    <tr>\n",
              "      <th>j</th>\n",
              "      <td>Jonas</td>\n",
              "      <td>19.0</td>\n",
              "      <td>1</td>\n",
              "      <td>yes</td>\n",
              "    </tr>\n",
              "  </tbody>\n",
              "</table>\n",
              "</div>"
            ],
            "text/plain": [
              "        name  score  attempts qualify\n",
              "a  Anastasia   12.5         1     yes\n",
              "b       Dima    9.0         3      no\n",
              "c  Katherine   16.5         2     yes\n",
              "d      James   11.5         3      no\n",
              "e      Emily    9.0         2      no\n",
              "f    Michael   20.0         3     yes\n",
              "g    Matthew   14.5         1     yes\n",
              "h      Laura    NaN         1      no\n",
              "i      Kevin    8.0         2      no\n",
              "j      Jonas   19.0         1     yes"
            ]
          },
          "metadata": {
            "tags": []
          },
          "execution_count": 48
        }
      ]
    },
    {
      "cell_type": "code",
      "metadata": {
        "id": "MVTH6cyyGMda",
        "colab_type": "code",
        "outputId": "ecdd6f80-3301-45be-c7ac-04bd1085daee",
        "colab": {
          "base_uri": "https://localhost:8080/",
          "height": 70
        }
      },
      "source": [
        "print(\"\\nSum of the examination attempts by the students:\")\n",
        "print(df['attempts'].sum())"
      ],
      "execution_count": 0,
      "outputs": [
        {
          "output_type": "stream",
          "text": [
            "\n",
            "Sum of the examination attempts by the students:\n",
            "19\n"
          ],
          "name": "stdout"
        }
      ]
    },
    {
      "cell_type": "markdown",
      "metadata": {
        "id": "E-WmU1_KHORH",
        "colab_type": "text"
      },
      "source": [
        "Calculate the **mean** score for **each different student** in DataFrame"
      ]
    },
    {
      "cell_type": "code",
      "metadata": {
        "id": "s0_uFEOyHWAx",
        "colab_type": "code",
        "outputId": "80dcd51a-0ffd-4562-e877-f1bd2f1c22b6",
        "colab": {
          "base_uri": "https://localhost:8080/",
          "height": 382
        }
      },
      "source": [
        "df.groupby('name')['score','attempts'].mean()"
      ],
      "execution_count": 0,
      "outputs": [
        {
          "output_type": "execute_result",
          "data": {
            "text/html": [
              "<div>\n",
              "<style scoped>\n",
              "    .dataframe tbody tr th:only-of-type {\n",
              "        vertical-align: middle;\n",
              "    }\n",
              "\n",
              "    .dataframe tbody tr th {\n",
              "        vertical-align: top;\n",
              "    }\n",
              "\n",
              "    .dataframe thead th {\n",
              "        text-align: right;\n",
              "    }\n",
              "</style>\n",
              "<table border=\"1\" class=\"dataframe\">\n",
              "  <thead>\n",
              "    <tr style=\"text-align: right;\">\n",
              "      <th></th>\n",
              "      <th>score</th>\n",
              "      <th>attempts</th>\n",
              "    </tr>\n",
              "    <tr>\n",
              "      <th>name</th>\n",
              "      <th></th>\n",
              "      <th></th>\n",
              "    </tr>\n",
              "  </thead>\n",
              "  <tbody>\n",
              "    <tr>\n",
              "      <th>Anastasia</th>\n",
              "      <td>12.5</td>\n",
              "      <td>1</td>\n",
              "    </tr>\n",
              "    <tr>\n",
              "      <th>Dima</th>\n",
              "      <td>9.0</td>\n",
              "      <td>3</td>\n",
              "    </tr>\n",
              "    <tr>\n",
              "      <th>Emily</th>\n",
              "      <td>9.0</td>\n",
              "      <td>2</td>\n",
              "    </tr>\n",
              "    <tr>\n",
              "      <th>James</th>\n",
              "      <td>11.5</td>\n",
              "      <td>3</td>\n",
              "    </tr>\n",
              "    <tr>\n",
              "      <th>Jonas</th>\n",
              "      <td>19.0</td>\n",
              "      <td>1</td>\n",
              "    </tr>\n",
              "    <tr>\n",
              "      <th>Katherine</th>\n",
              "      <td>16.5</td>\n",
              "      <td>2</td>\n",
              "    </tr>\n",
              "    <tr>\n",
              "      <th>Kevin</th>\n",
              "      <td>8.0</td>\n",
              "      <td>2</td>\n",
              "    </tr>\n",
              "    <tr>\n",
              "      <th>Laura</th>\n",
              "      <td>NaN</td>\n",
              "      <td>1</td>\n",
              "    </tr>\n",
              "    <tr>\n",
              "      <th>Matthew</th>\n",
              "      <td>14.5</td>\n",
              "      <td>1</td>\n",
              "    </tr>\n",
              "    <tr>\n",
              "      <th>Michael</th>\n",
              "      <td>20.0</td>\n",
              "      <td>3</td>\n",
              "    </tr>\n",
              "  </tbody>\n",
              "</table>\n",
              "</div>"
            ],
            "text/plain": [
              "           score  attempts\n",
              "name                      \n",
              "Anastasia   12.5         1\n",
              "Dima         9.0         3\n",
              "Emily        9.0         2\n",
              "James       11.5         3\n",
              "Jonas       19.0         1\n",
              "Katherine   16.5         2\n",
              "Kevin        8.0         2\n",
              "Laura        NaN         1\n",
              "Matthew     14.5         1\n",
              "Michael     20.0         3"
            ]
          },
          "metadata": {
            "tags": []
          },
          "execution_count": 56
        }
      ]
    },
    {
      "cell_type": "markdown",
      "metadata": {
        "id": "F77T2HiKQ3Yf",
        "colab_type": "text"
      },
      "source": [
        "# Add **new** row 'k' to data frame with given values for each column. "
      ]
    },
    {
      "cell_type": "code",
      "metadata": {
        "id": "RVtNliwCQ28U",
        "colab_type": "code",
        "outputId": "874220ab-09f9-4e4f-add5-8957afebbb22",
        "colab": {
          "base_uri": "https://localhost:8080/",
          "height": 578
        }
      },
      "source": [
        "#name : \"Suresh\", score: 15.5, attempts: 1, qualify: \"yes\", label: \"k\"\n",
        "print(df)\n",
        "#Wrong trails\n",
        "#df.append(name : \"Suresh\", score: 15.5, attempts: 1, qualify: \"yes\", label: \"k\")\n",
        "#df.loc['k']= [name : \"Suresh\", score: 15.5, attempts: 1, qualify: \"yes\"]    invalid syntax\n",
        "df.loc['k'] = [\"Suresh\", 15.5, 1, \"Yes\"]\n",
        "df"
      ],
      "execution_count": 0,
      "outputs": [
        {
          "output_type": "stream",
          "text": [
            "        name  score  attempts qualify\n",
            "a  Anastasia   12.5         1     yes\n",
            "b       Dima    9.0         3      no\n",
            "c  Katherine   16.5         2     yes\n",
            "d      James    NaN         3      no\n",
            "e      Emily    9.0         2      no\n",
            "f    Michael   20.0         3     yes\n",
            "g    Matthew   14.5         1     yes\n",
            "h      Laura    NaN         1      no\n",
            "i      Kevin    8.0         2      no\n",
            "j      Jonas   19.0         1     yes\n"
          ],
          "name": "stdout"
        },
        {
          "output_type": "execute_result",
          "data": {
            "text/html": [
              "<div>\n",
              "<style scoped>\n",
              "    .dataframe tbody tr th:only-of-type {\n",
              "        vertical-align: middle;\n",
              "    }\n",
              "\n",
              "    .dataframe tbody tr th {\n",
              "        vertical-align: top;\n",
              "    }\n",
              "\n",
              "    .dataframe thead th {\n",
              "        text-align: right;\n",
              "    }\n",
              "</style>\n",
              "<table border=\"1\" class=\"dataframe\">\n",
              "  <thead>\n",
              "    <tr style=\"text-align: right;\">\n",
              "      <th></th>\n",
              "      <th>name</th>\n",
              "      <th>score</th>\n",
              "      <th>attempts</th>\n",
              "      <th>qualify</th>\n",
              "    </tr>\n",
              "  </thead>\n",
              "  <tbody>\n",
              "    <tr>\n",
              "      <th>a</th>\n",
              "      <td>Anastasia</td>\n",
              "      <td>12.5</td>\n",
              "      <td>1</td>\n",
              "      <td>yes</td>\n",
              "    </tr>\n",
              "    <tr>\n",
              "      <th>b</th>\n",
              "      <td>Dima</td>\n",
              "      <td>9.0</td>\n",
              "      <td>3</td>\n",
              "      <td>no</td>\n",
              "    </tr>\n",
              "    <tr>\n",
              "      <th>c</th>\n",
              "      <td>Katherine</td>\n",
              "      <td>16.5</td>\n",
              "      <td>2</td>\n",
              "      <td>yes</td>\n",
              "    </tr>\n",
              "    <tr>\n",
              "      <th>d</th>\n",
              "      <td>James</td>\n",
              "      <td>NaN</td>\n",
              "      <td>3</td>\n",
              "      <td>no</td>\n",
              "    </tr>\n",
              "    <tr>\n",
              "      <th>e</th>\n",
              "      <td>Emily</td>\n",
              "      <td>9.0</td>\n",
              "      <td>2</td>\n",
              "      <td>no</td>\n",
              "    </tr>\n",
              "    <tr>\n",
              "      <th>f</th>\n",
              "      <td>Michael</td>\n",
              "      <td>20.0</td>\n",
              "      <td>3</td>\n",
              "      <td>yes</td>\n",
              "    </tr>\n",
              "    <tr>\n",
              "      <th>g</th>\n",
              "      <td>Matthew</td>\n",
              "      <td>14.5</td>\n",
              "      <td>1</td>\n",
              "      <td>yes</td>\n",
              "    </tr>\n",
              "    <tr>\n",
              "      <th>h</th>\n",
              "      <td>Laura</td>\n",
              "      <td>NaN</td>\n",
              "      <td>1</td>\n",
              "      <td>no</td>\n",
              "    </tr>\n",
              "    <tr>\n",
              "      <th>i</th>\n",
              "      <td>Kevin</td>\n",
              "      <td>8.0</td>\n",
              "      <td>2</td>\n",
              "      <td>no</td>\n",
              "    </tr>\n",
              "    <tr>\n",
              "      <th>j</th>\n",
              "      <td>Jonas</td>\n",
              "      <td>19.0</td>\n",
              "      <td>1</td>\n",
              "      <td>yes</td>\n",
              "    </tr>\n",
              "    <tr>\n",
              "      <th>k</th>\n",
              "      <td>Suresh</td>\n",
              "      <td>15.5</td>\n",
              "      <td>1</td>\n",
              "      <td>Yes</td>\n",
              "    </tr>\n",
              "  </tbody>\n",
              "</table>\n",
              "</div>"
            ],
            "text/plain": [
              "        name  score  attempts qualify\n",
              "a  Anastasia   12.5         1     yes\n",
              "b       Dima    9.0         3      no\n",
              "c  Katherine   16.5         2     yes\n",
              "d      James    NaN         3      no\n",
              "e      Emily    9.0         2      no\n",
              "f    Michael   20.0         3     yes\n",
              "g    Matthew   14.5         1     yes\n",
              "h      Laura    NaN         1      no\n",
              "i      Kevin    8.0         2      no\n",
              "j      Jonas   19.0         1     yes\n",
              "k     Suresh   15.5         1     Yes"
            ]
          },
          "metadata": {
            "tags": []
          },
          "execution_count": 72
        }
      ]
    },
    {
      "cell_type": "markdown",
      "metadata": {
        "id": "o1HSJAW-VXDU",
        "colab_type": "text"
      },
      "source": [
        "# Delete the row from DataFrame "
      ]
    },
    {
      "cell_type": "code",
      "metadata": {
        "id": "7IvT_4d2VVlk",
        "colab_type": "code",
        "outputId": "92c21422-c382-46b6-dac6-51fb4586997e",
        "colab": {
          "base_uri": "https://localhost:8080/",
          "height": 248
        }
      },
      "source": [
        "print(\"\\nDelete the new row and display the original  rows:\")\n",
        "df = df.drop('k')\n",
        "print(df)"
      ],
      "execution_count": 0,
      "outputs": [
        {
          "output_type": "stream",
          "text": [
            "\n",
            "Delete the new row and display the original  rows:\n",
            "        name  score  attempts qualify\n",
            "a  Anastasia   12.5         1     yes\n",
            "b       Dima    9.0         3      no\n",
            "c  Katherine   16.5         2     yes\n",
            "d      James    NaN         3      no\n",
            "e      Emily    9.0         2      no\n",
            "f    Michael   20.0         3     yes\n",
            "g    Matthew   14.5         1     yes\n",
            "h      Laura    NaN         1      no\n",
            "i      Kevin    8.0         2      no\n",
            "j      Jonas   19.0         1     yes\n"
          ],
          "name": "stdout"
        }
      ]
    },
    {
      "cell_type": "markdown",
      "metadata": {
        "id": "03BLsoyIYES_",
        "colab_type": "text"
      },
      "source": [
        "# Sorting"
      ]
    },
    {
      "cell_type": "code",
      "metadata": {
        "id": "FchxZnB3YHyi",
        "colab_type": "code",
        "outputId": "9d239351-a23d-4af1-887f-6898db606655",
        "colab": {
          "base_uri": "https://localhost:8080/",
          "height": 565
        }
      },
      "source": [
        "df.sort_values(by=['name', 'score'], ascending=[False, True])\n",
        "print(\"Sort the data frame first by ‘name’ in descending order, then by ‘score’ in ascending order:\")\n",
        "print(df)\n",
        "df.sort_values('name')"
      ],
      "execution_count": 0,
      "outputs": [
        {
          "output_type": "stream",
          "text": [
            "Sort the data frame first by ‘name’ in descending order, then by ‘score’ in ascending order:\n",
            "        name  score  attempts qualify\n",
            "a  Anastasia   12.5         1     yes\n",
            "b       Dima    9.0         3      no\n",
            "c  Katherine   16.5         2     yes\n",
            "d      James    NaN         3      no\n",
            "e      Emily    9.0         2      no\n",
            "f    Michael   20.0         3     yes\n",
            "g    Matthew   14.5         1     yes\n",
            "h      Laura    NaN         1      no\n",
            "i      Kevin    8.0         2      no\n",
            "j      Jonas   19.0         1     yes\n"
          ],
          "name": "stdout"
        },
        {
          "output_type": "execute_result",
          "data": {
            "text/html": [
              "<div>\n",
              "<style scoped>\n",
              "    .dataframe tbody tr th:only-of-type {\n",
              "        vertical-align: middle;\n",
              "    }\n",
              "\n",
              "    .dataframe tbody tr th {\n",
              "        vertical-align: top;\n",
              "    }\n",
              "\n",
              "    .dataframe thead th {\n",
              "        text-align: right;\n",
              "    }\n",
              "</style>\n",
              "<table border=\"1\" class=\"dataframe\">\n",
              "  <thead>\n",
              "    <tr style=\"text-align: right;\">\n",
              "      <th></th>\n",
              "      <th>name</th>\n",
              "      <th>score</th>\n",
              "      <th>attempts</th>\n",
              "      <th>qualify</th>\n",
              "    </tr>\n",
              "  </thead>\n",
              "  <tbody>\n",
              "    <tr>\n",
              "      <th>a</th>\n",
              "      <td>Anastasia</td>\n",
              "      <td>12.5</td>\n",
              "      <td>1</td>\n",
              "      <td>yes</td>\n",
              "    </tr>\n",
              "    <tr>\n",
              "      <th>b</th>\n",
              "      <td>Dima</td>\n",
              "      <td>9.0</td>\n",
              "      <td>3</td>\n",
              "      <td>no</td>\n",
              "    </tr>\n",
              "    <tr>\n",
              "      <th>e</th>\n",
              "      <td>Emily</td>\n",
              "      <td>9.0</td>\n",
              "      <td>2</td>\n",
              "      <td>no</td>\n",
              "    </tr>\n",
              "    <tr>\n",
              "      <th>d</th>\n",
              "      <td>James</td>\n",
              "      <td>NaN</td>\n",
              "      <td>3</td>\n",
              "      <td>no</td>\n",
              "    </tr>\n",
              "    <tr>\n",
              "      <th>j</th>\n",
              "      <td>Jonas</td>\n",
              "      <td>19.0</td>\n",
              "      <td>1</td>\n",
              "      <td>yes</td>\n",
              "    </tr>\n",
              "    <tr>\n",
              "      <th>c</th>\n",
              "      <td>Katherine</td>\n",
              "      <td>16.5</td>\n",
              "      <td>2</td>\n",
              "      <td>yes</td>\n",
              "    </tr>\n",
              "    <tr>\n",
              "      <th>i</th>\n",
              "      <td>Kevin</td>\n",
              "      <td>8.0</td>\n",
              "      <td>2</td>\n",
              "      <td>no</td>\n",
              "    </tr>\n",
              "    <tr>\n",
              "      <th>h</th>\n",
              "      <td>Laura</td>\n",
              "      <td>NaN</td>\n",
              "      <td>1</td>\n",
              "      <td>no</td>\n",
              "    </tr>\n",
              "    <tr>\n",
              "      <th>g</th>\n",
              "      <td>Matthew</td>\n",
              "      <td>14.5</td>\n",
              "      <td>1</td>\n",
              "      <td>yes</td>\n",
              "    </tr>\n",
              "    <tr>\n",
              "      <th>f</th>\n",
              "      <td>Michael</td>\n",
              "      <td>20.0</td>\n",
              "      <td>3</td>\n",
              "      <td>yes</td>\n",
              "    </tr>\n",
              "  </tbody>\n",
              "</table>\n",
              "</div>"
            ],
            "text/plain": [
              "        name  score  attempts qualify\n",
              "a  Anastasia   12.5         1     yes\n",
              "b       Dima    9.0         3      no\n",
              "e      Emily    9.0         2      no\n",
              "d      James    NaN         3      no\n",
              "j      Jonas   19.0         1     yes\n",
              "c  Katherine   16.5         2     yes\n",
              "i      Kevin    8.0         2      no\n",
              "h      Laura    NaN         1      no\n",
              "g    Matthew   14.5         1     yes\n",
              "f    Michael   20.0         3     yes"
            ]
          },
          "metadata": {
            "tags": []
          },
          "execution_count": 77
        }
      ]
    },
    {
      "cell_type": "markdown",
      "metadata": {
        "id": "2w6bbSXDexJj",
        "colab_type": "text"
      },
      "source": [
        "Sort based on **two** **columns**"
      ]
    },
    {
      "cell_type": "code",
      "metadata": {
        "id": "Rihm_e9seftS",
        "colab_type": "code",
        "colab": {
          "base_uri": "https://localhost:8080/",
          "height": 461
        },
        "outputId": "6a3453f4-b86f-4a37-c2ca-cd178f87e5f5"
      },
      "source": [
        "import pandas as pd\n",
        "import numpy as np\n",
        "exam_data = {'name': ['Anastasia', 'Dima', 'Katherine', 'James', 'Emily', 'Michael', 'Matthew', 'Laura', 'Kevin', 'Jonas'],\n",
        "        'score': [12.5, 9, 16.5, np.nan, 9, 20, 14.5, np.nan, 8, 19],\n",
        "        'attempts': [1, 3, 2, 3, 2, 3, 1, 1, 2, 1],\n",
        "        'qualify': ['yes', 'no', 'yes', 'no', 'no', 'yes', 'yes', 'no', 'no', 'yes']}\n",
        "df = pd.DataFrame(exam_data)\n",
        "print(\"Original DataFrame:\")\n",
        "print(df)\n",
        "print(\"\\nSort the above DataFrame on attempts, name:\")\n",
        "df = df.sort_values(['attempts', 'name'], ascending=[True, True])\n",
        "print(df)"
      ],
      "execution_count": 46,
      "outputs": [
        {
          "output_type": "stream",
          "text": [
            "Original DataFrame:\n",
            "        name  score  attempts qualify\n",
            "0  Anastasia   12.5         1     yes\n",
            "1       Dima    9.0         3      no\n",
            "2  Katherine   16.5         2     yes\n",
            "3      James    NaN         3      no\n",
            "4      Emily    9.0         2      no\n",
            "5    Michael   20.0         3     yes\n",
            "6    Matthew   14.5         1     yes\n",
            "7      Laura    NaN         1      no\n",
            "8      Kevin    8.0         2      no\n",
            "9      Jonas   19.0         1     yes\n",
            "\n",
            "Sort the above DataFrame on attempts, name:\n",
            "        name  score  attempts qualify\n",
            "0  Anastasia   12.5         1     yes\n",
            "9      Jonas   19.0         1     yes\n",
            "7      Laura    NaN         1      no\n",
            "6    Matthew   14.5         1     yes\n",
            "4      Emily    9.0         2      no\n",
            "2  Katherine   16.5         2     yes\n",
            "8      Kevin    8.0         2      no\n",
            "1       Dima    9.0         3      no\n",
            "3      James    NaN         3      no\n",
            "5    Michael   20.0         3     yes\n"
          ],
          "name": "stdout"
        }
      ]
    },
    {
      "cell_type": "markdown",
      "metadata": {
        "id": "CpiWglK4ciiH",
        "colab_type": "text"
      },
      "source": [
        "Better reference for multiple columns\n",
        "https://www.geeksforgeeks.org/python-pandas-dataframe-sort_values-set-2/ "
      ]
    },
    {
      "cell_type": "markdown",
      "metadata": {
        "id": "hxIvAslScxOB",
        "colab_type": "text"
      },
      "source": [
        "# Replace \n",
        "The '**qualify**' column contains the values '**yes**' and '**no**' with **True** and **False**."
      ]
    },
    {
      "cell_type": "code",
      "metadata": {
        "id": "CU_ryBbce9x6",
        "colab_type": "code",
        "outputId": "39136599-5757-4798-a2e9-aca9901fdd0b",
        "colab": {
          "base_uri": "https://localhost:8080/",
          "height": 212
        }
      },
      "source": [
        "import pandas as pd\n",
        "import numpy as np\n",
        "\n",
        "exam_data  = {'name': ['Anastasia', 'Dima', 'Katherine', 'James', 'Emily', 'Michael', 'Matthew', 'Laura', 'Kevin', 'Jonas'],\n",
        "        'score': [12.5, 9, 16.5, np.nan, 9, 20, 14.5, np.nan, 8, 19],\n",
        "        'attempts': [1, 3, 2, 3, 2, 3, 1, 1, 2, 1],\n",
        "        'qualify': ['yes', 'no', 'yes', 'no', 'no', 'yes', 'yes', 'no', 'no', 'yes']}\n",
        "labels = ['a', 'b', 'c', 'd', 'e', 'f', 'g', 'h', 'i', 'j']\n",
        "\n",
        "df = pd.DataFrame(exam_data , index=labels)\n",
        "\n",
        "# print(\"\\nReplace the ‘qualify' column contains the values 'yes' and 'no'  with True and  False:\")\n",
        "df['qualify'] = df['qualify'].map({'yes': True, 'no': False})\n",
        "print(df)"
      ],
      "execution_count": 0,
      "outputs": [
        {
          "output_type": "stream",
          "text": [
            "        name  score  attempts  qualify\n",
            "a  Anastasia   12.5         1     True\n",
            "b       Dima    9.0         3    False\n",
            "c  Katherine   16.5         2     True\n",
            "d      James    NaN         3    False\n",
            "e      Emily    9.0         2    False\n",
            "f    Michael   20.0         3     True\n",
            "g    Matthew   14.5         1     True\n",
            "h      Laura    NaN         1    False\n",
            "i      Kevin    8.0         2    False\n",
            "j      Jonas   19.0         1     True\n"
          ],
          "name": "stdout"
        }
      ]
    },
    {
      "cell_type": "code",
      "metadata": {
        "id": "VHu8MpNycoJv",
        "colab_type": "code",
        "outputId": "d2825646-2bba-4681-d346-ba9a041d2907",
        "colab": {
          "base_uri": "https://localhost:8080/",
          "height": 547
        }
      },
      "source": [
        "\n",
        "df['qualify'] = df['qualify'].map({True : 'yes',  False :'no'})\n",
        "print(df)\n",
        "#raw method whcih i have done \n",
        "df['qualify'] = df['qualify'].replace('yes','True')\n",
        "df['qualify'] = df['qualify'].replace('no','False')\n",
        "df"
      ],
      "execution_count": 0,
      "outputs": [
        {
          "output_type": "stream",
          "text": [
            "        name  score  attempts qualify\n",
            "a  Anastasia   12.5         1     yes\n",
            "b       Dima    9.0         3      no\n",
            "c  Katherine   16.5         2     yes\n",
            "d      James    NaN         3      no\n",
            "e      Emily    9.0         2      no\n",
            "f    Michael   20.0         3     yes\n",
            "g    Matthew   14.5         1     yes\n",
            "h      Laura    NaN         1      no\n",
            "i      Kevin    8.0         2      no\n",
            "j      Jonas   19.0         1     yes\n"
          ],
          "name": "stdout"
        },
        {
          "output_type": "execute_result",
          "data": {
            "text/html": [
              "<div>\n",
              "<style scoped>\n",
              "    .dataframe tbody tr th:only-of-type {\n",
              "        vertical-align: middle;\n",
              "    }\n",
              "\n",
              "    .dataframe tbody tr th {\n",
              "        vertical-align: top;\n",
              "    }\n",
              "\n",
              "    .dataframe thead th {\n",
              "        text-align: right;\n",
              "    }\n",
              "</style>\n",
              "<table border=\"1\" class=\"dataframe\">\n",
              "  <thead>\n",
              "    <tr style=\"text-align: right;\">\n",
              "      <th></th>\n",
              "      <th>name</th>\n",
              "      <th>score</th>\n",
              "      <th>attempts</th>\n",
              "      <th>qualify</th>\n",
              "    </tr>\n",
              "  </thead>\n",
              "  <tbody>\n",
              "    <tr>\n",
              "      <th>a</th>\n",
              "      <td>Anastasia</td>\n",
              "      <td>12.5</td>\n",
              "      <td>1</td>\n",
              "      <td>True</td>\n",
              "    </tr>\n",
              "    <tr>\n",
              "      <th>b</th>\n",
              "      <td>Dima</td>\n",
              "      <td>9.0</td>\n",
              "      <td>3</td>\n",
              "      <td>False</td>\n",
              "    </tr>\n",
              "    <tr>\n",
              "      <th>c</th>\n",
              "      <td>Katherine</td>\n",
              "      <td>16.5</td>\n",
              "      <td>2</td>\n",
              "      <td>True</td>\n",
              "    </tr>\n",
              "    <tr>\n",
              "      <th>d</th>\n",
              "      <td>James</td>\n",
              "      <td>NaN</td>\n",
              "      <td>3</td>\n",
              "      <td>False</td>\n",
              "    </tr>\n",
              "    <tr>\n",
              "      <th>e</th>\n",
              "      <td>Emily</td>\n",
              "      <td>9.0</td>\n",
              "      <td>2</td>\n",
              "      <td>False</td>\n",
              "    </tr>\n",
              "    <tr>\n",
              "      <th>f</th>\n",
              "      <td>Michael</td>\n",
              "      <td>20.0</td>\n",
              "      <td>3</td>\n",
              "      <td>True</td>\n",
              "    </tr>\n",
              "    <tr>\n",
              "      <th>g</th>\n",
              "      <td>Matthew</td>\n",
              "      <td>14.5</td>\n",
              "      <td>1</td>\n",
              "      <td>True</td>\n",
              "    </tr>\n",
              "    <tr>\n",
              "      <th>h</th>\n",
              "      <td>Laura</td>\n",
              "      <td>NaN</td>\n",
              "      <td>1</td>\n",
              "      <td>False</td>\n",
              "    </tr>\n",
              "    <tr>\n",
              "      <th>i</th>\n",
              "      <td>Kevin</td>\n",
              "      <td>8.0</td>\n",
              "      <td>2</td>\n",
              "      <td>False</td>\n",
              "    </tr>\n",
              "    <tr>\n",
              "      <th>j</th>\n",
              "      <td>Jonas</td>\n",
              "      <td>19.0</td>\n",
              "      <td>1</td>\n",
              "      <td>True</td>\n",
              "    </tr>\n",
              "  </tbody>\n",
              "</table>\n",
              "</div>"
            ],
            "text/plain": [
              "        name  score  attempts qualify\n",
              "a  Anastasia   12.5         1    True\n",
              "b       Dima    9.0         3   False\n",
              "c  Katherine   16.5         2    True\n",
              "d      James    NaN         3   False\n",
              "e      Emily    9.0         2   False\n",
              "f    Michael   20.0         3    True\n",
              "g    Matthew   14.5         1    True\n",
              "h      Laura    NaN         1   False\n",
              "i      Kevin    8.0         2   False\n",
              "j      Jonas   19.0         1    True"
            ]
          },
          "metadata": {
            "tags": []
          },
          "execution_count": 105
        }
      ]
    },
    {
      "cell_type": "code",
      "metadata": {
        "id": "7hNSqVsKhh_b",
        "colab_type": "code",
        "outputId": "6966b999-0d9a-4399-8e35-b9d5aaae27d3",
        "colab": {
          "base_uri": "https://localhost:8080/",
          "height": 248
        }
      },
      "source": [
        "print(\"\\nChange the name 'James' to ‘Suresh’:\")\n",
        "df['name'] = df['name'].replace('James', 'Suresh')\n",
        "print(df)"
      ],
      "execution_count": 0,
      "outputs": [
        {
          "output_type": "stream",
          "text": [
            "\n",
            "Change the name 'James' to ‘Suresh’:\n",
            "        name  score  attempts qualify\n",
            "a  Anastasia   12.5         1    True\n",
            "b       Dima    9.0         3   False\n",
            "c  Katherine   16.5         2    True\n",
            "d     Suresh    NaN         3   False\n",
            "e      Emily    9.0         2   False\n",
            "f    Michael   20.0         3    True\n",
            "g    Matthew   14.5         1    True\n",
            "h      Laura    NaN         1   False\n",
            "i      Kevin    8.0         2   False\n",
            "j      Jonas   19.0         1    True\n"
          ],
          "name": "stdout"
        }
      ]
    },
    {
      "cell_type": "markdown",
      "metadata": {
        "id": "s6yiBJ5hieK4",
        "colab_type": "text"
      },
      "source": [
        "# Delete the column"
      ]
    },
    {
      "cell_type": "code",
      "metadata": {
        "id": "kOJxoVTZidbW",
        "colab_type": "code",
        "outputId": "f5347afe-4f32-422e-d61e-6ef71c41fb95",
        "colab": {
          "base_uri": "https://localhost:8080/",
          "height": 547
        }
      },
      "source": [
        "#Inserting a temp column for deleting it \n",
        "df['NewTempCol'] = 1\n",
        "print(df)\n",
        "del df['NewTempCol']\n",
        "df\n",
        "\n",
        "#df.pop('attempts') will also work"
      ],
      "execution_count": 0,
      "outputs": [
        {
          "output_type": "stream",
          "text": [
            "        name  score  attempts qualify  NewTempCol\n",
            "a  Anastasia   12.5         1    True           1\n",
            "b       Dima    9.0         3   False           1\n",
            "c  Katherine   16.5         2    True           1\n",
            "d     Suresh    NaN         3   False           1\n",
            "e      Emily    9.0         2   False           1\n",
            "f    Michael   20.0         3    True           1\n",
            "g    Matthew   14.5         1    True           1\n",
            "h      Laura    NaN         1   False           1\n",
            "i      Kevin    8.0         2   False           1\n",
            "j      Jonas   19.0         1    True           1\n"
          ],
          "name": "stdout"
        },
        {
          "output_type": "execute_result",
          "data": {
            "text/html": [
              "<div>\n",
              "<style scoped>\n",
              "    .dataframe tbody tr th:only-of-type {\n",
              "        vertical-align: middle;\n",
              "    }\n",
              "\n",
              "    .dataframe tbody tr th {\n",
              "        vertical-align: top;\n",
              "    }\n",
              "\n",
              "    .dataframe thead th {\n",
              "        text-align: right;\n",
              "    }\n",
              "</style>\n",
              "<table border=\"1\" class=\"dataframe\">\n",
              "  <thead>\n",
              "    <tr style=\"text-align: right;\">\n",
              "      <th></th>\n",
              "      <th>name</th>\n",
              "      <th>score</th>\n",
              "      <th>attempts</th>\n",
              "      <th>qualify</th>\n",
              "    </tr>\n",
              "  </thead>\n",
              "  <tbody>\n",
              "    <tr>\n",
              "      <th>a</th>\n",
              "      <td>Anastasia</td>\n",
              "      <td>12.5</td>\n",
              "      <td>1</td>\n",
              "      <td>True</td>\n",
              "    </tr>\n",
              "    <tr>\n",
              "      <th>b</th>\n",
              "      <td>Dima</td>\n",
              "      <td>9.0</td>\n",
              "      <td>3</td>\n",
              "      <td>False</td>\n",
              "    </tr>\n",
              "    <tr>\n",
              "      <th>c</th>\n",
              "      <td>Katherine</td>\n",
              "      <td>16.5</td>\n",
              "      <td>2</td>\n",
              "      <td>True</td>\n",
              "    </tr>\n",
              "    <tr>\n",
              "      <th>d</th>\n",
              "      <td>Suresh</td>\n",
              "      <td>NaN</td>\n",
              "      <td>3</td>\n",
              "      <td>False</td>\n",
              "    </tr>\n",
              "    <tr>\n",
              "      <th>e</th>\n",
              "      <td>Emily</td>\n",
              "      <td>9.0</td>\n",
              "      <td>2</td>\n",
              "      <td>False</td>\n",
              "    </tr>\n",
              "    <tr>\n",
              "      <th>f</th>\n",
              "      <td>Michael</td>\n",
              "      <td>20.0</td>\n",
              "      <td>3</td>\n",
              "      <td>True</td>\n",
              "    </tr>\n",
              "    <tr>\n",
              "      <th>g</th>\n",
              "      <td>Matthew</td>\n",
              "      <td>14.5</td>\n",
              "      <td>1</td>\n",
              "      <td>True</td>\n",
              "    </tr>\n",
              "    <tr>\n",
              "      <th>h</th>\n",
              "      <td>Laura</td>\n",
              "      <td>NaN</td>\n",
              "      <td>1</td>\n",
              "      <td>False</td>\n",
              "    </tr>\n",
              "    <tr>\n",
              "      <th>i</th>\n",
              "      <td>Kevin</td>\n",
              "      <td>8.0</td>\n",
              "      <td>2</td>\n",
              "      <td>False</td>\n",
              "    </tr>\n",
              "    <tr>\n",
              "      <th>j</th>\n",
              "      <td>Jonas</td>\n",
              "      <td>19.0</td>\n",
              "      <td>1</td>\n",
              "      <td>True</td>\n",
              "    </tr>\n",
              "  </tbody>\n",
              "</table>\n",
              "</div>"
            ],
            "text/plain": [
              "        name  score  attempts qualify\n",
              "a  Anastasia   12.5         1    True\n",
              "b       Dima    9.0         3   False\n",
              "c  Katherine   16.5         2    True\n",
              "d     Suresh    NaN         3   False\n",
              "e      Emily    9.0         2   False\n",
              "f    Michael   20.0         3    True\n",
              "g    Matthew   14.5         1    True\n",
              "h      Laura    NaN         1   False\n",
              "i      Kevin    8.0         2   False\n",
              "j      Jonas   19.0         1    True"
            ]
          },
          "metadata": {
            "tags": []
          },
          "execution_count": 110
        }
      ]
    },
    {
      "cell_type": "markdown",
      "metadata": {
        "id": "MIgJnQYhjzeu",
        "colab_type": "text"
      },
      "source": [
        "# Insert New Column"
      ]
    },
    {
      "cell_type": "code",
      "metadata": {
        "id": "1ESBT_4lj2od",
        "colab_type": "code",
        "outputId": "e4750c35-7a8f-48a1-fad3-7cfa8bbe5a8d",
        "colab": {
          "base_uri": "https://localhost:8080/",
          "height": 352
        }
      },
      "source": [
        "color = ['Red','Blue','Orange','Red','White','White','Blue','Green','Green','Red']\n",
        "df['color'] = color\n",
        "df"
      ],
      "execution_count": 0,
      "outputs": [
        {
          "output_type": "execute_result",
          "data": {
            "text/html": [
              "<div>\n",
              "<style scoped>\n",
              "    .dataframe tbody tr th:only-of-type {\n",
              "        vertical-align: middle;\n",
              "    }\n",
              "\n",
              "    .dataframe tbody tr th {\n",
              "        vertical-align: top;\n",
              "    }\n",
              "\n",
              "    .dataframe thead th {\n",
              "        text-align: right;\n",
              "    }\n",
              "</style>\n",
              "<table border=\"1\" class=\"dataframe\">\n",
              "  <thead>\n",
              "    <tr style=\"text-align: right;\">\n",
              "      <th></th>\n",
              "      <th>name</th>\n",
              "      <th>score</th>\n",
              "      <th>attempts</th>\n",
              "      <th>qualify</th>\n",
              "      <th>color</th>\n",
              "    </tr>\n",
              "  </thead>\n",
              "  <tbody>\n",
              "    <tr>\n",
              "      <th>a</th>\n",
              "      <td>Anastasia</td>\n",
              "      <td>12.5</td>\n",
              "      <td>1</td>\n",
              "      <td>True</td>\n",
              "      <td>Red</td>\n",
              "    </tr>\n",
              "    <tr>\n",
              "      <th>b</th>\n",
              "      <td>Dima</td>\n",
              "      <td>9.0</td>\n",
              "      <td>3</td>\n",
              "      <td>False</td>\n",
              "      <td>Blue</td>\n",
              "    </tr>\n",
              "    <tr>\n",
              "      <th>c</th>\n",
              "      <td>Katherine</td>\n",
              "      <td>16.5</td>\n",
              "      <td>2</td>\n",
              "      <td>True</td>\n",
              "      <td>Orange</td>\n",
              "    </tr>\n",
              "    <tr>\n",
              "      <th>d</th>\n",
              "      <td>Suresh</td>\n",
              "      <td>NaN</td>\n",
              "      <td>3</td>\n",
              "      <td>False</td>\n",
              "      <td>Red</td>\n",
              "    </tr>\n",
              "    <tr>\n",
              "      <th>e</th>\n",
              "      <td>Emily</td>\n",
              "      <td>9.0</td>\n",
              "      <td>2</td>\n",
              "      <td>False</td>\n",
              "      <td>White</td>\n",
              "    </tr>\n",
              "    <tr>\n",
              "      <th>f</th>\n",
              "      <td>Michael</td>\n",
              "      <td>20.0</td>\n",
              "      <td>3</td>\n",
              "      <td>True</td>\n",
              "      <td>White</td>\n",
              "    </tr>\n",
              "    <tr>\n",
              "      <th>g</th>\n",
              "      <td>Matthew</td>\n",
              "      <td>14.5</td>\n",
              "      <td>1</td>\n",
              "      <td>True</td>\n",
              "      <td>Blue</td>\n",
              "    </tr>\n",
              "    <tr>\n",
              "      <th>h</th>\n",
              "      <td>Laura</td>\n",
              "      <td>NaN</td>\n",
              "      <td>1</td>\n",
              "      <td>False</td>\n",
              "      <td>Green</td>\n",
              "    </tr>\n",
              "    <tr>\n",
              "      <th>i</th>\n",
              "      <td>Kevin</td>\n",
              "      <td>8.0</td>\n",
              "      <td>2</td>\n",
              "      <td>False</td>\n",
              "      <td>Green</td>\n",
              "    </tr>\n",
              "    <tr>\n",
              "      <th>j</th>\n",
              "      <td>Jonas</td>\n",
              "      <td>19.0</td>\n",
              "      <td>1</td>\n",
              "      <td>True</td>\n",
              "      <td>Red</td>\n",
              "    </tr>\n",
              "  </tbody>\n",
              "</table>\n",
              "</div>"
            ],
            "text/plain": [
              "        name  score  attempts qualify   color\n",
              "a  Anastasia   12.5         1    True     Red\n",
              "b       Dima    9.0         3   False    Blue\n",
              "c  Katherine   16.5         2    True  Orange\n",
              "d     Suresh    NaN         3   False     Red\n",
              "e      Emily    9.0         2   False   White\n",
              "f    Michael   20.0         3    True   White\n",
              "g    Matthew   14.5         1    True    Blue\n",
              "h      Laura    NaN         1   False   Green\n",
              "i      Kevin    8.0         2   False   Green\n",
              "j      Jonas   19.0         1    True     Red"
            ]
          },
          "metadata": {
            "tags": []
          },
          "execution_count": 112
        }
      ]
    },
    {
      "cell_type": "markdown",
      "metadata": {
        "id": "65BRmsyH8sf6",
        "colab_type": "text"
      },
      "source": [
        "# Iterate over rows in a DataFrame"
      ]
    },
    {
      "cell_type": "code",
      "metadata": {
        "id": "POIWSpHe8rm0",
        "colab_type": "code",
        "colab": {
          "base_uri": "https://localhost:8080/",
          "height": 88
        },
        "outputId": "d2b170c7-dcfd-499e-8043-909e7e03531a"
      },
      "source": [
        "import pandas as pd\n",
        "import numpy as np\n",
        "#The below both methods can be used for intializing the data frame\n",
        "#exam_data = {'name':['Anastasia','Dima','Katherine'], 'score':[12.5,9,16.5]}\n",
        "exam_data = [{'name':'Anastasia', 'score':12.5}, {'name':'Dima','score':9}, {'name':'Katherine','score':16.5}]\n",
        "print(exam_data)\n",
        "df = pd.DataFrame(exam_data)\n",
        "for index, row in df.iterrows():\n",
        "    print(index, row['name'], row['score'])"
      ],
      "execution_count": 30,
      "outputs": [
        {
          "output_type": "stream",
          "text": [
            "[{'name': 'Anastasia', 'score': 12.5}, {'name': 'Dima', 'score': 9}, {'name': 'Katherine', 'score': 16.5}]\n",
            "0 Anastasia 12.5\n",
            "1 Dima 9.0\n",
            "2 Katherine 16.5\n"
          ],
          "name": "stdout"
        }
      ]
    },
    {
      "cell_type": "markdown",
      "metadata": {
        "id": "ryHhLNKD_KFW",
        "colab_type": "text"
      },
      "source": [
        "**Get list** from DataFrame column headers"
      ]
    },
    {
      "cell_type": "code",
      "metadata": {
        "id": "kY9lQys3-4yE",
        "colab_type": "code",
        "colab": {
          "base_uri": "https://localhost:8080/",
          "height": 70
        },
        "outputId": "ac1465bd-3d6b-4905-e7dd-54bc736e401b"
      },
      "source": [
        "#df['name'].values\n",
        "print(df.name.values)\n",
        "col_list = df[\"name\"].tolist()\n",
        "print(\"Column of the DataFrame to list:\")\n",
        "print(col_list)"
      ],
      "execution_count": 31,
      "outputs": [
        {
          "output_type": "stream",
          "text": [
            "['Anastasia' 'Dima' 'Katherine']\n",
            "Col2 of the DataFrame to list:\n",
            "['Anastasia', 'Dima', 'Katherine']\n"
          ],
          "name": "stdout"
        }
      ]
    },
    {
      "cell_type": "markdown",
      "metadata": {
        "id": "8mYULfKZ_nTe",
        "colab_type": "text"
      },
      "source": [
        "**Rename** columns of a given DataFrame"
      ]
    },
    {
      "cell_type": "code",
      "metadata": {
        "id": "I4wbhMwC_mrQ",
        "colab_type": "code",
        "colab": {
          "base_uri": "https://localhost:8080/",
          "height": 228
        },
        "outputId": "c0f9c1be-61a6-492b-c79b-2d752f8bfbe3"
      },
      "source": [
        "df.columns = ['Column1', 'Column2']\n",
        "print(df)\n",
        "#Another method to rename \n",
        "df = df.rename(columns={'Column1': 'name', 'Column2': 'score'})\n",
        "print(\"New DataFrame after renaming columns:\")\n",
        "df\n"
      ],
      "execution_count": 11,
      "outputs": [
        {
          "output_type": "stream",
          "text": [
            "     Column1  Column2\n",
            "0  Anastasia     12.5\n",
            "1       Dima      9.0\n",
            "2  Katherine     16.5\n",
            "New DataFrame after renaming columns:\n"
          ],
          "name": "stdout"
        },
        {
          "output_type": "execute_result",
          "data": {
            "text/html": [
              "<div>\n",
              "<style scoped>\n",
              "    .dataframe tbody tr th:only-of-type {\n",
              "        vertical-align: middle;\n",
              "    }\n",
              "\n",
              "    .dataframe tbody tr th {\n",
              "        vertical-align: top;\n",
              "    }\n",
              "\n",
              "    .dataframe thead th {\n",
              "        text-align: right;\n",
              "    }\n",
              "</style>\n",
              "<table border=\"1\" class=\"dataframe\">\n",
              "  <thead>\n",
              "    <tr style=\"text-align: right;\">\n",
              "      <th></th>\n",
              "      <th>name</th>\n",
              "      <th>score</th>\n",
              "    </tr>\n",
              "  </thead>\n",
              "  <tbody>\n",
              "    <tr>\n",
              "      <th>0</th>\n",
              "      <td>Anastasia</td>\n",
              "      <td>12.5</td>\n",
              "    </tr>\n",
              "    <tr>\n",
              "      <th>1</th>\n",
              "      <td>Dima</td>\n",
              "      <td>9.0</td>\n",
              "    </tr>\n",
              "    <tr>\n",
              "      <th>2</th>\n",
              "      <td>Katherine</td>\n",
              "      <td>16.5</td>\n",
              "    </tr>\n",
              "  </tbody>\n",
              "</table>\n",
              "</div>"
            ],
            "text/plain": [
              "        name  score\n",
              "0  Anastasia   12.5\n",
              "1       Dima    9.0\n",
              "2  Katherine   16.5"
            ]
          },
          "metadata": {
            "tags": []
          },
          "execution_count": 11
        }
      ]
    },
    {
      "cell_type": "markdown",
      "metadata": {
        "id": "BZX_gz_EETFm",
        "colab_type": "text"
      },
      "source": [
        "**Change** the order of a DataFrame columns"
      ]
    },
    {
      "cell_type": "code",
      "metadata": {
        "id": "0iWOCjSnEU08",
        "colab_type": "code",
        "colab": {
          "base_uri": "https://localhost:8080/",
          "height": 342
        },
        "outputId": "ca5958bf-5844-40a3-a968-17fddae44e67"
      },
      "source": [
        "print(\"Original DataFrame\")\n",
        "print(df)\n",
        "print('After altering col1 and col3')\n",
        "df = df[['col3', 'col2', 'col1']]\n",
        "df"
      ],
      "execution_count": 40,
      "outputs": [
        {
          "output_type": "stream",
          "text": [
            "Original DataFrame\n",
            "   col1  col2  col3\n",
            "0     1     4     7\n",
            "1     4     5     8\n",
            "2     3     6     9\n",
            "3     4     7     0\n",
            "4     5     8     1\n",
            "After altering col1 and col3\n"
          ],
          "name": "stdout"
        },
        {
          "output_type": "execute_result",
          "data": {
            "text/html": [
              "<div>\n",
              "<style scoped>\n",
              "    .dataframe tbody tr th:only-of-type {\n",
              "        vertical-align: middle;\n",
              "    }\n",
              "\n",
              "    .dataframe tbody tr th {\n",
              "        vertical-align: top;\n",
              "    }\n",
              "\n",
              "    .dataframe thead th {\n",
              "        text-align: right;\n",
              "    }\n",
              "</style>\n",
              "<table border=\"1\" class=\"dataframe\">\n",
              "  <thead>\n",
              "    <tr style=\"text-align: right;\">\n",
              "      <th></th>\n",
              "      <th>col3</th>\n",
              "      <th>col2</th>\n",
              "      <th>col1</th>\n",
              "    </tr>\n",
              "  </thead>\n",
              "  <tbody>\n",
              "    <tr>\n",
              "      <th>0</th>\n",
              "      <td>7</td>\n",
              "      <td>4</td>\n",
              "      <td>1</td>\n",
              "    </tr>\n",
              "    <tr>\n",
              "      <th>1</th>\n",
              "      <td>8</td>\n",
              "      <td>5</td>\n",
              "      <td>4</td>\n",
              "    </tr>\n",
              "    <tr>\n",
              "      <th>2</th>\n",
              "      <td>9</td>\n",
              "      <td>6</td>\n",
              "      <td>3</td>\n",
              "    </tr>\n",
              "    <tr>\n",
              "      <th>3</th>\n",
              "      <td>0</td>\n",
              "      <td>7</td>\n",
              "      <td>4</td>\n",
              "    </tr>\n",
              "    <tr>\n",
              "      <th>4</th>\n",
              "      <td>1</td>\n",
              "      <td>8</td>\n",
              "      <td>5</td>\n",
              "    </tr>\n",
              "  </tbody>\n",
              "</table>\n",
              "</div>"
            ],
            "text/plain": [
              "   col3  col2  col1\n",
              "0     7     4     1\n",
              "1     8     5     4\n",
              "2     9     6     3\n",
              "3     0     7     4\n",
              "4     1     8     5"
            ]
          },
          "metadata": {
            "tags": []
          },
          "execution_count": 40
        }
      ]
    },
    {
      "cell_type": "markdown",
      "metadata": {
        "id": "MBUFpoI-E2hg",
        "colab_type": "text"
      },
      "source": [
        "**Add one row** in an existing DataFrame\n"
      ]
    },
    {
      "cell_type": "code",
      "metadata": {
        "id": "5LnTukv3E3Cz",
        "colab_type": "code",
        "colab": {
          "base_uri": "https://localhost:8080/",
          "height": 372
        },
        "outputId": "794a36db-f5c7-4cfe-ef3c-e41d7daa342f"
      },
      "source": [
        "import pandas as pd\n",
        "\n",
        "# Data Frame cant be added in both below was they are\n",
        "#inserting all those elements to first column both with {} [] \n",
        "# df2 = pd.DataFrame([1,2,3])\n",
        "# df2 = pd.DataFrame(cpl1{1,2,3})\n",
        "#Error with intialization \n",
        "# datadic  = {'col1' : 1,'col2' : 2,'col3' : 3}\n",
        "# ValueError: If using all scalar values, you must pass an index\n",
        "#Correct methods\n",
        "# datadic  = {'col1' : 1,'col2' : 2,'col3' : 3}\n",
        "# df2 = pd.DataFrame(datadic, index=[5])\n",
        "#OR can do as below\n",
        "df2 = pd.DataFrame({'col1': [1], 'col2': [2],'col3': [3] })\n",
        "df = df.append(df2)\n",
        "df"
      ],
      "execution_count": 41,
      "outputs": [
        {
          "output_type": "stream",
          "text": [
            "/usr/local/lib/python3.6/dist-packages/pandas/core/frame.py:6692: FutureWarning: Sorting because non-concatenation axis is not aligned. A future version\n",
            "of pandas will change to not sort by default.\n",
            "\n",
            "To accept the future behavior, pass 'sort=False'.\n",
            "\n",
            "To retain the current behavior and silence the warning, pass 'sort=True'.\n",
            "\n",
            "  sort=sort)\n"
          ],
          "name": "stderr"
        },
        {
          "output_type": "execute_result",
          "data": {
            "text/html": [
              "<div>\n",
              "<style scoped>\n",
              "    .dataframe tbody tr th:only-of-type {\n",
              "        vertical-align: middle;\n",
              "    }\n",
              "\n",
              "    .dataframe tbody tr th {\n",
              "        vertical-align: top;\n",
              "    }\n",
              "\n",
              "    .dataframe thead th {\n",
              "        text-align: right;\n",
              "    }\n",
              "</style>\n",
              "<table border=\"1\" class=\"dataframe\">\n",
              "  <thead>\n",
              "    <tr style=\"text-align: right;\">\n",
              "      <th></th>\n",
              "      <th>col1</th>\n",
              "      <th>col2</th>\n",
              "      <th>col3</th>\n",
              "    </tr>\n",
              "  </thead>\n",
              "  <tbody>\n",
              "    <tr>\n",
              "      <th>0</th>\n",
              "      <td>1</td>\n",
              "      <td>4</td>\n",
              "      <td>7</td>\n",
              "    </tr>\n",
              "    <tr>\n",
              "      <th>1</th>\n",
              "      <td>4</td>\n",
              "      <td>5</td>\n",
              "      <td>8</td>\n",
              "    </tr>\n",
              "    <tr>\n",
              "      <th>2</th>\n",
              "      <td>3</td>\n",
              "      <td>6</td>\n",
              "      <td>9</td>\n",
              "    </tr>\n",
              "    <tr>\n",
              "      <th>3</th>\n",
              "      <td>4</td>\n",
              "      <td>7</td>\n",
              "      <td>0</td>\n",
              "    </tr>\n",
              "    <tr>\n",
              "      <th>4</th>\n",
              "      <td>5</td>\n",
              "      <td>8</td>\n",
              "      <td>1</td>\n",
              "    </tr>\n",
              "    <tr>\n",
              "      <th>0</th>\n",
              "      <td>1</td>\n",
              "      <td>2</td>\n",
              "      <td>3</td>\n",
              "    </tr>\n",
              "  </tbody>\n",
              "</table>\n",
              "</div>"
            ],
            "text/plain": [
              "   col1  col2  col3\n",
              "0     1     4     7\n",
              "1     4     5     8\n",
              "2     3     6     9\n",
              "3     4     7     0\n",
              "4     5     8     1\n",
              "0     1     2     3"
            ]
          },
          "metadata": {
            "tags": []
          },
          "execution_count": 41
        }
      ]
    },
    {
      "cell_type": "markdown",
      "metadata": {
        "id": "IKfmDJGmrewV",
        "colab_type": "text"
      },
      "source": [
        "# Group by operations"
      ]
    },
    {
      "cell_type": "code",
      "metadata": {
        "id": "JuIWBZyneEXp",
        "colab_type": "code",
        "colab": {
          "base_uri": "https://localhost:8080/",
          "height": 365
        },
        "outputId": "c54073e1-d0b6-4ee7-ce27-b4ffa714da26"
      },
      "source": [
        "import pandas as pd\n",
        "df1 = pd.DataFrame({'name': ['Anastasia', 'Dima', 'Katherine', 'James', 'Emily', 'Michael', 'Matthew', 'Laura', 'Kevin', 'Jonas'],\n",
        "'city': ['California', 'Los Angeles', 'California', 'California', 'California', 'Los Angeles', 'Los Angeles', 'Georgia', 'Georgia', 'Los Angeles'], 'Rewards': ['1', '2', '3', '4', '6', '3', '3', '2', '1', '5']})\n",
        "print(df1)\n",
        "df1.groupby('city').count()\n",
        "#https://www.geeksforgeeks.org/python-pandas-dataframe-groupby/\n"
      ],
      "execution_count": 7,
      "outputs": [
        {
          "output_type": "stream",
          "text": [
            "        name         city Rewards\n",
            "0  Anastasia   California       1\n",
            "1       Dima  Los Angeles       2\n",
            "2  Katherine   California       3\n",
            "3      James   California       4\n",
            "4      Emily   California       6\n",
            "5    Michael  Los Angeles       3\n",
            "6    Matthew  Los Angeles       3\n",
            "7      Laura      Georgia       2\n",
            "8      Kevin      Georgia       1\n",
            "9      Jonas  Los Angeles       5\n"
          ],
          "name": "stdout"
        },
        {
          "output_type": "execute_result",
          "data": {
            "text/html": [
              "<div>\n",
              "<style scoped>\n",
              "    .dataframe tbody tr th:only-of-type {\n",
              "        vertical-align: middle;\n",
              "    }\n",
              "\n",
              "    .dataframe tbody tr th {\n",
              "        vertical-align: top;\n",
              "    }\n",
              "\n",
              "    .dataframe thead th {\n",
              "        text-align: right;\n",
              "    }\n",
              "</style>\n",
              "<table border=\"1\" class=\"dataframe\">\n",
              "  <thead>\n",
              "    <tr style=\"text-align: right;\">\n",
              "      <th></th>\n",
              "      <th>name</th>\n",
              "      <th>Rewards</th>\n",
              "    </tr>\n",
              "    <tr>\n",
              "      <th>city</th>\n",
              "      <th></th>\n",
              "      <th></th>\n",
              "    </tr>\n",
              "  </thead>\n",
              "  <tbody>\n",
              "    <tr>\n",
              "      <th>California</th>\n",
              "      <td>4</td>\n",
              "      <td>4</td>\n",
              "    </tr>\n",
              "    <tr>\n",
              "      <th>Georgia</th>\n",
              "      <td>2</td>\n",
              "      <td>2</td>\n",
              "    </tr>\n",
              "    <tr>\n",
              "      <th>Los Angeles</th>\n",
              "      <td>4</td>\n",
              "      <td>4</td>\n",
              "    </tr>\n",
              "  </tbody>\n",
              "</table>\n",
              "</div>"
            ],
            "text/plain": [
              "             name  Rewards\n",
              "city                      \n",
              "California      4        4\n",
              "Georgia         2        2\n",
              "Los Angeles     4        4"
            ]
          },
          "metadata": {
            "tags": []
          },
          "execution_count": 7
        }
      ]
    },
    {
      "cell_type": "markdown",
      "metadata": {
        "id": "iTbIqTXerldL",
        "colab_type": "text"
      },
      "source": [
        "Group by the **first column** and get **second column** as **lists** in rows"
      ]
    },
    {
      "cell_type": "code",
      "metadata": {
        "id": "BTKYTVsurmFm",
        "colab_type": "code",
        "colab": {
          "base_uri": "https://localhost:8080/",
          "height": 319
        },
        "outputId": "76f4a558-ef8e-42f3-83bc-e1fad2849fec"
      },
      "source": [
        "import pandas as pd\n",
        "df = pd.DataFrame( {'col1':['C1','C1','C2','C2','C2','C3','C2'], 'col2':[1,2,3,3,4,6,5]})\n",
        "print(\"Original DataFrame\")\n",
        "print(df)\n",
        "#groupby object created\n",
        "print(df.groupby('col1')['col2'])\n",
        "df = df.groupby('col1')['col2'].apply(list)\n",
        "print(\"\\nGroup on the col1:\")\n",
        "print(df)"
      ],
      "execution_count": 54,
      "outputs": [
        {
          "output_type": "stream",
          "text": [
            "Original DataFrame\n",
            "  col1  col2\n",
            "0   C1     1\n",
            "1   C1     2\n",
            "2   C2     3\n",
            "3   C2     3\n",
            "4   C2     4\n",
            "5   C3     6\n",
            "6   C2     5\n",
            "<pandas.core.groupby.generic.SeriesGroupBy object at 0x7f7f732b4198>\n",
            "\n",
            "Group on the col1:\n",
            "col1\n",
            "C1          [1, 2]\n",
            "C2    [3, 3, 4, 5]\n",
            "C3             [6]\n",
            "Name: col2, dtype: object\n"
          ],
          "name": "stdout"
        }
      ]
    },
    {
      "cell_type": "markdown",
      "metadata": {
        "id": "rUt-nlkHDZMi",
        "colab_type": "text"
      },
      "source": [
        "Delete **DataFrame** row(s) based on given column value"
      ]
    },
    {
      "cell_type": "code",
      "metadata": {
        "id": "jRbDKmgmDX1F",
        "colab_type": "code",
        "colab": {
          "base_uri": "https://localhost:8080/",
          "height": 264
        },
        "outputId": "0909694f-5af5-44ea-9ff8-ada2a264f567"
      },
      "source": [
        "import pandas as pd\n",
        "import numpy as np\n",
        "d = {'col1': [1, 4, 3, 4, 5], 'col2': [4, 5, 6, 7, 8], 'col3': [7, 8, 9, 0, 1]}\n",
        "df = pd.DataFrame(data=d)\n",
        "print('Original data frame ')\n",
        "print(df)\n",
        "#Alternative methods\n",
        "#df = df[df.col2 != 5]\n",
        "for index, row in df.iterrows():\n",
        "    if(row['col1'] == 4):\n",
        "      df = df.drop(index)\n",
        "df       "
      ],
      "execution_count": 11,
      "outputs": [
        {
          "output_type": "stream",
          "text": [
            "Original data frame \n",
            "   col1  col2  col3\n",
            "0     1     4     7\n",
            "1     4     5     8\n",
            "2     3     6     9\n",
            "3     4     7     0\n",
            "4     5     8     1\n"
          ],
          "name": "stdout"
        },
        {
          "output_type": "execute_result",
          "data": {
            "text/html": [
              "<div>\n",
              "<style scoped>\n",
              "    .dataframe tbody tr th:only-of-type {\n",
              "        vertical-align: middle;\n",
              "    }\n",
              "\n",
              "    .dataframe tbody tr th {\n",
              "        vertical-align: top;\n",
              "    }\n",
              "\n",
              "    .dataframe thead th {\n",
              "        text-align: right;\n",
              "    }\n",
              "</style>\n",
              "<table border=\"1\" class=\"dataframe\">\n",
              "  <thead>\n",
              "    <tr style=\"text-align: right;\">\n",
              "      <th></th>\n",
              "      <th>col1</th>\n",
              "      <th>col2</th>\n",
              "      <th>col3</th>\n",
              "    </tr>\n",
              "  </thead>\n",
              "  <tbody>\n",
              "    <tr>\n",
              "      <th>0</th>\n",
              "      <td>1</td>\n",
              "      <td>4</td>\n",
              "      <td>7</td>\n",
              "    </tr>\n",
              "    <tr>\n",
              "      <th>2</th>\n",
              "      <td>3</td>\n",
              "      <td>6</td>\n",
              "      <td>9</td>\n",
              "    </tr>\n",
              "    <tr>\n",
              "      <th>4</th>\n",
              "      <td>5</td>\n",
              "      <td>8</td>\n",
              "      <td>1</td>\n",
              "    </tr>\n",
              "  </tbody>\n",
              "</table>\n",
              "</div>"
            ],
            "text/plain": [
              "   col1  col2  col3\n",
              "0     1     4     7\n",
              "2     3     6     9\n",
              "4     5     8     1"
            ]
          },
          "metadata": {
            "tags": []
          },
          "execution_count": 11
        }
      ]
    },
    {
      "cell_type": "markdown",
      "metadata": {
        "id": "mTLvRyM3p7im",
        "colab_type": "text"
      },
      "source": [
        "**Insert** a given **column** at a specific column index in a DataFrame"
      ]
    },
    {
      "cell_type": "code",
      "metadata": {
        "id": "R18gYVBpp5Uy",
        "colab_type": "code",
        "colab": {
          "base_uri": "https://localhost:8080/",
          "height": 284
        },
        "outputId": "196310d8-f2d3-4b92-d14c-92614099f56f"
      },
      "source": [
        "import pandas as pd\n",
        "d = {'col2': [4, 5, 6, 9, 5], 'col3': [7, 8, 12, 1, 11]}\n",
        "df = pd.DataFrame(data=d)\n",
        "print(\"Original DataFrame\")\n",
        "print(df)\n",
        "new_col = [1, 2, 3, 4, 7]  \n",
        "# insert the said column at the beginning in the DataFrame\n",
        "idx = 0\n",
        "df.insert(loc=idx, column='col1', value=new_col)\n",
        "print(\"\\nNew DataFrame\")\n",
        "print(df)"
      ],
      "execution_count": 51,
      "outputs": [
        {
          "output_type": "stream",
          "text": [
            "Original DataFrame\n",
            "   col2  col3\n",
            "0     4     7\n",
            "1     5     8\n",
            "2     6    12\n",
            "3     9     1\n",
            "4     5    11\n",
            "\n",
            "New DataFrame\n",
            "   col1  col2  col3\n",
            "0     1     4     7\n",
            "1     2     5     8\n",
            "2     3     6    12\n",
            "3     4     9     1\n",
            "4     7     5    11\n"
          ],
          "name": "stdout"
        }
      ]
    },
    {
      "cell_type": "markdown",
      "metadata": {
        "id": "fOdffGhnInop",
        "colab_type": "text"
      },
      "source": [
        "Widen output display to see more columns"
      ]
    },
    {
      "cell_type": "code",
      "metadata": {
        "id": "1NLa4yUqIrkp",
        "colab_type": "code",
        "colab": {
          "base_uri": "https://localhost:8080/",
          "height": 141
        },
        "outputId": "d889fa15-d376-4984-9522-05fda730995a"
      },
      "source": [
        "d = {'col1': [1, 4, 3, 4, 5], 'col2': [4, 5, 6, 7, 8], 'col3': [7, 8, 9, 0, 1]}\n",
        "df = pd.DataFrame(data=d)\n",
        "pd.set_option('display.max_rows', 500)\n",
        "pd.set_option('display.max_columns', 500)\n",
        "pd.set_option('display.width', 1000)\n",
        "print(\"Original DataFrame\")\n",
        "print(df)"
      ],
      "execution_count": 12,
      "outputs": [
        {
          "output_type": "stream",
          "text": [
            "Original DataFrame\n",
            "   col1  col2  col3\n",
            "0     1     4     7\n",
            "1     4     5     8\n",
            "2     3     6     9\n",
            "3     4     7     0\n",
            "4     5     8     1\n"
          ],
          "name": "stdout"
        }
      ]
    },
    {
      "cell_type": "markdown",
      "metadata": {
        "id": "dOgrEpAMJvh0",
        "colab_type": "text"
      },
      "source": [
        "Replace all the **NaN** values with **Zero's** in a column"
      ]
    },
    {
      "cell_type": "code",
      "metadata": {
        "id": "xBj1cd38JwFl",
        "colab_type": "code",
        "colab": {}
      },
      "source": [
        "import pandas as pd\n",
        "import numpy as np\n",
        "exam_data = {'name': ['Anastasia', 'Dima', 'Katherine', 'James', 'Emily', 'Michael', 'Matthew', 'Laura', 'Kevin', 'Jonas'],\n",
        "        'score': [12.5, 9, 16.5, np.nan, 9, 20, 14.5, np.nan, 8, 19],\n",
        "        'attempts': [1, 3, 2, 3, 2, 3, 1, 1, 2, 1],\n",
        "        'qualify': ['yes', 'no', 'yes', 'no', 'no', 'yes', 'yes', 'no', 'no', 'yes']}\n",
        "df = pd.DataFrame(exam_data)\n",
        "print(\"Original DataFrame\")\n",
        "print(df)\n",
        "df =  df.fillna(0)\n",
        "print(\"\\nNew DataFrame replacing all NaN with 0:\")\n",
        "print(df)"
      ],
      "execution_count": 0,
      "outputs": []
    },
    {
      "cell_type": "markdown",
      "metadata": {
        "id": "HVncndi4K0Sr",
        "colab_type": "text"
      },
      "source": [
        "Convert **index** in a column and hide extra indexes created"
      ]
    },
    {
      "cell_type": "code",
      "metadata": {
        "id": "i4r8EdQXK0yJ",
        "colab_type": "code",
        "colab": {
          "base_uri": "https://localhost:8080/",
          "height": 692
        },
        "outputId": "19aee33f-d6fa-4e3b-f651-a4ba81e71610"
      },
      "source": [
        "import pandas as pd\n",
        "import numpy as np\n",
        "exam_data = {'name': ['Anastasia', 'Dima', 'Katherine', 'James', 'Emily', 'Michael', 'Matthew', 'Laura', 'Kevin', 'Jonas'],\n",
        "        'score': [12.5, 9, 16.5, np.nan, 9, 20, 14.5, np.nan, 8, 19],\n",
        "        'attempts': [1, 3, 2, 3, 2, 3, 1, 1, 2, 1],\n",
        "        'qualify': ['yes', 'no', 'yes', 'no', 'no', 'yes', 'yes', 'no', 'no', 'yes']}\n",
        "df = pd.DataFrame(exam_data)\n",
        "print(\"Original DataFrame\")\n",
        "print(df)\n",
        "print(\"\\nAfter converting index in a column:\")\n",
        "df.reset_index(level=0, inplace=True)\n",
        "print(df)\n",
        "print(\"\\nHiding index:\")\n",
        "print( df.to_string(index=False))"
      ],
      "execution_count": 13,
      "outputs": [
        {
          "output_type": "stream",
          "text": [
            "Original DataFrame\n",
            "        name  score  attempts qualify\n",
            "0  Anastasia   12.5         1     yes\n",
            "1       Dima    9.0         3      no\n",
            "2  Katherine   16.5         2     yes\n",
            "3      James    NaN         3      no\n",
            "4      Emily    9.0         2      no\n",
            "5    Michael   20.0         3     yes\n",
            "6    Matthew   14.5         1     yes\n",
            "7      Laura    NaN         1      no\n",
            "8      Kevin    8.0         2      no\n",
            "9      Jonas   19.0         1     yes\n",
            "\n",
            "After converting index in a column:\n",
            "   index       name  score  attempts qualify\n",
            "0      0  Anastasia   12.5         1     yes\n",
            "1      1       Dima    9.0         3      no\n",
            "2      2  Katherine   16.5         2     yes\n",
            "3      3      James    NaN         3      no\n",
            "4      4      Emily    9.0         2      no\n",
            "5      5    Michael   20.0         3     yes\n",
            "6      6    Matthew   14.5         1     yes\n",
            "7      7      Laura    NaN         1      no\n",
            "8      8      Kevin    8.0         2      no\n",
            "9      9      Jonas   19.0         1     yes\n",
            "\n",
            "Hiding index:\n",
            " index       name  score  attempts qualify\n",
            "     0  Anastasia   12.5         1     yes\n",
            "     1       Dima    9.0         3      no\n",
            "     2  Katherine   16.5         2     yes\n",
            "     3      James    NaN         3      no\n",
            "     4      Emily    9.0         2      no\n",
            "     5    Michael   20.0         3     yes\n",
            "     6    Matthew   14.5         1     yes\n",
            "     7      Laura    NaN         1      no\n",
            "     8      Kevin    8.0         2      no\n",
            "     9      Jonas   19.0         1     yes\n"
          ],
          "name": "stdout"
        }
      ]
    },
    {
      "cell_type": "markdown",
      "metadata": {
        "id": "ESan2wN6MQpp",
        "colab_type": "text"
      },
      "source": [
        "**Set a given value for particular cell in DataFrame**"
      ]
    },
    {
      "cell_type": "code",
      "metadata": {
        "id": "Xp1ezikxMRM4",
        "colab_type": "code",
        "colab": {
          "base_uri": "https://localhost:8080/",
          "height": 712
        },
        "outputId": "f65a7991-dc3a-444a-8e8e-751fefc2d688"
      },
      "source": [
        "import pandas as pd\n",
        "import numpy as np\n",
        "exam_data = {'name': ['Anastasia', 'Dima', 'Katherine', 'James', 'Emily', 'Michael', 'Matthew', 'Laura', 'Kevin', 'Jonas'],\n",
        "        'score': [12.5, 9, 16.5, np.nan, 9, 20, 14.5, np.nan, 8, 19],\n",
        "        'attempts': [1, 3, 2, 3, 2, 3, 1, 1, 2, 1],\n",
        "        'qualify': ['yes', 'no', 'yes', 'no', 'no', 'yes', 'yes', 'no', 'no', 'yes']}\n",
        "df = pd.DataFrame(exam_data)\n",
        "print(\"Original DataFrame\")\n",
        "print(df)\n",
        "print(\"\\nSet a given value for particular cell in the DataFrame\")\n",
        "df.set_value(8, 'score', 10.2)\n",
        "print(df)\n",
        "#alternative methods\n",
        "df.iloc[8,1]= 20\n",
        "#can use explilict only with iloc\n",
        "df.loc[0,'score'] = 10\n",
        "print(df)"
      ],
      "execution_count": 19,
      "outputs": [
        {
          "output_type": "stream",
          "text": [
            "Original DataFrame\n",
            "        name  score  attempts qualify\n",
            "0  Anastasia   12.5         1     yes\n",
            "1       Dima    9.0         3      no\n",
            "2  Katherine   16.5         2     yes\n",
            "3      James    NaN         3      no\n",
            "4      Emily    9.0         2      no\n",
            "5    Michael   20.0         3     yes\n",
            "6    Matthew   14.5         1     yes\n",
            "7      Laura    NaN         1      no\n",
            "8      Kevin    8.0         2      no\n",
            "9      Jonas   19.0         1     yes\n",
            "\n",
            "Set a given value for particular cell in the DataFrame\n",
            "        name  score  attempts qualify\n",
            "0  Anastasia   12.5         1     yes\n",
            "1       Dima    9.0         3      no\n",
            "2  Katherine   16.5         2     yes\n",
            "3      James    NaN         3      no\n",
            "4      Emily    9.0         2      no\n",
            "5    Michael   20.0         3     yes\n",
            "6    Matthew   14.5         1     yes\n",
            "7      Laura    NaN         1      no\n",
            "8      Kevin   10.2         2      no\n",
            "9      Jonas   19.0         1     yes\n",
            "        name  score  attempts qualify\n",
            "0  Anastasia   10.0         1     yes\n",
            "1       Dima    9.0         3      no\n",
            "2  Katherine   16.5         2     yes\n",
            "3      James    NaN         3      no\n",
            "4      Emily    9.0         2      no\n",
            "5    Michael   20.0         3     yes\n",
            "6    Matthew   14.5         1     yes\n",
            "7      Laura    NaN         1      no\n",
            "8      Kevin   20.0         2      no\n",
            "9      Jonas   19.0         1     yes\n"
          ],
          "name": "stdout"
        },
        {
          "output_type": "stream",
          "text": [
            "/usr/local/lib/python3.6/dist-packages/ipykernel_launcher.py:11: FutureWarning: set_value is deprecated and will be removed in a future release. Please use .at[] or .iat[] accessors instead\n",
            "  # This is added back by InteractiveShellApp.init_path()\n"
          ],
          "name": "stderr"
        }
      ]
    },
    {
      "cell_type": "markdown",
      "metadata": {
        "id": "p54SPOb3OAOB",
        "colab_type": "text"
      },
      "source": [
        ""
      ]
    },
    {
      "cell_type": "code",
      "metadata": {
        "id": "YsQ7iRkLOAtM",
        "colab_type": "code",
        "colab": {
          "base_uri": "https://localhost:8080/",
          "height": 444
        },
        "outputId": "72d516bb-680f-4f8e-eaef-a2d192f710ec"
      },
      "source": [
        "print(\"\\nNumber of NaN values in one or more columns:\")\n",
        "print(df.isnull())\n",
        "print(df.isnull().values)\n",
        "print(df.isnull().values.sum())"
      ],
      "execution_count": 25,
      "outputs": [
        {
          "output_type": "stream",
          "text": [
            "\n",
            "Number of NaN values in one or more columns:\n",
            "    name  score  attempts  qualify\n",
            "0  False  False     False    False\n",
            "1  False  False     False    False\n",
            "2  False  False     False    False\n",
            "3  False   True     False    False\n",
            "4  False  False     False    False\n",
            "5  False  False     False    False\n",
            "6  False  False     False    False\n",
            "7  False   True     False    False\n",
            "8  False  False     False    False\n",
            "9  False  False     False    False\n",
            "[[False False False False]\n",
            " [False False False False]\n",
            " [False False False False]\n",
            " [False  True False False]\n",
            " [False False False False]\n",
            " [False False False False]\n",
            " [False False False False]\n",
            " [False  True False False]\n",
            " [False False False False]\n",
            " [False False False False]]\n",
            "2\n"
          ],
          "name": "stdout"
        }
      ]
    },
    {
      "cell_type": "markdown",
      "metadata": {
        "id": "-r-nhAeHPOAN",
        "colab_type": "text"
      },
      "source": [
        "Drop a **list of rows**   from a specified DataFrame"
      ]
    },
    {
      "cell_type": "code",
      "metadata": {
        "id": "FtFuJIHVPOnt",
        "colab_type": "code",
        "colab": {
          "base_uri": "https://localhost:8080/",
          "height": 230
        },
        "outputId": "31f14df2-6f72-47c0-beb1-b5f9d293c93b"
      },
      "source": [
        "import pandas as pd\n",
        "import numpy as np\n",
        "d = {'col1': [1, 4, 3, 4, 5], 'col2': [4, 5, 6, 7, 8], 'col3': [7, 8, 9, 0, 1]}\n",
        "df = pd.DataFrame(d)\n",
        "print(\"Original DataFrame\")\n",
        "print(df)\n",
        "print(\"New DataFrame after removing 2nd & 4th rows:\")\n",
        "df = df.drop(df.index[[2,4]])\n",
        "print(df)"
      ],
      "execution_count": 26,
      "outputs": [
        {
          "output_type": "stream",
          "text": [
            "Original DataFrame\n",
            "   col1  col2  col3\n",
            "0     1     4     7\n",
            "1     4     5     8\n",
            "2     3     6     9\n",
            "3     4     7     0\n",
            "4     5     8     1\n",
            "New DataFrame after removing 2nd & 4th rows:\n",
            "   col1  col2  col3\n",
            "0     1     4     7\n",
            "1     4     5     8\n",
            "3     4     7     0\n"
          ],
          "name": "stdout"
        }
      ]
    },
    {
      "cell_type": "markdown",
      "metadata": {
        "id": "rqP4Wf70UIxU",
        "colab_type": "text"
      },
      "source": [
        "**Reset Index**"
      ]
    },
    {
      "cell_type": "code",
      "metadata": {
        "id": "WDRofGKQUJTm",
        "colab_type": "code",
        "colab": {
          "base_uri": "https://localhost:8080/",
          "height": 159
        },
        "outputId": "357b52ef-d14d-4d23-a819-fad46bf351e5"
      },
      "source": [
        "print(\"\\nAfter removing first and second rows\")\n",
        "df = df.drop([0, 1])\n",
        "print(df)\n",
        "print(\"\\nReset the Index:\")\n",
        "df = df.reset_index()\n",
        "print(df)"
      ],
      "execution_count": 27,
      "outputs": [
        {
          "output_type": "stream",
          "text": [
            "\n",
            "After removing first and second rows\n",
            "   col1  col2  col3\n",
            "3     4     7     0\n",
            "\n",
            "Reset the Index:\n",
            "   index  col1  col2  col3\n",
            "0      3     4     7     0\n"
          ],
          "name": "stdout"
        }
      ]
    },
    {
      "cell_type": "markdown",
      "metadata": {
        "id": "du5GOET6UcMj",
        "colab_type": "text"
      },
      "source": [
        "Devide a DataFrame in a **given ratio**"
      ]
    },
    {
      "cell_type": "code",
      "metadata": {
        "id": "jvFPEB9DUcs5",
        "colab_type": "code",
        "colab": {
          "base_uri": "https://localhost:8080/",
          "height": 515
        },
        "outputId": "b9eb5c42-a7a3-4a85-cf52-9d40ddb03ead"
      },
      "source": [
        "df = pd.DataFrame(np.random.randn(10, 2))\n",
        "print(\"Original DataFrame:\")\n",
        "print(df)\n",
        "part_70 = df.sample(frac=0.7,random_state=10)\n",
        "part_30 = df.drop(part_70.index)\n",
        "print(\"\\n70% of the said DataFrame:\")\n",
        "print(part_70)\n",
        "print(\"\\n30% of the said DataFrame:\")\n",
        "print(part_30)"
      ],
      "execution_count": 28,
      "outputs": [
        {
          "output_type": "stream",
          "text": [
            "Original DataFrame:\n",
            "          0         1\n",
            "0  0.288967  0.079889\n",
            "1  1.164540 -1.720052\n",
            "2  1.247026 -0.581743\n",
            "3 -1.254806  0.282391\n",
            "4  0.198113  0.333442\n",
            "5  1.493712  0.800747\n",
            "6  0.730433 -1.887387\n",
            "7 -1.327954 -0.463323\n",
            "8  0.342122  1.920221\n",
            "9 -1.226838 -0.406145\n",
            "\n",
            "70% of the said DataFrame:\n",
            "          0         1\n",
            "8  0.342122  1.920221\n",
            "2  1.247026 -0.581743\n",
            "5  1.493712  0.800747\n",
            "6  0.730433 -1.887387\n",
            "3 -1.254806  0.282391\n",
            "1  1.164540 -1.720052\n",
            "0  0.288967  0.079889\n",
            "\n",
            "30% of the said DataFrame:\n",
            "          0         1\n",
            "4  0.198113  0.333442\n",
            "7 -1.327954 -0.463323\n",
            "9 -1.226838 -0.406145\n"
          ],
          "name": "stdout"
        }
      ]
    },
    {
      "cell_type": "markdown",
      "metadata": {
        "id": "de3BYxXeVNJI",
        "colab_type": "text"
      },
      "source": [
        "**Combining** two **series** into a DataFrame using **concat**"
      ]
    },
    {
      "cell_type": "code",
      "metadata": {
        "id": "cupLvhv8VNyO",
        "colab_type": "code",
        "colab": {
          "base_uri": "https://localhost:8080/",
          "height": 372
        },
        "outputId": "27813838-cca7-4991-eb53-655b3ea26607"
      },
      "source": [
        "import pandas as pd\n",
        "import numpy as np\n",
        "s1 = pd.Series(['100', '200', 'python', '300.12', '400'])\n",
        "s2 = pd.Series(['10', '20', 'php', '30.12', '40'])\n",
        "print(\"Data Series:\")\n",
        "print(s1)\n",
        "print(s2)\n",
        "df = pd.concat([s1, s2], axis=1)\n",
        "print(\"New DataFrame combining two series:\")\n",
        "print(df)"
      ],
      "execution_count": 29,
      "outputs": [
        {
          "output_type": "stream",
          "text": [
            "Data Series:\n",
            "0       100\n",
            "1       200\n",
            "2    python\n",
            "3    300.12\n",
            "4       400\n",
            "dtype: object\n",
            "0       10\n",
            "1       20\n",
            "2      php\n",
            "3    30.12\n",
            "4       40\n",
            "dtype: object\n",
            "New DataFrame combining two series:\n",
            "        0      1\n",
            "0     100     10\n",
            "1     200     20\n",
            "2  python    php\n",
            "3  300.12  30.12\n",
            "4     400     40\n"
          ],
          "name": "stdout"
        }
      ]
    },
    {
      "cell_type": "markdown",
      "metadata": {
        "id": "BP00cGzBYTKq",
        "colab_type": "text"
      },
      "source": [
        "Find the row for where the value of a given column is maximum"
      ]
    },
    {
      "cell_type": "code",
      "metadata": {
        "id": "FrMhEyJVYTwh",
        "colab_type": "code",
        "colab": {
          "base_uri": "https://localhost:8080/",
          "height": 728
        },
        "outputId": "f8baf270-ae4a-47f2-e7e2-d7db3836b9a0"
      },
      "source": [
        "import pandas as pd\n",
        "d = {'col1': [1, 2, 3, 4, 7], 'col2': [4, 5, 6, 9, 5], 'col3': [7, 8, 12, 1, 11]}\n",
        "df = pd.DataFrame(data=d)\n",
        "print(\"Original DataFrame\")\n",
        "print(df)\n",
        "print(\"Row where col1 has maximum value:\")\n",
        "print(df['col1'].argmax())\n",
        "print(\"Row where col2 has maximum value:\")\n",
        "print(df['col2'].argmax())\n",
        "print(\"Row where col3 has maximum value:\")\n",
        "print(df['col3'].idxmax())\n",
        "#Wrong trail\n",
        "# df[df['col1'].max()]\n",
        "print(\"Row with highest value of columen3 \")\n",
        "print(df[df['col3'] == df.iloc[df['col3'].argmax(),2]])\n",
        "#Extracted the value of the row using Iloc providing colum and row then comparedd its value to get the row"
      ],
      "execution_count": 43,
      "outputs": [
        {
          "output_type": "stream",
          "text": [
            "Original DataFrame\n",
            "   col1  col2  col3\n",
            "0     1     4     7\n",
            "1     2     5     8\n",
            "2     3     6    12\n",
            "3     4     9     1\n",
            "4     7     5    11\n",
            "Row where col1 has maximum value:\n",
            "4\n",
            "Row where col2 has maximum value:\n",
            "3\n",
            "Row where col3 has maximum value:\n",
            "2\n",
            "\n",
            "   col1  col2  col3\n",
            "2     3     6    12\n"
          ],
          "name": "stdout"
        },
        {
          "output_type": "stream",
          "text": [
            "/usr/local/lib/python3.6/dist-packages/ipykernel_launcher.py:7: FutureWarning: \n",
            "The current behaviour of 'Series.argmax' is deprecated, use 'idxmax'\n",
            "instead.\n",
            "The behavior of 'argmax' will be corrected to return the positional\n",
            "maximum in the future. For now, use 'series.values.argmax' or\n",
            "'np.argmax(np.array(values))' to get the position of the maximum\n",
            "row.\n",
            "  import sys\n",
            "/usr/local/lib/python3.6/dist-packages/ipykernel_launcher.py:9: FutureWarning: \n",
            "The current behaviour of 'Series.argmax' is deprecated, use 'idxmax'\n",
            "instead.\n",
            "The behavior of 'argmax' will be corrected to return the positional\n",
            "maximum in the future. For now, use 'series.values.argmax' or\n",
            "'np.argmax(np.array(values))' to get the position of the maximum\n",
            "row.\n",
            "  if __name__ == '__main__':\n",
            "/usr/local/lib/python3.6/dist-packages/ipykernel_launcher.py:15: FutureWarning: \n",
            "The current behaviour of 'Series.argmax' is deprecated, use 'idxmax'\n",
            "instead.\n",
            "The behavior of 'argmax' will be corrected to return the positional\n",
            "maximum in the future. For now, use 'series.values.argmax' or\n",
            "'np.argmax(np.array(values))' to get the position of the maximum\n",
            "row.\n",
            "  from ipykernel import kernelapp as app\n"
          ],
          "name": "stderr"
        }
      ]
    },
    {
      "cell_type": "markdown",
      "metadata": {
        "id": "cS0cGvXBdtvz",
        "colab_type": "text"
      },
      "source": [
        "Miscellaneous "
      ]
    },
    {
      "cell_type": "code",
      "metadata": {
        "id": "JvnyW5vJduUg",
        "colab_type": "code",
        "colab": {
          "base_uri": "https://localhost:8080/",
          "height": 532
        },
        "outputId": "44055eff-2f1d-4513-89d5-dfb88f2ef8ff"
      },
      "source": [
        "\n",
        "import pandas as pd\n",
        "d = {'col1': [1, np.inf, -np.inf, 4, 7], 'col2': [4, 5, 6, 9, 5], 'col3': [7, 8, 12, 1, 11]}\n",
        "df = pd.DataFrame(data=d)\n",
        "print(df)\n",
        "#Removing infinite values\n",
        "df = df.replace([np.inf, -np.inf], np.nan)\n",
        "print(df)\n",
        "print(\"\\nIndex of 'col2'\")\n",
        "print(df.columns.get_loc(\"col2\"))\n",
        "\n",
        "print(\"\\nAll columns except 'col3':\")\n",
        "df2 = df.loc[:, df.columns != 'col3']\n",
        "print(df2)\n",
        "\n",
        "print(\"\\nLast 3 rows of the said DataFrame':\")\n",
        "print(df.tail(3))"
      ],
      "execution_count": 61,
      "outputs": [
        {
          "output_type": "stream",
          "text": [
            "   col1  col2  col3\n",
            "0   1.0     4     7\n",
            "1   inf     5     8\n",
            "2  -inf     6    12\n",
            "3   4.0     9     1\n",
            "4   7.0     5    11\n",
            "   col1  col2  col3\n",
            "0   1.0     4     7\n",
            "1   NaN     5     8\n",
            "2   NaN     6    12\n",
            "3   4.0     9     1\n",
            "4   7.0     5    11\n",
            "\n",
            "Index of 'col2'\n",
            "1\n",
            "\n",
            "All columns except 'col3':\n",
            "   col1  col2\n",
            "0   1.0     4\n",
            "1   NaN     5\n",
            "2   NaN     6\n",
            "3   4.0     9\n",
            "4   7.0     5\n",
            "\n",
            "Last 3 rows of the said DataFrame':\n",
            "   col1  col2  col3\n",
            "2   NaN     6    12\n",
            "3   4.0     9     1\n",
            "4   7.0     5    11\n"
          ],
          "name": "stdout"
        }
      ]
    }
  ]
}