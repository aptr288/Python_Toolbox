{
  "nbformat": 4,
  "nbformat_minor": 0,
  "metadata": {
    "colab": {
      "name": "List Comprehensions, Lambda and One line Code bits.ipynb",
      "version": "0.3.2",
      "provenance": [],
      "collapsed_sections": [],
      "include_colab_link": true
    },
    "kernelspec": {
      "name": "python3",
      "display_name": "Python 3"
    }
  },
  "cells": [
    {
      "cell_type": "markdown",
      "metadata": {
        "id": "view-in-github",
        "colab_type": "text"
      },
      "source": [
        "<a href=\"https://colab.research.google.com/github/aptr288/Python_Toolbox/blob/master/List_Comprehensions_Lambda_and_One_line_Code_bits.ipynb\" target=\"_parent\"><img src=\"https://colab.research.google.com/assets/colab-badge.svg\" alt=\"Open In Colab\"/></a>"
      ]
    },
    {
      "cell_type": "code",
      "metadata": {
        "id": "Fads4HapM_m2",
        "colab_type": "code",
        "outputId": "1e68c3fc-560f-49d1-d295-fb04a25f7596",
        "colab": {
          "base_uri": "https://localhost:8080/",
          "height": 52
        }
      },
      "source": [
        "#One Line if condition\n",
        "y = None\n",
        "num1 = 10\n",
        "num1 = 20 if(y is None) else num1\n",
        "print(num1)\n",
        "x = 1\n",
        "num1 = 10\n",
        "num1 = 20 if(x is None) else num1\n",
        "print(num1)"
      ],
      "execution_count": 1,
      "outputs": [
        {
          "output_type": "stream",
          "text": [
            "20\n",
            "10\n"
          ],
          "name": "stdout"
        }
      ]
    },
    {
      "cell_type": "code",
      "metadata": {
        "id": "bMdIerxEQujK",
        "colab_type": "code",
        "colab": {
          "base_uri": "https://localhost:8080/",
          "height": 52
        },
        "outputId": "af2b5e45-549c-43c1-ee82-79f1039636ad"
      },
      "source": [
        "#Plus one,  converting  list to sting to list\n",
        "a = [1,3,2]\n",
        "print(\"Initial string - \",a)\n",
        "a = [str(i) for i in a]\n",
        "s = ''.join(a)\n",
        "s = int(s)\n",
        "s = s + 1\n",
        "y = list(str(s))\n",
        "print(\"Plus one operation done \",y)"
      ],
      "execution_count": 5,
      "outputs": [
        {
          "output_type": "stream",
          "text": [
            "Initial string -  [1, 3, 2]\n",
            "Plus one operation done  ['1', '3', '3']\n"
          ],
          "name": "stdout"
        }
      ]
    },
    {
      "cell_type": "code",
      "metadata": {
        "id": "UevaPBYHRRWU",
        "colab_type": "code",
        "colab": {
          "base_uri": "https://localhost:8080/",
          "height": 35
        },
        "outputId": "b392fb96-b169-4c72-a668-631000b289d0"
      },
      "source": [
        "#Using Lambada with same code in 2 lines\n",
        "from functools import reduce\n",
        "li = [1,3,2]\n",
        "sum = reduce((lambda x, y: str(x) + str(y)), li)\n",
        "print (list(str(int(sum)+1)))"
      ],
      "execution_count": 6,
      "outputs": [
        {
          "output_type": "stream",
          "text": [
            "['1', '3', '3']\n"
          ],
          "name": "stdout"
        }
      ]
    },
    {
      "cell_type": "code",
      "metadata": {
        "id": "G2rlr15rRbtf",
        "colab_type": "code",
        "colab": {
          "base_uri": "https://localhost:8080/",
          "height": 35
        },
        "outputId": "2e9944da-eca8-43a4-a50d-b4686c6f73f8"
      },
      "source": [
        "# Map usage map applyies str to each element\n",
        "newstring = ''.join(map(str, [10, \"test\", 10.5]))\n",
        "print(newstring)"
      ],
      "execution_count": 7,
      "outputs": [
        {
          "output_type": "stream",
          "text": [
            "10test10.5\n"
          ],
          "name": "stdout"
        }
      ]
    },
    {
      "cell_type": "code",
      "metadata": {
        "id": "cpo5TdtdaILM",
        "colab_type": "code",
        "colab": {
          "base_uri": "https://localhost:8080/",
          "height": 35
        },
        "outputId": "58c02cc6-06fa-41a1-c1ed-54ce78c65a14"
      },
      "source": [
        "li = range(10)\n",
        "evenNumbers = list(filter(lambda x: x%2 ==0, li))\n",
        "print(evenNumbers)"
      ],
      "execution_count": 25,
      "outputs": [
        {
          "output_type": "stream",
          "text": [
            "[0, 2, 4, 6, 8]\n"
          ],
          "name": "stdout"
        }
      ]
    },
    {
      "cell_type": "code",
      "metadata": {
        "id": "xzT2WKryRitJ",
        "colab_type": "code",
        "colab": {
          "base_uri": "https://localhost:8080/",
          "height": 35
        },
        "outputId": "db386789-3593-4755-ad67-18303c885436"
      },
      "source": [
        "#List comprehensions to find intersection\n",
        "list_a = [1, 2, 3, 4]\n",
        "list_b = [2, 3, 4, 5]\n",
        "\n",
        "common_num = [a for a in list_a for b in list_b if a == b ]\n",
        "print(common_num)"
      ],
      "execution_count": 9,
      "outputs": [
        {
          "output_type": "stream",
          "text": [
            "[2, 3, 4]\n"
          ],
          "name": "stdout"
        }
      ]
    },
    {
      "cell_type": "code",
      "metadata": {
        "id": "H-MnfqOvR4NG",
        "colab_type": "code",
        "colab": {
          "base_uri": "https://localhost:8080/",
          "height": 52
        },
        "outputId": "a30d484c-12c1-41fc-c7cb-77fcfbd9d6a3"
      },
      "source": [
        "dict = {1:2}\n",
        "print(dict.get(3))\n",
        "print(dict.setdefault(4,6))"
      ],
      "execution_count": 12,
      "outputs": [
        {
          "output_type": "stream",
          "text": [
            "None\n",
            "6\n"
          ],
          "name": "stdout"
        }
      ]
    },
    {
      "cell_type": "code",
      "metadata": {
        "id": "Q4zKQu-4Up-H",
        "colab_type": "code",
        "colab": {
          "base_uri": "https://localhost:8080/",
          "height": 52
        },
        "outputId": "34dc902b-0fe4-4386-a13a-35c9cfd572b7"
      },
      "source": [
        "givenString = 'The words here are to be sorted and the repeated words are to be removed'\n",
        "words = givenString.split(\" \")\n",
        "print(words)\n",
        "print(' '.join(sorted(set(words))))"
      ],
      "execution_count": 19,
      "outputs": [
        {
          "output_type": "stream",
          "text": [
            "['The', 'words', 'here', 'are', 'to', 'be', 'sorted', 'and', 'the', 'repeated', 'words', 'are', 'to', 'be', 'removed']\n",
            "The and are be here removed repeated sorted the to words\n"
          ],
          "name": "stdout"
        }
      ]
    },
    {
      "cell_type": "code",
      "metadata": {
        "id": "pZ81luP2WuX4",
        "colab_type": "code",
        "colab": {
          "base_uri": "https://localhost:8080/",
          "height": 35
        },
        "outputId": "0f888a15-6022-4464-a99e-15d92af5f384"
      },
      "source": [
        "givenstr = \"hello world! 123\"\n",
        "d = {\"Digits\":0,\"Letters\":0}\n",
        "for c in givenstr:\n",
        "  if(c.isdigit()):\n",
        "    d[\"Digits\"] +=1\n",
        "  if(c.isalpha()):\n",
        "    d[\"Letters\"] +=1\n",
        "print(d)\n",
        "    "
      ],
      "execution_count": 21,
      "outputs": [
        {
          "output_type": "stream",
          "text": [
            "{'Digits': 3, 'Letters': 10}\n"
          ],
          "name": "stdout"
        }
      ]
    },
    {
      "cell_type": "code",
      "metadata": {
        "id": "F_131QHGX82d",
        "colab_type": "code",
        "colab": {
          "base_uri": "https://localhost:8080/",
          "height": 35
        },
        "outputId": "f380be1c-15e6-43d8-e3e7-5212ba7821b2"
      },
      "source": [
        "#The words here are to be counted and the frequencies are to be displayed\n",
        "\n",
        "#freq.get(word,0) here default zero value is provided if the word is not present in dict already\n",
        "#so we are using the dict to calculate the frequency of the words present\n",
        "givenString = ' hello one two three I am checking hello one two three'\n",
        "freq = {}\n",
        "words = givenString.split(\" \")\n",
        "for word in words:\n",
        "  freq[word] = freq.get(word,0)+1\n",
        "print(freq)"
      ],
      "execution_count": 23,
      "outputs": [
        {
          "output_type": "stream",
          "text": [
            "{'': 1, 'hello': 2, 'one': 2, 'two': 2, 'three': 2, 'I': 1, 'am': 1, 'checking': 1}\n"
          ],
          "name": "stdout"
        }
      ]
    }
  ]
}